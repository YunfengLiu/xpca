{
 "cells": [
  {
   "cell_type": "markdown",
   "id": "46de0aab-1978-4d90-9c62-bd81baa12815",
   "metadata": {},
   "source": [
    "# EWMPCA new data alpha seeking"
   ]
  },
  {
   "cell_type": "code",
   "execution_count": 1,
   "id": "0ffd5541-c943-4c5f-9710-ff679587ee9d",
   "metadata": {},
   "outputs": [],
   "source": [
    "first_year = 2016; last_year = 2020;"
   ]
  },
  {
   "cell_type": "code",
   "execution_count": 2,
   "id": "a70682c8-4aeb-4999-ae82-6d7db3900444",
   "metadata": {},
   "outputs": [
    {
     "name": "stderr",
     "output_type": "stream",
     "text": [
      "Loading required package: quantmod\n",
      "\n",
      "Loading required package: xts\n",
      "\n",
      "Loading required package: zoo\n",
      "\n",
      "\n",
      "Attaching package: ‘zoo’\n",
      "\n",
      "\n",
      "The following objects are masked from ‘package:base’:\n",
      "\n",
      "    as.Date, as.Date.numeric\n",
      "\n",
      "\n",
      "Loading required package: TTR\n",
      "\n",
      "Registered S3 method overwritten by 'quantmod':\n",
      "  method            from\n",
      "  as.zoo.data.frame zoo \n",
      "\n",
      "‘getSymbols’ currently uses auto.assign=TRUE by default, but will\n",
      "use auto.assign=FALSE in 0.5-0. You will still be able to use\n",
      "‘loadSymbols’ to automatically load data. getOption(\"getSymbols.env\")\n",
      "and getOption(\"getSymbols.auto.assign\") will still be checked for\n",
      "alternate defaults.\n",
      "\n",
      "This message is shown once per session and may be disabled by setting \n",
      "options(\"getSymbols.warning4.0\"=FALSE). See ?getSymbols for details.\n",
      "\n",
      "\n"
     ]
    },
    {
     "data": {
      "text/html": [
       "<style>\n",
       ".list-inline {list-style: none; margin:0; padding: 0}\n",
       ".list-inline>li {display: inline-block}\n",
       ".list-inline>li:not(:last-child)::after {content: \"\\00b7\"; padding: 0 .5ex}\n",
       "</style>\n",
       "<ol class=list-inline><li>'NVDA'</li><li>'NFLX'</li><li>'AMZN'</li><li>'ISIG'</li><li>'AAPL'</li></ol>\n"
      ],
      "text/latex": [
       "\\begin{enumerate*}\n",
       "\\item 'NVDA'\n",
       "\\item 'NFLX'\n",
       "\\item 'AMZN'\n",
       "\\item 'ISIG'\n",
       "\\item 'AAPL'\n",
       "\\end{enumerate*}\n"
      ],
      "text/markdown": [
       "1. 'NVDA'\n",
       "2. 'NFLX'\n",
       "3. 'AMZN'\n",
       "4. 'ISIG'\n",
       "5. 'AAPL'\n",
       "\n",
       "\n"
      ],
      "text/plain": [
       "[1] \"NVDA\" \"NFLX\" \"AMZN\" \"ISIG\" \"AAPL\""
      ]
     },
     "metadata": {},
     "output_type": "display_data"
    }
   ],
   "source": [
    "\n",
    "if (!require(\"quantmod\")) {\n",
    "    install.packages(\"quantmod\");\n",
    "    library(\"quantmod\");\n",
    "}\n",
    "\n",
    "getSymbols(c(\"NVDA\", \"NFLX\", \"AMZN\", \"ISIG\", \"AAPL\"),src=\"yahoo\");\n",
    "\n",
    "df = cbind(\n",
    "  coredata(NVDA[\"2008-01/2021-08\"])[,4],\n",
    "  coredata(NFLX[\"2008-01/2021-08\"])[,4],\n",
    "  coredata(AMZN[\"2008-01/2021-08\"])[,4],\n",
    "  coredata(ISIG[\"2008-01/2021-08\"])[,4],\n",
    "  coredata(AAPL[\"2008-01/2021-08\"])[,4]\n",
    ");\n",
    "\n",
    "df = na.omit(df);\n",
    "tmp = c();\n",
    "for(i in 1:5) {\n",
    "    tmp = cbind(tmp, diff(log(df[,i])));\n",
    "}\n",
    "\n",
    "df = as.data.frame(tmp);\n"
   ]
  },
  {
   "cell_type": "code",
   "execution_count": 3,
   "id": "173abc1e-da34-4f06-9e27-85c720dbd157",
   "metadata": {},
   "outputs": [
    {
     "data": {
      "text/html": [
       "<table class=\"dataframe\">\n",
       "<caption>A data.frame: 6 × 5</caption>\n",
       "<thead>\n",
       "\t<tr><th></th><th scope=col>V1</th><th scope=col>V2</th><th scope=col>V3</th><th scope=col>V4</th><th scope=col>V5</th></tr>\n",
       "\t<tr><th></th><th scope=col>&lt;dbl&gt;</th><th scope=col>&lt;dbl&gt;</th><th scope=col>&lt;dbl&gt;</th><th scope=col>&lt;dbl&gt;</th><th scope=col>&lt;dbl&gt;</th></tr>\n",
       "</thead>\n",
       "<tbody>\n",
       "\t<tr><th scope=row>3435</th><td>-0.007542762</td><td> 0.0001444892</td><td> 0.012146235</td><td>-0.044154329</td><td>-0.0006014232</td></tr>\n",
       "\t<tr><th scope=row>3436</th><td> 0.019088940</td><td>-0.0105904877</td><td>-0.001998528</td><td>-0.005486982</td><td>-0.0084569537</td></tr>\n",
       "\t<tr><th scope=row>3437</th><td>-0.006549162</td><td> 0.0046278264</td><td> 0.005085305</td><td> 0.028476500</td><td>-0.0055424814</td></tr>\n",
       "\t<tr><th scope=row>3438</th><td> 0.025413000</td><td> 0.0158698926</td><td> 0.010090620</td><td> 0.078395939</td><td> 0.0071588946</td></tr>\n",
       "\t<tr><th scope=row>3439</th><td> 0.002294609</td><td> 0.0129057167</td><td> 0.021249673</td><td> 0.043537710</td><td> 0.0299637224</td></tr>\n",
       "\t<tr><th scope=row>3440</th><td>-0.013445054</td><td> 0.0053022646</td><td> 0.014282715</td><td>-0.053475680</td><td>-0.0084604080</td></tr>\n",
       "</tbody>\n",
       "</table>\n"
      ],
      "text/latex": [
       "A data.frame: 6 × 5\n",
       "\\begin{tabular}{r|lllll}\n",
       "  & V1 & V2 & V3 & V4 & V5\\\\\n",
       "  & <dbl> & <dbl> & <dbl> & <dbl> & <dbl>\\\\\n",
       "\\hline\n",
       "\t3435 & -0.007542762 &  0.0001444892 &  0.012146235 & -0.044154329 & -0.0006014232\\\\\n",
       "\t3436 &  0.019088940 & -0.0105904877 & -0.001998528 & -0.005486982 & -0.0084569537\\\\\n",
       "\t3437 & -0.006549162 &  0.0046278264 &  0.005085305 &  0.028476500 & -0.0055424814\\\\\n",
       "\t3438 &  0.025413000 &  0.0158698926 &  0.010090620 &  0.078395939 &  0.0071588946\\\\\n",
       "\t3439 &  0.002294609 &  0.0129057167 &  0.021249673 &  0.043537710 &  0.0299637224\\\\\n",
       "\t3440 & -0.013445054 &  0.0053022646 &  0.014282715 & -0.053475680 & -0.0084604080\\\\\n",
       "\\end{tabular}\n"
      ],
      "text/markdown": [
       "\n",
       "A data.frame: 6 × 5\n",
       "\n",
       "| <!--/--> | V1 &lt;dbl&gt; | V2 &lt;dbl&gt; | V3 &lt;dbl&gt; | V4 &lt;dbl&gt; | V5 &lt;dbl&gt; |\n",
       "|---|---|---|---|---|---|\n",
       "| 3435 | -0.007542762 |  0.0001444892 |  0.012146235 | -0.044154329 | -0.0006014232 |\n",
       "| 3436 |  0.019088940 | -0.0105904877 | -0.001998528 | -0.005486982 | -0.0084569537 |\n",
       "| 3437 | -0.006549162 |  0.0046278264 |  0.005085305 |  0.028476500 | -0.0055424814 |\n",
       "| 3438 |  0.025413000 |  0.0158698926 |  0.010090620 |  0.078395939 |  0.0071588946 |\n",
       "| 3439 |  0.002294609 |  0.0129057167 |  0.021249673 |  0.043537710 |  0.0299637224 |\n",
       "| 3440 | -0.013445054 |  0.0053022646 |  0.014282715 | -0.053475680 | -0.0084604080 |\n",
       "\n"
      ],
      "text/plain": [
       "     V1           V2            V3           V4           V5           \n",
       "3435 -0.007542762  0.0001444892  0.012146235 -0.044154329 -0.0006014232\n",
       "3436  0.019088940 -0.0105904877 -0.001998528 -0.005486982 -0.0084569537\n",
       "3437 -0.006549162  0.0046278264  0.005085305  0.028476500 -0.0055424814\n",
       "3438  0.025413000  0.0158698926  0.010090620  0.078395939  0.0071588946\n",
       "3439  0.002294609  0.0129057167  0.021249673  0.043537710  0.0299637224\n",
       "3440 -0.013445054  0.0053022646  0.014282715 -0.053475680 -0.0084604080"
      ]
     },
     "metadata": {},
     "output_type": "display_data"
    }
   ],
   "source": [
    "tail(df)"
   ]
  },
  {
   "cell_type": "code",
   "execution_count": 4,
   "id": "7aa0fee1-c2d2-4dfd-9ce0-084c0779ffa8",
   "metadata": {},
   "outputs": [],
   "source": [
    "Z = prcomp(df[,1:3], retx = TRUE)"
   ]
  },
  {
   "cell_type": "code",
   "execution_count": 5,
   "id": "be7474f3-2203-4bed-bd95-2d480a5f8f21",
   "metadata": {},
   "outputs": [],
   "source": [
    "classical_pca = Z$x;"
   ]
  },
  {
   "cell_type": "code",
   "execution_count": 6,
   "id": "5ed149d8-113c-47f6-9517-b61bdd5f1321",
   "metadata": {},
   "outputs": [
    {
     "data": {
      "text/html": [
       "<table class=\"dataframe\">\n",
       "<caption>A matrix: 6 × 3 of type dbl</caption>\n",
       "<thead>\n",
       "\t<tr><th scope=col>PC1</th><th scope=col>PC2</th><th scope=col>PC3</th></tr>\n",
       "</thead>\n",
       "<tbody>\n",
       "\t<tr><td>-0.018529836</td><td> 0.0005079022</td><td> 0.004918969</td></tr>\n",
       "\t<tr><td>-0.122159714</td><td>-0.0322014432</td><td> 0.020335199</td></tr>\n",
       "\t<tr><td>-0.058381518</td><td>-0.0872855309</td><td>-0.034196506</td></tr>\n",
       "\t<tr><td>-0.039948533</td><td> 0.0586329867</td><td> 0.001221824</td></tr>\n",
       "\t<tr><td> 0.006153686</td><td> 0.0430111844</td><td> 0.042123352</td></tr>\n",
       "\t<tr><td> 0.031050292</td><td>-0.0642012620</td><td> 0.020683488</td></tr>\n",
       "</tbody>\n",
       "</table>\n"
      ],
      "text/latex": [
       "A matrix: 6 × 3 of type dbl\n",
       "\\begin{tabular}{lll}\n",
       " PC1 & PC2 & PC3\\\\\n",
       "\\hline\n",
       "\t -0.018529836 &  0.0005079022 &  0.004918969\\\\\n",
       "\t -0.122159714 & -0.0322014432 &  0.020335199\\\\\n",
       "\t -0.058381518 & -0.0872855309 & -0.034196506\\\\\n",
       "\t -0.039948533 &  0.0586329867 &  0.001221824\\\\\n",
       "\t  0.006153686 &  0.0430111844 &  0.042123352\\\\\n",
       "\t  0.031050292 & -0.0642012620 &  0.020683488\\\\\n",
       "\\end{tabular}\n"
      ],
      "text/markdown": [
       "\n",
       "A matrix: 6 × 3 of type dbl\n",
       "\n",
       "| PC1 | PC2 | PC3 |\n",
       "|---|---|---|\n",
       "| -0.018529836 |  0.0005079022 |  0.004918969 |\n",
       "| -0.122159714 | -0.0322014432 |  0.020335199 |\n",
       "| -0.058381518 | -0.0872855309 | -0.034196506 |\n",
       "| -0.039948533 |  0.0586329867 |  0.001221824 |\n",
       "|  0.006153686 |  0.0430111844 |  0.042123352 |\n",
       "|  0.031050292 | -0.0642012620 |  0.020683488 |\n",
       "\n"
      ],
      "text/plain": [
       "     PC1          PC2           PC3         \n",
       "[1,] -0.018529836  0.0005079022  0.004918969\n",
       "[2,] -0.122159714 -0.0322014432  0.020335199\n",
       "[3,] -0.058381518 -0.0872855309 -0.034196506\n",
       "[4,] -0.039948533  0.0586329867  0.001221824\n",
       "[5,]  0.006153686  0.0430111844  0.042123352\n",
       "[6,]  0.031050292 -0.0642012620  0.020683488"
      ]
     },
     "metadata": {},
     "output_type": "display_data"
    }
   ],
   "source": [
    "head(classical_pca)"
   ]
  },
  {
   "cell_type": "code",
   "execution_count": 7,
   "id": "4a56086c-2c11-4428-8d30-1fb78c750cfc",
   "metadata": {},
   "outputs": [],
   "source": [
    "source(\"xpca.R\")"
   ]
  },
  {
   "cell_type": "code",
   "execution_count": 8,
   "id": "7a9ae8fc-9dfa-4742-8799-241efe7ab234",
   "metadata": {},
   "outputs": [
    {
     "name": "stdout",
     "output_type": "stream",
     "text": [
      "[1] \"eigen values:\"\n",
      "[1] 0.000744390 0.001659226 0.002425030\n",
      "[1] \"eigen vectors:\"\n",
      "          [,1]       [,2]        [,3]\n",
      "[1,] 0.7895405  0.4858891  0.37488354\n",
      "[2,] 0.5108206 -0.8588753  0.03735733\n",
      "[3,] 0.3401297  0.1620031 -0.92631893\n"
     ]
    }
   ],
   "source": [
    "minLimit = min(dim(df)[1], 100);\n",
    "cov_init = cov(df[1:minLimit,1:3]);\n",
    "W_init = sorted_eig(cov_init);"
   ]
  },
  {
   "cell_type": "code",
   "execution_count": 9,
   "id": "79b95888-7638-4b44-a4f0-e7acdb78b1b0",
   "metadata": {},
   "outputs": [
    {
     "data": {
      "text/html": [
       "<table class=\"dataframe\">\n",
       "<caption>A matrix: 3 × 3 of type dbl</caption>\n",
       "<tbody>\n",
       "\t<tr><td>0.7895405</td><td> 0.4858891</td><td> 0.37488354</td></tr>\n",
       "\t<tr><td>0.5108206</td><td>-0.8588753</td><td> 0.03735733</td></tr>\n",
       "\t<tr><td>0.3401297</td><td> 0.1620031</td><td>-0.92631893</td></tr>\n",
       "</tbody>\n",
       "</table>\n"
      ],
      "text/latex": [
       "A matrix: 3 × 3 of type dbl\n",
       "\\begin{tabular}{lll}\n",
       "\t 0.7895405 &  0.4858891 &  0.37488354\\\\\n",
       "\t 0.5108206 & -0.8588753 &  0.03735733\\\\\n",
       "\t 0.3401297 &  0.1620031 & -0.92631893\\\\\n",
       "\\end{tabular}\n"
      ],
      "text/markdown": [
       "\n",
       "A matrix: 3 × 3 of type dbl\n",
       "\n",
       "| 0.7895405 |  0.4858891 |  0.37488354 |\n",
       "| 0.5108206 | -0.8588753 |  0.03735733 |\n",
       "| 0.3401297 |  0.1620031 | -0.92631893 |\n",
       "\n"
      ],
      "text/plain": [
       "     [,1]      [,2]       [,3]       \n",
       "[1,] 0.7895405  0.4858891  0.37488354\n",
       "[2,] 0.5108206 -0.8588753  0.03735733\n",
       "[3,] 0.3401297  0.1620031 -0.92631893"
      ]
     },
     "metadata": {},
     "output_type": "display_data"
    }
   ],
   "source": [
    "W_init"
   ]
  },
  {
   "cell_type": "code",
   "execution_count": 10,
   "id": "98587401-6a6d-46e6-8350-70cf685a8178",
   "metadata": {},
   "outputs": [],
   "source": [
    "Z2 = ewmpca(df[,1:3], 0.9305, W_init, return_extra = TRUE);\n",
    "ewm_pca = Z2$pca;"
   ]
  },
  {
   "cell_type": "code",
   "execution_count": 11,
   "id": "545b74a2-6f56-4ca8-8d68-bd041c7165cb",
   "metadata": {},
   "outputs": [
    {
     "data": {
      "text/html": [
       "<style>\n",
       ".list-inline {list-style: none; margin:0; padding: 0}\n",
       ".list-inline>li {display: inline-block}\n",
       ".list-inline>li:not(:last-child)::after {content: \"\\00b7\"; padding: 0 .5ex}\n",
       "</style>\n",
       "<ol class=list-inline><li>3440</li><li>3</li></ol>\n"
      ],
      "text/latex": [
       "\\begin{enumerate*}\n",
       "\\item 3440\n",
       "\\item 3\n",
       "\\end{enumerate*}\n"
      ],
      "text/markdown": [
       "1. 3440\n",
       "2. 3\n",
       "\n",
       "\n"
      ],
      "text/plain": [
       "[1] 3440    3"
      ]
     },
     "metadata": {},
     "output_type": "display_data"
    }
   ],
   "source": [
    "dim(ewm_pca)"
   ]
  },
  {
   "cell_type": "code",
   "execution_count": 12,
   "id": "6130d767-b34d-4150-a25d-1edca469baac",
   "metadata": {},
   "outputs": [
    {
     "data": {
      "text/html": [
       "<table class=\"dataframe\">\n",
       "<caption>A matrix: 6 × 3 of type dbl</caption>\n",
       "<tbody>\n",
       "\t<tr><td> 0.000000000</td><td> 0.000000e+00</td><td> 0.000000e+00</td></tr>\n",
       "\t<tr><td>-0.102129371</td><td> 6.938894e-18</td><td> 3.469447e-18</td></tr>\n",
       "\t<tr><td>-0.047146888</td><td>-5.709182e-02</td><td>-5.631499e-02</td></tr>\n",
       "\t<tr><td> 0.008158715</td><td> 6.121671e-02</td><td> 1.112047e-02</td></tr>\n",
       "\t<tr><td> 0.038417237</td><td> 2.254948e-02</td><td> 4.730132e-02</td></tr>\n",
       "\t<tr><td>-0.075309766</td><td> 3.069198e-02</td><td> 4.148502e-03</td></tr>\n",
       "</tbody>\n",
       "</table>\n"
      ],
      "text/latex": [
       "A matrix: 6 × 3 of type dbl\n",
       "\\begin{tabular}{lll}\n",
       "\t  0.000000000 &  0.000000e+00 &  0.000000e+00\\\\\n",
       "\t -0.102129371 &  6.938894e-18 &  3.469447e-18\\\\\n",
       "\t -0.047146888 & -5.709182e-02 & -5.631499e-02\\\\\n",
       "\t  0.008158715 &  6.121671e-02 &  1.112047e-02\\\\\n",
       "\t  0.038417237 &  2.254948e-02 &  4.730132e-02\\\\\n",
       "\t -0.075309766 &  3.069198e-02 &  4.148502e-03\\\\\n",
       "\\end{tabular}\n"
      ],
      "text/markdown": [
       "\n",
       "A matrix: 6 × 3 of type dbl\n",
       "\n",
       "|  0.000000000 |  0.000000e+00 |  0.000000e+00 |\n",
       "| -0.102129371 |  6.938894e-18 |  3.469447e-18 |\n",
       "| -0.047146888 | -5.709182e-02 | -5.631499e-02 |\n",
       "|  0.008158715 |  6.121671e-02 |  1.112047e-02 |\n",
       "|  0.038417237 |  2.254948e-02 |  4.730132e-02 |\n",
       "| -0.075309766 |  3.069198e-02 |  4.148502e-03 |\n",
       "\n"
      ],
      "text/plain": [
       "     [,1]         [,2]          [,3]         \n",
       "[1,]  0.000000000  0.000000e+00  0.000000e+00\n",
       "[2,] -0.102129371  6.938894e-18  3.469447e-18\n",
       "[3,] -0.047146888 -5.709182e-02 -5.631499e-02\n",
       "[4,]  0.008158715  6.121671e-02  1.112047e-02\n",
       "[5,]  0.038417237  2.254948e-02  4.730132e-02\n",
       "[6,] -0.075309766  3.069198e-02  4.148502e-03"
      ]
     },
     "metadata": {},
     "output_type": "display_data"
    }
   ],
   "source": [
    "head(ewm_pca)"
   ]
  },
  {
   "cell_type": "code",
   "execution_count": 13,
   "id": "00aeb133-3af9-4197-896c-691860c3263c",
   "metadata": {},
   "outputs": [],
   "source": [
    "cross_cov = cov(cbind(classical_pca, ewm_pca));"
   ]
  },
  {
   "cell_type": "code",
   "execution_count": 14,
   "id": "8e77ebae-a87a-4484-bf42-f7e9bcf60048",
   "metadata": {},
   "outputs": [
    {
     "data": {
      "text/html": [
       "<table class=\"dataframe\">\n",
       "<caption>A matrix: 6 × 6 of type dbl</caption>\n",
       "<thead>\n",
       "\t<tr><th></th><th scope=col>PC1</th><th scope=col>PC2</th><th scope=col>PC3</th><th scope=col></th><th scope=col></th><th scope=col></th></tr>\n",
       "</thead>\n",
       "<tbody>\n",
       "\t<tr><th scope=row>PC1</th><td> 1.508296e-03</td><td>1.499713e-18</td><td>4.425837e-19</td><td> 1.363713e-03</td><td> 1.744698e-04</td><td>-1.468627e-05</td></tr>\n",
       "\t<tr><th scope=row>PC2</th><td> 1.499713e-18</td><td>6.697502e-04</td><td>6.937195e-19</td><td> 4.532105e-05</td><td> 1.870268e-05</td><td> 7.510573e-05</td></tr>\n",
       "\t<tr><th scope=row>PC3</th><td> 4.425837e-19</td><td>6.937195e-19</td><td>3.368744e-04</td><td> 2.162219e-05</td><td> 5.102056e-05</td><td> 8.272526e-05</td></tr>\n",
       "\t<tr><th scope=row></th><td> 1.363713e-03</td><td>4.532105e-05</td><td>2.162219e-05</td><td> 1.517716e-03</td><td> 1.052573e-04</td><td>-1.188522e-05</td></tr>\n",
       "\t<tr><th scope=row></th><td> 1.744698e-04</td><td>1.870268e-05</td><td>5.102056e-05</td><td> 1.052573e-04</td><td> 5.050015e-04</td><td>-3.305444e-05</td></tr>\n",
       "\t<tr><th scope=row></th><td>-1.468627e-05</td><td>7.510573e-05</td><td>8.272526e-05</td><td>-1.188522e-05</td><td>-3.305444e-05</td><td> 2.345002e-04</td></tr>\n",
       "</tbody>\n",
       "</table>\n"
      ],
      "text/latex": [
       "A matrix: 6 × 6 of type dbl\n",
       "\\begin{tabular}{r|llllll}\n",
       "  & PC1 & PC2 & PC3 &  &  & \\\\\n",
       "\\hline\n",
       "\tPC1 &  1.508296e-03 & 1.499713e-18 & 4.425837e-19 &  1.363713e-03 &  1.744698e-04 & -1.468627e-05\\\\\n",
       "\tPC2 &  1.499713e-18 & 6.697502e-04 & 6.937195e-19 &  4.532105e-05 &  1.870268e-05 &  7.510573e-05\\\\\n",
       "\tPC3 &  4.425837e-19 & 6.937195e-19 & 3.368744e-04 &  2.162219e-05 &  5.102056e-05 &  8.272526e-05\\\\\n",
       "\t &  1.363713e-03 & 4.532105e-05 & 2.162219e-05 &  1.517716e-03 &  1.052573e-04 & -1.188522e-05\\\\\n",
       "\t &  1.744698e-04 & 1.870268e-05 & 5.102056e-05 &  1.052573e-04 &  5.050015e-04 & -3.305444e-05\\\\\n",
       "\t & -1.468627e-05 & 7.510573e-05 & 8.272526e-05 & -1.188522e-05 & -3.305444e-05 &  2.345002e-04\\\\\n",
       "\\end{tabular}\n"
      ],
      "text/markdown": [
       "\n",
       "A matrix: 6 × 6 of type dbl\n",
       "\n",
       "| <!--/--> | PC1 | PC2 | PC3 | <!----> | <!----> | <!----> |\n",
       "|---|---|---|---|---|---|---|\n",
       "| PC1 |  1.508296e-03 | 1.499713e-18 | 4.425837e-19 |  1.363713e-03 |  1.744698e-04 | -1.468627e-05 |\n",
       "| PC2 |  1.499713e-18 | 6.697502e-04 | 6.937195e-19 |  4.532105e-05 |  1.870268e-05 |  7.510573e-05 |\n",
       "| PC3 |  4.425837e-19 | 6.937195e-19 | 3.368744e-04 |  2.162219e-05 |  5.102056e-05 |  8.272526e-05 |\n",
       "| <!----> |  1.363713e-03 | 4.532105e-05 | 2.162219e-05 |  1.517716e-03 |  1.052573e-04 | -1.188522e-05 |\n",
       "| <!----> |  1.744698e-04 | 1.870268e-05 | 5.102056e-05 |  1.052573e-04 |  5.050015e-04 | -3.305444e-05 |\n",
       "| <!----> | -1.468627e-05 | 7.510573e-05 | 8.272526e-05 | -1.188522e-05 | -3.305444e-05 |  2.345002e-04 |\n",
       "\n"
      ],
      "text/plain": [
       "    PC1           PC2          PC3                                     \n",
       "PC1  1.508296e-03 1.499713e-18 4.425837e-19  1.363713e-03  1.744698e-04\n",
       "PC2  1.499713e-18 6.697502e-04 6.937195e-19  4.532105e-05  1.870268e-05\n",
       "PC3  4.425837e-19 6.937195e-19 3.368744e-04  2.162219e-05  5.102056e-05\n",
       "     1.363713e-03 4.532105e-05 2.162219e-05  1.517716e-03  1.052573e-04\n",
       "     1.744698e-04 1.870268e-05 5.102056e-05  1.052573e-04  5.050015e-04\n",
       "    -1.468627e-05 7.510573e-05 8.272526e-05 -1.188522e-05 -3.305444e-05\n",
       "                 \n",
       "PC1 -1.468627e-05\n",
       "PC2  7.510573e-05\n",
       "PC3  8.272526e-05\n",
       "    -1.188522e-05\n",
       "    -3.305444e-05\n",
       "     2.345002e-04"
      ]
     },
     "metadata": {},
     "output_type": "display_data"
    }
   ],
   "source": [
    "cross_cov"
   ]
  },
  {
   "cell_type": "code",
   "execution_count": 15,
   "id": "09cb7096-6275-4d75-8dfa-552f7f16de26",
   "metadata": {},
   "outputs": [
    {
     "data": {
      "image/png": "[encoded data removed]",
      "text/plain": [
       "plot without title"
      ]
     },
     "metadata": {
      "image/png": {
       "height": 420,
       "width": 420
      }
     },
     "output_type": "display_data"
    }
   ],
   "source": [
    "heatmap(cross_cov, Colv = NA, Rowv = NA, symm = TRUE)"
   ]
  },
  {
   "cell_type": "code",
   "execution_count": 16,
   "id": "369b6fb6-d273-4652-848b-4ada309f40d7",
   "metadata": {},
   "outputs": [
    {
     "data": {
      "text/html": [
       "<table class=\"dataframe\">\n",
       "<caption>A matrix: 6 × 6 of type dbl</caption>\n",
       "<thead>\n",
       "\t<tr><th></th><th scope=col>PC1</th><th scope=col>PC2</th><th scope=col>PC3</th><th scope=col></th><th scope=col></th><th scope=col></th></tr>\n",
       "</thead>\n",
       "<tbody>\n",
       "\t<tr><th scope=row>PC1</th><td> 1.508296e-03</td><td>1.499713e-18</td><td>4.425837e-19</td><td> 1.363713e-03</td><td> 1.744698e-04</td><td>-1.468627e-05</td></tr>\n",
       "\t<tr><th scope=row>PC2</th><td> 1.499713e-18</td><td>6.697502e-04</td><td>6.937195e-19</td><td> 4.532105e-05</td><td> 1.870268e-05</td><td> 7.510573e-05</td></tr>\n",
       "\t<tr><th scope=row>PC3</th><td> 4.425837e-19</td><td>6.937195e-19</td><td>3.368744e-04</td><td> 2.162219e-05</td><td> 5.102056e-05</td><td> 8.272526e-05</td></tr>\n",
       "\t<tr><th scope=row></th><td> 1.363713e-03</td><td>4.532105e-05</td><td>2.162219e-05</td><td> 1.517716e-03</td><td> 1.052573e-04</td><td>-1.188522e-05</td></tr>\n",
       "\t<tr><th scope=row></th><td> 1.744698e-04</td><td>1.870268e-05</td><td>5.102056e-05</td><td> 1.052573e-04</td><td> 5.050015e-04</td><td>-3.305444e-05</td></tr>\n",
       "\t<tr><th scope=row></th><td>-1.468627e-05</td><td>7.510573e-05</td><td>8.272526e-05</td><td>-1.188522e-05</td><td>-3.305444e-05</td><td> 2.345002e-04</td></tr>\n",
       "</tbody>\n",
       "</table>\n"
      ],
      "text/latex": [
       "A matrix: 6 × 6 of type dbl\n",
       "\\begin{tabular}{r|llllll}\n",
       "  & PC1 & PC2 & PC3 &  &  & \\\\\n",
       "\\hline\n",
       "\tPC1 &  1.508296e-03 & 1.499713e-18 & 4.425837e-19 &  1.363713e-03 &  1.744698e-04 & -1.468627e-05\\\\\n",
       "\tPC2 &  1.499713e-18 & 6.697502e-04 & 6.937195e-19 &  4.532105e-05 &  1.870268e-05 &  7.510573e-05\\\\\n",
       "\tPC3 &  4.425837e-19 & 6.937195e-19 & 3.368744e-04 &  2.162219e-05 &  5.102056e-05 &  8.272526e-05\\\\\n",
       "\t &  1.363713e-03 & 4.532105e-05 & 2.162219e-05 &  1.517716e-03 &  1.052573e-04 & -1.188522e-05\\\\\n",
       "\t &  1.744698e-04 & 1.870268e-05 & 5.102056e-05 &  1.052573e-04 &  5.050015e-04 & -3.305444e-05\\\\\n",
       "\t & -1.468627e-05 & 7.510573e-05 & 8.272526e-05 & -1.188522e-05 & -3.305444e-05 &  2.345002e-04\\\\\n",
       "\\end{tabular}\n"
      ],
      "text/markdown": [
       "\n",
       "A matrix: 6 × 6 of type dbl\n",
       "\n",
       "| <!--/--> | PC1 | PC2 | PC3 | <!----> | <!----> | <!----> |\n",
       "|---|---|---|---|---|---|---|\n",
       "| PC1 |  1.508296e-03 | 1.499713e-18 | 4.425837e-19 |  1.363713e-03 |  1.744698e-04 | -1.468627e-05 |\n",
       "| PC2 |  1.499713e-18 | 6.697502e-04 | 6.937195e-19 |  4.532105e-05 |  1.870268e-05 |  7.510573e-05 |\n",
       "| PC3 |  4.425837e-19 | 6.937195e-19 | 3.368744e-04 |  2.162219e-05 |  5.102056e-05 |  8.272526e-05 |\n",
       "| <!----> |  1.363713e-03 | 4.532105e-05 | 2.162219e-05 |  1.517716e-03 |  1.052573e-04 | -1.188522e-05 |\n",
       "| <!----> |  1.744698e-04 | 1.870268e-05 | 5.102056e-05 |  1.052573e-04 |  5.050015e-04 | -3.305444e-05 |\n",
       "| <!----> | -1.468627e-05 | 7.510573e-05 | 8.272526e-05 | -1.188522e-05 | -3.305444e-05 |  2.345002e-04 |\n",
       "\n"
      ],
      "text/plain": [
       "    PC1           PC2          PC3                                     \n",
       "PC1  1.508296e-03 1.499713e-18 4.425837e-19  1.363713e-03  1.744698e-04\n",
       "PC2  1.499713e-18 6.697502e-04 6.937195e-19  4.532105e-05  1.870268e-05\n",
       "PC3  4.425837e-19 6.937195e-19 3.368744e-04  2.162219e-05  5.102056e-05\n",
       "     1.363713e-03 4.532105e-05 2.162219e-05  1.517716e-03  1.052573e-04\n",
       "     1.744698e-04 1.870268e-05 5.102056e-05  1.052573e-04  5.050015e-04\n",
       "    -1.468627e-05 7.510573e-05 8.272526e-05 -1.188522e-05 -3.305444e-05\n",
       "                 \n",
       "PC1 -1.468627e-05\n",
       "PC2  7.510573e-05\n",
       "PC3  8.272526e-05\n",
       "    -1.188522e-05\n",
       "    -3.305444e-05\n",
       "     2.345002e-04"
      ]
     },
     "metadata": {},
     "output_type": "display_data"
    }
   ],
   "source": [
    "cross_cov"
   ]
  },
  {
   "cell_type": "code",
   "execution_count": 17,
   "id": "018f87a6-3180-41ae-9933-8ea8ee9baafd",
   "metadata": {},
   "outputs": [],
   "source": [
    "cross_corr = cov_to_cor(cross_cov);"
   ]
  },
  {
   "cell_type": "code",
   "execution_count": 18,
   "id": "63d0aad3-9b34-4c45-9379-6feafdff93f0",
   "metadata": {},
   "outputs": [
    {
     "data": {
      "text/html": [
       "<table class=\"dataframe\">\n",
       "<caption>A matrix: 6 × 6 of type dbl</caption>\n",
       "<thead>\n",
       "\t<tr><th></th><th scope=col>PC1</th><th scope=col>PC2</th><th scope=col>PC3</th><th scope=col></th><th scope=col></th><th scope=col></th></tr>\n",
       "</thead>\n",
       "<tbody>\n",
       "\t<tr><th scope=row>PC1</th><td> 1.000000e+00</td><td>1.492136e-15</td><td>6.208948e-16</td><td> 0.90133128</td><td> 0.19990823</td><td>-0.02469429</td></tr>\n",
       "\t<tr><th scope=row>PC2</th><td> 1.492136e-15</td><td>1.000000e+00</td><td>1.460473e-15</td><td> 0.04495193</td><td> 0.03215889</td><td> 0.18951562</td></tr>\n",
       "\t<tr><th scope=row>PC3</th><td> 6.208948e-16</td><td>1.460473e-15</td><td>1.000000e+00</td><td> 0.03023921</td><td> 0.12369861</td><td> 0.29432863</td></tr>\n",
       "\t<tr><th scope=row></th><td> 9.013313e-01</td><td>4.495193e-02</td><td>3.023921e-02</td><td> 1.00000000</td><td> 0.12022937</td><td>-0.01992235</td></tr>\n",
       "\t<tr><th scope=row></th><td> 1.999082e-01</td><td>3.215889e-02</td><td>1.236986e-01</td><td> 0.12022937</td><td> 1.00000000</td><td>-0.09605321</td></tr>\n",
       "\t<tr><th scope=row></th><td>-2.469429e-02</td><td>1.895156e-01</td><td>2.943286e-01</td><td>-0.01992235</td><td>-0.09605321</td><td> 1.00000000</td></tr>\n",
       "</tbody>\n",
       "</table>\n"
      ],
      "text/latex": [
       "A matrix: 6 × 6 of type dbl\n",
       "\\begin{tabular}{r|llllll}\n",
       "  & PC1 & PC2 & PC3 &  &  & \\\\\n",
       "\\hline\n",
       "\tPC1 &  1.000000e+00 & 1.492136e-15 & 6.208948e-16 &  0.90133128 &  0.19990823 & -0.02469429\\\\\n",
       "\tPC2 &  1.492136e-15 & 1.000000e+00 & 1.460473e-15 &  0.04495193 &  0.03215889 &  0.18951562\\\\\n",
       "\tPC3 &  6.208948e-16 & 1.460473e-15 & 1.000000e+00 &  0.03023921 &  0.12369861 &  0.29432863\\\\\n",
       "\t &  9.013313e-01 & 4.495193e-02 & 3.023921e-02 &  1.00000000 &  0.12022937 & -0.01992235\\\\\n",
       "\t &  1.999082e-01 & 3.215889e-02 & 1.236986e-01 &  0.12022937 &  1.00000000 & -0.09605321\\\\\n",
       "\t & -2.469429e-02 & 1.895156e-01 & 2.943286e-01 & -0.01992235 & -0.09605321 &  1.00000000\\\\\n",
       "\\end{tabular}\n"
      ],
      "text/markdown": [
       "\n",
       "A matrix: 6 × 6 of type dbl\n",
       "\n",
       "| <!--/--> | PC1 | PC2 | PC3 | <!----> | <!----> | <!----> |\n",
       "|---|---|---|---|---|---|---|\n",
       "| PC1 |  1.000000e+00 | 1.492136e-15 | 6.208948e-16 |  0.90133128 |  0.19990823 | -0.02469429 |\n",
       "| PC2 |  1.492136e-15 | 1.000000e+00 | 1.460473e-15 |  0.04495193 |  0.03215889 |  0.18951562 |\n",
       "| PC3 |  6.208948e-16 | 1.460473e-15 | 1.000000e+00 |  0.03023921 |  0.12369861 |  0.29432863 |\n",
       "| <!----> |  9.013313e-01 | 4.495193e-02 | 3.023921e-02 |  1.00000000 |  0.12022937 | -0.01992235 |\n",
       "| <!----> |  1.999082e-01 | 3.215889e-02 | 1.236986e-01 |  0.12022937 |  1.00000000 | -0.09605321 |\n",
       "| <!----> | -2.469429e-02 | 1.895156e-01 | 2.943286e-01 | -0.01992235 | -0.09605321 |  1.00000000 |\n",
       "\n"
      ],
      "text/plain": [
       "    PC1           PC2          PC3                                             \n",
       "PC1  1.000000e+00 1.492136e-15 6.208948e-16  0.90133128  0.19990823 -0.02469429\n",
       "PC2  1.492136e-15 1.000000e+00 1.460473e-15  0.04495193  0.03215889  0.18951562\n",
       "PC3  6.208948e-16 1.460473e-15 1.000000e+00  0.03023921  0.12369861  0.29432863\n",
       "     9.013313e-01 4.495193e-02 3.023921e-02  1.00000000  0.12022937 -0.01992235\n",
       "     1.999082e-01 3.215889e-02 1.236986e-01  0.12022937  1.00000000 -0.09605321\n",
       "    -2.469429e-02 1.895156e-01 2.943286e-01 -0.01992235 -0.09605321  1.00000000"
      ]
     },
     "metadata": {},
     "output_type": "display_data"
    }
   ],
   "source": [
    "cross_corr"
   ]
  },
  {
   "cell_type": "code",
   "execution_count": 19,
   "id": "5e0e4ee0-d1dd-4b0a-8e5e-b97f1af0d80f",
   "metadata": {},
   "outputs": [
    {
     "data": {
      "text/html": [
       "<style>\n",
       ".list-inline {list-style: none; margin:0; padding: 0}\n",
       ".list-inline>li {display: inline-block}\n",
       ".list-inline>li:not(:last-child)::after {content: \"\\00b7\"; padding: 0 .5ex}\n",
       "</style>\n",
       "<ol class=list-inline><li>6</li><li>6</li></ol>\n"
      ],
      "text/latex": [
       "\\begin{enumerate*}\n",
       "\\item 6\n",
       "\\item 6\n",
       "\\end{enumerate*}\n"
      ],
      "text/markdown": [
       "1. 6\n",
       "2. 6\n",
       "\n",
       "\n"
      ],
      "text/plain": [
       "[1] 6 6"
      ]
     },
     "metadata": {},
     "output_type": "display_data"
    }
   ],
   "source": [
    "dim(cross_cov)"
   ]
  },
  {
   "cell_type": "code",
   "execution_count": 20,
   "id": "9ff5cde6-4c9c-4a77-a3d2-790e8628b346",
   "metadata": {
    "tags": []
   },
   "outputs": [
    {
     "data": {
      "image/png": "[encoded data removed]",
      "text/plain": [
       "plot without title"
      ]
     },
     "metadata": {
      "image/png": {
       "height": 420,
       "width": 420
      }
     },
     "output_type": "display_data"
    }
   ],
   "source": [
    "heatmap(cross_corr, Colv = NA, Rowv = NA, symm = TRUE)"
   ]
  },
  {
   "cell_type": "code",
   "execution_count": 21,
   "id": "8e791b3c-3270-4161-af90-72af40341538",
   "metadata": {},
   "outputs": [],
   "source": [
    "ewm_pca_df = data.frame(ewm_pca)"
   ]
  },
  {
   "cell_type": "code",
   "execution_count": 22,
   "id": "aa271e17-7071-4955-8fd8-b69d0af9ac0b",
   "metadata": {},
   "outputs": [],
   "source": [
    "names(ewm_pca_df) = c(\"pc1\", \"pc2\", \"pc3\")"
   ]
  },
  {
   "cell_type": "code",
   "execution_count": 23,
   "id": "62c1f14f-9e66-469d-b209-c419d5bb4c88",
   "metadata": {},
   "outputs": [],
   "source": [
    "ewm_pca_df$ISIG = df[,4];\n",
    "ewm_pca_df$AAPL = df[,5];"
   ]
  },
  {
   "cell_type": "code",
   "execution_count": 24,
   "id": "db5b8d5a-9676-4149-916e-0dd346bf811d",
   "metadata": {},
   "outputs": [
    {
     "data": {
      "text/plain": [
       "\n",
       "Call:  glm(formula = ISIG ~ pc1, data = ewm_pca_df)\n",
       "\n",
       "Coefficients:\n",
       "(Intercept)          pc1  \n",
       " -0.0002754    0.0987487  \n",
       "\n",
       "Degrees of Freedom: 3439 Total (i.e. Null);  3438 Residual\n",
       "Null Deviance:\t    6.902 \n",
       "Residual Deviance: 6.851 \tAIC: -11620"
      ]
     },
     "metadata": {},
     "output_type": "display_data"
    }
   ],
   "source": [
    "T = dim(ewm_pca_df)[1];\n",
    "glm(ISIG ~ pc1, data = ewm_pca_df)"
   ]
  },
  {
   "cell_type": "code",
   "execution_count": 25,
   "id": "385b962d-9a78-4734-9298-eaed159557d6",
   "metadata": {},
   "outputs": [
    {
     "data": {
      "text/plain": [
       "\n",
       "Call:  glm(formula = ISIG ~ pc2, data = ewm_pca_df)\n",
       "\n",
       "Coefficients:\n",
       "(Intercept)          pc2  \n",
       " -0.0002499    0.0107670  \n",
       "\n",
       "Degrees of Freedom: 3439 Total (i.e. Null);  3438 Residual\n",
       "Null Deviance:\t    6.902 \n",
       "Residual Deviance: 6.901 \tAIC: -11600"
      ]
     },
     "metadata": {},
     "output_type": "display_data"
    }
   ],
   "source": [
    "glm(ISIG ~ pc2, data = ewm_pca_df)"
   ]
  },
  {
   "cell_type": "code",
   "execution_count": 26,
   "id": "a3b8bf6b-3261-4ac2-8b5b-8e7859044ec0",
   "metadata": {},
   "outputs": [
    {
     "data": {
      "text/plain": [
       "\n",
       "Call:  glm(formula = ISIG ~ pc3, data = ewm_pca_df)\n",
       "\n",
       "Coefficients:\n",
       "(Intercept)          pc3  \n",
       " -0.0002618    0.0934287  \n",
       "\n",
       "Degrees of Freedom: 3439 Total (i.e. Null);  3438 Residual\n",
       "Null Deviance:\t    6.902 \n",
       "Residual Deviance: 6.895 \tAIC: -11600"
      ]
     },
     "metadata": {},
     "output_type": "display_data"
    }
   ],
   "source": [
    "glm(ISIG ~ pc3, data = ewm_pca_df)"
   ]
  },
  {
   "cell_type": "code",
   "execution_count": 27,
   "id": "8ca2f667-d615-4009-a12e-cd021683bb81",
   "metadata": {},
   "outputs": [
    {
     "data": {
      "text/plain": [
       "\n",
       "Call:  glm(formula = ISIG ~ pc1 + pc2 + pc3, data = ewm_pca_df)\n",
       "\n",
       "Coefficients:\n",
       "(Intercept)          pc1          pc2          pc3  \n",
       " -0.0002868    0.0997666   -0.0036144    0.0979757  \n",
       "\n",
       "Degrees of Freedom: 3439 Total (i.e. Null);  3436 Residual\n",
       "Null Deviance:\t    6.902 \n",
       "Residual Deviance: 6.843 \tAIC: -11620"
      ]
     },
     "metadata": {},
     "output_type": "display_data"
    }
   ],
   "source": [
    "glm(ISIG ~ pc1 + pc2 + pc3, data = ewm_pca_df)"
   ]
  },
  {
   "cell_type": "code",
   "execution_count": 28,
   "id": "69c71f4a-15ad-4d53-9ffb-a4ba24288871",
   "metadata": {},
   "outputs": [
    {
     "data": {
      "text/html": [
       "<table class=\"dataframe\">\n",
       "<caption>A matrix: 3 × 3 of type dbl</caption>\n",
       "<tbody>\n",
       "\t<tr><td> 1.00000000</td><td> 0.12022937</td><td>-0.01992235</td></tr>\n",
       "\t<tr><td> 0.12022937</td><td> 1.00000000</td><td>-0.09605321</td></tr>\n",
       "\t<tr><td>-0.01992235</td><td>-0.09605321</td><td> 1.00000000</td></tr>\n",
       "</tbody>\n",
       "</table>\n"
      ],
      "text/latex": [
       "A matrix: 3 × 3 of type dbl\n",
       "\\begin{tabular}{lll}\n",
       "\t  1.00000000 &  0.12022937 & -0.01992235\\\\\n",
       "\t  0.12022937 &  1.00000000 & -0.09605321\\\\\n",
       "\t -0.01992235 & -0.09605321 &  1.00000000\\\\\n",
       "\\end{tabular}\n"
      ],
      "text/markdown": [
       "\n",
       "A matrix: 3 × 3 of type dbl\n",
       "\n",
       "|  1.00000000 |  0.12022937 | -0.01992235 |\n",
       "|  0.12022937 |  1.00000000 | -0.09605321 |\n",
       "| -0.01992235 | -0.09605321 |  1.00000000 |\n",
       "\n"
      ],
      "text/plain": [
       "     [,1]        [,2]        [,3]       \n",
       "[1,]  1.00000000  0.12022937 -0.01992235\n",
       "[2,]  0.12022937  1.00000000 -0.09605321\n",
       "[3,] -0.01992235 -0.09605321  1.00000000"
      ]
     },
     "metadata": {},
     "output_type": "display_data"
    }
   ],
   "source": [
    "cor(ewm_pca)"
   ]
  },
  {
   "cell_type": "code",
   "execution_count": 29,
   "id": "c2ed0124-09e6-4e20-b5f9-0dae02084ee1",
   "metadata": {},
   "outputs": [
    {
     "data": {
      "text/plain": [
       "\n",
       "Call:  glm(formula = AAPL ~ pc1, data = ewm_pca_df)\n",
       "\n",
       "Coefficients:\n",
       "(Intercept)          pc1  \n",
       "  0.0008384    0.2409406  \n",
       "\n",
       "Degrees of Freedom: 3439 Total (i.e. Null);  3438 Residual\n",
       "Null Deviance:\t    1.391 \n",
       "Residual Deviance: 1.088 \tAIC: -17950"
      ]
     },
     "metadata": {},
     "output_type": "display_data"
    }
   ],
   "source": [
    "glm(AAPL ~ pc1, data = ewm_pca_df)"
   ]
  },
  {
   "cell_type": "code",
   "execution_count": 30,
   "id": "c40397ca-99d7-4a7c-8f59-37b69b2bcdaf",
   "metadata": {},
   "outputs": [
    {
     "data": {
      "text/plain": [
       "\n",
       "Call:  glm(formula = AAPL ~ pc2, data = ewm_pca_df)\n",
       "\n",
       "Coefficients:\n",
       "(Intercept)          pc2  \n",
       "  0.0009044    0.0487973  \n",
       "\n",
       "Degrees of Freedom: 3439 Total (i.e. Null);  3438 Residual\n",
       "Null Deviance:\t    1.391 \n",
       "Residual Deviance: 1.387 \tAIC: -17120"
      ]
     },
     "metadata": {},
     "output_type": "display_data"
    }
   ],
   "source": [
    "glm(AAPL ~ pc2, data = ewm_pca_df)"
   ]
  },
  {
   "cell_type": "code",
   "execution_count": 31,
   "id": "b8c55166-1565-4da9-90f1-ec304485b984",
   "metadata": {},
   "outputs": [
    {
     "data": {
      "text/plain": [
       "\n",
       "Call:  glm(formula = AAPL ~ pc3, data = ewm_pca_df)\n",
       "\n",
       "Coefficients:\n",
       "(Intercept)          pc3  \n",
       "  0.0008991   -0.0273999  \n",
       "\n",
       "Degrees of Freedom: 3439 Total (i.e. Null);  3438 Residual\n",
       "Null Deviance:\t    1.391 \n",
       "Residual Deviance: 1.391 \tAIC: -17110"
      ]
     },
     "metadata": {},
     "output_type": "display_data"
    }
   ],
   "source": [
    "glm(AAPL ~ pc3, data = ewm_pca_df)"
   ]
  },
  {
   "cell_type": "code",
   "execution_count": 32,
   "id": "0e7dfcff-d20f-457e-a732-501a6c864c9b",
   "metadata": {},
   "outputs": [
    {
     "data": {
      "text/plain": [
       "\n",
       "Call:  glm(formula = AAPL ~ pc1 + pc2 + pc3, data = ewm_pca_df)\n",
       "\n",
       "Coefficients:\n",
       "(Intercept)          pc1          pc2          pc3  \n",
       "  0.0008397    0.2409888   -0.0024485   -0.0155309  \n",
       "\n",
       "Degrees of Freedom: 3439 Total (i.e. Null);  3436 Residual\n",
       "Null Deviance:\t    1.391 \n",
       "Residual Deviance: 1.088 \tAIC: -17950"
      ]
     },
     "metadata": {},
     "output_type": "display_data"
    }
   ],
   "source": [
    "glm(AAPL ~ pc1 + pc2 + pc3, data = ewm_pca_df)"
   ]
  },
  {
   "cell_type": "code",
   "execution_count": 33,
   "id": "98975b86-e336-4069-999d-77cdde629825",
   "metadata": {},
   "outputs": [],
   "source": [
    "class_pca_df = data.frame(classical_pca)"
   ]
  },
  {
   "cell_type": "code",
   "execution_count": 34,
   "id": "bea89607-3e79-4715-8b8c-6e4a85fa6c8c",
   "metadata": {},
   "outputs": [],
   "source": [
    "names(class_pca_df) = c(\"pc1\", \"pc2\", \"pc3\")"
   ]
  },
  {
   "cell_type": "code",
   "execution_count": 35,
   "id": "d698cd7c-c7ba-445a-9679-5abb22bd8b3e",
   "metadata": {
    "tags": []
   },
   "outputs": [],
   "source": [
    "class_pca_df$ISIG = df[,4];\n",
    "class_pca_df$AAPL = df[,5];"
   ]
  },
  {
   "cell_type": "code",
   "execution_count": 36,
   "id": "13d0aaf6-3426-4178-9530-9b8df44d7941",
   "metadata": {
    "tags": []
   },
   "outputs": [
    {
     "data": {
      "text/plain": [
       "\n",
       "Call:  glm(formula = ISIG ~ pc1, data = class_pca_df)\n",
       "\n",
       "Coefficients:\n",
       "(Intercept)          pc1  \n",
       " -0.0002517    0.1013829  \n",
       "\n",
       "Degrees of Freedom: 3439 Total (i.e. Null);  3438 Residual\n",
       "Null Deviance:\t    6.902 \n",
       "Residual Deviance: 6.848 \tAIC: -11630"
      ]
     },
     "metadata": {},
     "output_type": "display_data"
    }
   ],
   "source": [
    "glm(ISIG ~ pc1, data = class_pca_df)"
   ]
  },
  {
   "cell_type": "code",
   "execution_count": 37,
   "id": "83370068-a5f7-4461-bbd1-94c797a8bf15",
   "metadata": {},
   "outputs": [
    {
     "data": {
      "text/plain": [
       "\n",
       "Call:  glm(formula = ISIG ~ pc2, data = class_pca_df)\n",
       "\n",
       "Coefficients:\n",
       "(Intercept)          pc2  \n",
       " -0.0002517    0.1011990  \n",
       "\n",
       "Degrees of Freedom: 3439 Total (i.e. Null);  3438 Residual\n",
       "Null Deviance:\t    6.902 \n",
       "Residual Deviance: 6.878 \tAIC: -11610"
      ]
     },
     "metadata": {},
     "output_type": "display_data"
    }
   ],
   "source": [
    "glm(ISIG ~ pc2, data = class_pca_df)"
   ]
  },
  {
   "cell_type": "code",
   "execution_count": 38,
   "id": "d6fe7c40-44b4-49d3-b311-3331d9f91bf6",
   "metadata": {},
   "outputs": [
    {
     "data": {
      "text/plain": [
       "\n",
       "Call:  glm(formula = ISIG ~ pc3, data = class_pca_df)\n",
       "\n",
       "Coefficients:\n",
       "(Intercept)          pc3  \n",
       " -0.0002517   -0.0637690  \n",
       "\n",
       "Degrees of Freedom: 3439 Total (i.e. Null);  3438 Residual\n",
       "Null Deviance:\t    6.902 \n",
       "Residual Deviance: 6.897 \tAIC: -11600"
      ]
     },
     "metadata": {},
     "output_type": "display_data"
    }
   ],
   "source": [
    "glm(ISIG ~ pc3, data = class_pca_df)"
   ]
  },
  {
   "cell_type": "code",
   "execution_count": 39,
   "id": "d6b92409-486a-499b-bb4d-7bcfd8ad1c46",
   "metadata": {},
   "outputs": [
    {
     "data": {
      "text/plain": [
       "\n",
       "Call:  glm(formula = ISIG ~ pc1 + pc2 + pc3, data = class_pca_df)\n",
       "\n",
       "Coefficients:\n",
       "(Intercept)          pc1          pc2          pc3  \n",
       " -0.0002517    0.1013829    0.1011990   -0.0637690  \n",
       "\n",
       "Degrees of Freedom: 3439 Total (i.e. Null);  3436 Residual\n",
       "Null Deviance:\t    6.902 \n",
       "Residual Deviance: 6.82 \tAIC: -11640"
      ]
     },
     "metadata": {},
     "output_type": "display_data"
    }
   ],
   "source": [
    "glm(ISIG ~ pc1 + pc2 + pc3, data = class_pca_df)"
   ]
  },
  {
   "cell_type": "code",
   "execution_count": 40,
   "id": "d64340c4-e36c-4d6c-ac2e-31d72d7afab4",
   "metadata": {},
   "outputs": [
    {
     "data": {
      "text/plain": [
       "\n",
       "Call:  glm(formula = AAPL ~ pc1, data = class_pca_df)\n",
       "\n",
       "Coefficients:\n",
       "(Intercept)          pc1  \n",
       "  0.0008962    0.2707471  \n",
       "\n",
       "Degrees of Freedom: 3439 Total (i.e. Null);  3438 Residual\n",
       "Null Deviance:\t    1.391 \n",
       "Residual Deviance: 1.011 \tAIC: -18210"
      ]
     },
     "metadata": {},
     "output_type": "display_data"
    }
   ],
   "source": [
    "glm(AAPL ~ pc1, data = class_pca_df)"
   ]
  },
  {
   "cell_type": "code",
   "execution_count": 41,
   "id": "827999b2-fa79-451e-99a6-22fef6daf84a",
   "metadata": {},
   "outputs": [
    {
     "data": {
      "text/html": [
       "2.01770589444103"
      ],
      "text/latex": [
       "2.01770589444103"
      ],
      "text/markdown": [
       "2.01770589444103"
      ],
      "text/plain": [
       "[1] 2.017706"
      ]
     },
     "metadata": {},
     "output_type": "display_data"
    }
   ],
   "source": [
    "norm(classical_pca - ewm_pca, type = \"2\")"
   ]
  },
  {
   "cell_type": "code",
   "execution_count": 42,
   "id": "aaed0898-e421-4039-9675-10c2d20967f1",
   "metadata": {},
   "outputs": [
    {
     "data": {
      "text/html": [
       "0.508251037081213"
      ],
      "text/latex": [
       "0.508251037081213"
      ],
      "text/markdown": [
       "0.508251037081213"
      ],
      "text/plain": [
       "[1] 0.508251"
      ]
     },
     "metadata": {},
     "output_type": "display_data"
    }
   ],
   "source": [
    "max(classical_pca - ewm_pca)"
   ]
  },
  {
   "cell_type": "code",
   "execution_count": 43,
   "id": "ab534e52-6399-46c6-aa4b-50a3ff2f3fdc",
   "metadata": {},
   "outputs": [
    {
     "data": {
      "text/html": [
       "0.322185818789547"
      ],
      "text/latex": [
       "0.322185818789547"
      ],
      "text/markdown": [
       "0.322185818789547"
      ],
      "text/plain": [
       "[1] 0.3221858"
      ]
     },
     "metadata": {},
     "output_type": "display_data"
    }
   ],
   "source": [
    "max(ewm_pca)"
   ]
  },
  {
   "cell_type": "code",
   "execution_count": 44,
   "id": "c0a2ff83-40ce-4b5b-a011-8642e051cff4",
   "metadata": {},
   "outputs": [
    {
     "data": {
      "text/html": [
       "<style>\n",
       ".list-inline {list-style: none; margin:0; padding: 0}\n",
       ".list-inline>li {display: inline-block}\n",
       ".list-inline>li:not(:last-child)::after {content: \"\\00b7\"; padding: 0 .5ex}\n",
       "</style>\n",
       "<ol class=list-inline><li>3440</li><li>3</li></ol>\n"
      ],
      "text/latex": [
       "\\begin{enumerate*}\n",
       "\\item 3440\n",
       "\\item 3\n",
       "\\end{enumerate*}\n"
      ],
      "text/markdown": [
       "1. 3440\n",
       "2. 3\n",
       "\n",
       "\n"
      ],
      "text/plain": [
       "[1] 3440    3"
      ]
     },
     "metadata": {},
     "output_type": "display_data"
    }
   ],
   "source": [
    "dim(ewm_pca %*% t(Z$rotation))"
   ]
  },
  {
   "cell_type": "code",
   "execution_count": 45,
   "id": "0c2f2535-e8b1-412a-8799-e79f561c2d46",
   "metadata": {},
   "outputs": [
    {
     "data": {
      "text/html": [
       "<table class=\"dataframe\">\n",
       "<caption>A matrix: 3 × 3 of type dbl</caption>\n",
       "<thead>\n",
       "\t<tr><th></th><th scope=col>PC1</th><th scope=col>PC2</th><th scope=col>PC3</th></tr>\n",
       "</thead>\n",
       "<tbody>\n",
       "\t<tr><th scope=row>V1</th><td>0.5882170</td><td> 0.73499657</td><td> 0.3373142</td></tr>\n",
       "\t<tr><th scope=row>V2</th><td>0.7008161</td><td>-0.67142771</td><td> 0.2409183</td></tr>\n",
       "\t<tr><th scope=row>V3</th><td>0.4035562</td><td> 0.09468299</td><td>-0.9100426</td></tr>\n",
       "</tbody>\n",
       "</table>\n"
      ],
      "text/latex": [
       "A matrix: 3 × 3 of type dbl\n",
       "\\begin{tabular}{r|lll}\n",
       "  & PC1 & PC2 & PC3\\\\\n",
       "\\hline\n",
       "\tV1 & 0.5882170 &  0.73499657 &  0.3373142\\\\\n",
       "\tV2 & 0.7008161 & -0.67142771 &  0.2409183\\\\\n",
       "\tV3 & 0.4035562 &  0.09468299 & -0.9100426\\\\\n",
       "\\end{tabular}\n"
      ],
      "text/markdown": [
       "\n",
       "A matrix: 3 × 3 of type dbl\n",
       "\n",
       "| <!--/--> | PC1 | PC2 | PC3 |\n",
       "|---|---|---|---|\n",
       "| V1 | 0.5882170 |  0.73499657 |  0.3373142 |\n",
       "| V2 | 0.7008161 | -0.67142771 |  0.2409183 |\n",
       "| V3 | 0.4035562 |  0.09468299 | -0.9100426 |\n",
       "\n"
      ],
      "text/plain": [
       "   PC1       PC2         PC3       \n",
       "V1 0.5882170  0.73499657  0.3373142\n",
       "V2 0.7008161 -0.67142771  0.2409183\n",
       "V3 0.4035562  0.09468299 -0.9100426"
      ]
     },
     "metadata": {},
     "output_type": "display_data"
    }
   ],
   "source": [
    "Z$rotation"
   ]
  },
  {
   "cell_type": "code",
   "execution_count": 46,
   "id": "937a1a6d-618c-4fb2-88f2-4c8ee300effe",
   "metadata": {},
   "outputs": [
    {
     "data": {
      "text/html": [
       "<style>\n",
       ".list-inline {list-style: none; margin:0; padding: 0}\n",
       ".list-inline>li {display: inline-block}\n",
       ".list-inline>li:not(:last-child)::after {content: \"\\00b7\"; padding: 0 .5ex}\n",
       "</style>\n",
       "<ol class=list-inline><li>3440</li><li>5</li></ol>\n"
      ],
      "text/latex": [
       "\\begin{enumerate*}\n",
       "\\item 3440\n",
       "\\item 5\n",
       "\\end{enumerate*}\n"
      ],
      "text/markdown": [
       "1. 3440\n",
       "2. 5\n",
       "\n",
       "\n"
      ],
      "text/plain": [
       "[1] 3440    5"
      ]
     },
     "metadata": {},
     "output_type": "display_data"
    }
   ],
   "source": [
    "dim(df)"
   ]
  },
  {
   "cell_type": "code",
   "execution_count": 47,
   "id": "ec06fb02-10d8-4745-a3ba-004d290a4ed6",
   "metadata": {},
   "outputs": [
    {
     "data": {
      "text/html": [
       "2.22670606731882"
      ],
      "text/latex": [
       "2.22670606731882"
      ],
      "text/markdown": [
       "2.22670606731882"
      ],
      "text/plain": [
       "[1] 2.226706"
      ]
     },
     "metadata": {},
     "output_type": "display_data"
    }
   ],
   "source": [
    "norm(as.matrix(df[,1:3]) - ewm_pca %*% t(Z2$W), type=\"2\")"
   ]
  },
  {
   "cell_type": "code",
   "execution_count": 61,
   "id": "13defad0-8da3-4f05-ac0f-b57ef640b283",
   "metadata": {},
   "outputs": [
    {
     "data": {
      "text/html": [
       "3440"
      ],
      "text/latex": [
       "3440"
      ],
      "text/markdown": [
       "3440"
      ],
      "text/plain": [
       "[1] 3440"
      ]
     },
     "metadata": {},
     "output_type": "display_data"
    }
   ],
   "source": [
    "TT = dim(df)[1];\n",
    "TT;"
   ]
  },
  {
   "cell_type": "code",
   "execution_count": 63,
   "id": "6b3ba372-f093-410d-9566-46b1b7c04d34",
   "metadata": {},
   "outputs": [
    {
     "data": {
      "text/html": [
       "0.194209464447496"
      ],
      "text/latex": [
       "0.194209464447496"
      ],
      "text/markdown": [
       "0.194209464447496"
      ],
      "text/plain": [
       "[1] 0.1942095"
      ]
     },
     "metadata": {},
     "output_type": "display_data"
    }
   ],
   "source": [
    "norm(as.matrix(df[(TT-100):TT,1:3]) - (ewm_pca %*% t(Z2$W))[(TT-100):TT,], type=\"2\")"
   ]
  },
  {
   "cell_type": "code",
   "execution_count": 64,
   "id": "f303996e-72bc-4861-aef1-ea0e617f1db7",
   "metadata": {},
   "outputs": [
    {
     "data": {
      "text/html": [
       "0.873557150786152"
      ],
      "text/latex": [
       "0.873557150786152"
      ],
      "text/markdown": [
       "0.873557150786152"
      ],
      "text/plain": [
       "[1] 0.8735572"
      ]
     },
     "metadata": {},
     "output_type": "display_data"
    }
   ],
   "source": [
    "norm(as.matrix(df[(TT-1000):TT,1:3]) - (ewm_pca %*% t(Z2$W))[(TT-1000):TT,], type=\"2\")"
   ]
  },
  {
   "cell_type": "code",
   "execution_count": 65,
   "id": "c990e55f-6187-4b37-a9c7-b393e1083b49",
   "metadata": {},
   "outputs": [
    {
     "data": {
      "text/html": [
       "2.01162785340582"
      ],
      "text/latex": [
       "2.01162785340582"
      ],
      "text/markdown": [
       "2.01162785340582"
      ],
      "text/plain": [
       "[1] 2.011628"
      ]
     },
     "metadata": {},
     "output_type": "display_data"
    }
   ],
   "source": [
    "norm(as.matrix(df[(TT-3000):TT,1:3]) - (ewm_pca %*% t(Z2$W))[(TT-3000):TT,], type=\"2\")"
   ]
  },
  {
   "cell_type": "code",
   "execution_count": 51,
   "id": "efaf99ce-5270-4fc3-b154-204e40ecbad0",
   "metadata": {},
   "outputs": [
    {
     "data": {
      "text/html": [
       "0.119268022351313"
      ],
      "text/latex": [
       "0.119268022351313"
      ],
      "text/markdown": [
       "0.119268022351313"
      ],
      "text/plain": [
       "[1] 0.119268"
      ]
     },
     "metadata": {},
     "output_type": "display_data"
    }
   ],
   "source": [
    "norm(as.matrix(df[,1:3]) - classical_pca %*% t(Z$rotation), type=\"2\")"
   ]
  },
  {
   "cell_type": "code",
   "execution_count": 52,
   "id": "482f9429-f82b-4ddd-b506-875677c9850f",
   "metadata": {},
   "outputs": [],
   "source": [
    "comb_pca = data.frame(cbind(as.matrix(classical_pca), as.matrix(ewm_pca), df[,4], df[,5]));"
   ]
  },
  {
   "cell_type": "code",
   "execution_count": 53,
   "id": "4f134603-79d9-4d6e-b85e-693be5e19b03",
   "metadata": {},
   "outputs": [],
   "source": [
    "names(comb_pca) = c(\"pc1\", \"pc2\", \"pc3\", \"epc1\", \"epc2\", \"epc3\", \"ISIG\", \"AAPL\");"
   ]
  },
  {
   "cell_type": "code",
   "execution_count": 54,
   "id": "dbdd1aea-951c-405b-9db1-0f3b2ad36c61",
   "metadata": {},
   "outputs": [
    {
     "data": {
      "text/plain": [
       "\n",
       "Call:  glm(formula = AAPL ~ pc1 + epc1, data = comb_pca)\n",
       "\n",
       "Coefficients:\n",
       "(Intercept)          pc1         epc1  \n",
       "  0.0008991    0.2819944   -0.0124397  \n",
       "\n",
       "Degrees of Freedom: 3439 Total (i.e. Null);  3437 Residual\n",
       "Null Deviance:\t    1.391 \n",
       "Residual Deviance: 1.011 \tAIC: -18200"
      ]
     },
     "metadata": {},
     "output_type": "display_data"
    }
   ],
   "source": [
    "glm(AAPL ~ pc1 + epc1, data = comb_pca)"
   ]
  },
  {
   "cell_type": "code",
   "execution_count": 55,
   "id": "03d34168-deea-4516-9bb0-e1d7cd43ae5f",
   "metadata": {},
   "outputs": [],
   "source": [
    "ewm_pca__ = ewmpca(df[,1:3], 0.9305, W_init);"
   ]
  },
  {
   "cell_type": "code",
   "execution_count": 56,
   "id": "8571eafa-58a2-4835-be9b-6a1d7380a60e",
   "metadata": {},
   "outputs": [
    {
     "data": {
      "text/html": [
       "0"
      ],
      "text/latex": [
       "0"
      ],
      "text/markdown": [
       "0"
      ],
      "text/plain": [
       "[1] 0"
      ]
     },
     "metadata": {},
     "output_type": "display_data"
    }
   ],
   "source": [
    "norm(ewm_pca__ - ewm_pca, type=\"2\")"
   ]
  },
  {
   "cell_type": "code",
   "execution_count": 57,
   "id": "5c5f45f3-38fa-44d5-8d43-db3561bee14f",
   "metadata": {},
   "outputs": [
    {
     "data": {
      "image/png": "[encoded data removed]",
      "text/plain": [
       "plot without title"
      ]
     },
     "metadata": {
      "image/png": {
       "height": 420,
       "width": 420
      }
     },
     "output_type": "display_data"
    }
   ],
   "source": [
    "cross_cov = cov(cbind(classical_pca, ewm_pca__));\n",
    "heatmap(cross_cov, Colv = NA, Rowv = NA, symm = TRUE)"
   ]
  },
  {
   "cell_type": "code",
   "execution_count": 58,
   "id": "03046fd9-6846-4f00-b4df-b7ba1b5e2ad3",
   "metadata": {},
   "outputs": [
    {
     "data": {
      "image/png": "[encoded data removed]",
      "text/plain": [
       "plot without title"
      ]
     },
     "metadata": {
      "image/png": {
       "height": 420,
       "width": 420
      }
     },
     "output_type": "display_data"
    }
   ],
   "source": [
    "cross_corr = cov_to_cor(cross_cov);\n",
    "heatmap(cross_corr, Colv = NA, Rowv = NA, symm = TRUE)"
   ]
  },
  {
   "cell_type": "code",
   "execution_count": null,
   "id": "bbb130fe-1cb3-4246-a019-3ef713b05777",
   "metadata": {},
   "outputs": [],
   "source": []
  }
 ],
 "metadata": {
  "kernelspec": {
   "display_name": "R",
   "language": "R",
   "name": "ir"
  },
  "language_info": {
   "codemirror_mode": "r",
   "file_extension": ".r",
   "mimetype": "text/x-r-source",
   "name": "R",
   "pygments_lexer": "r",
   "version": "4.1.2"
  }
 },
 "nbformat": 4,
 "nbformat_minor": 5
}
