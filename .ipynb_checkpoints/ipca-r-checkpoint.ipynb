{
 "cells": [
  {
   "cell_type": "markdown",
   "id": "71bb1081-f670-4459-afc9-9ea4e998efb7",
   "metadata": {},
   "source": [
    "## IPCA"
   ]
  },
  {
   "cell_type": "code",
   "execution_count": 1,
   "id": "73860d65-72f2-43fe-9643-1b987dc276e8",
   "metadata": {},
   "outputs": [
    {
     "name": "stderr",
     "output_type": "stream",
     "text": [
      "Loading required package: arrow\n",
      "\n",
      "\n",
      "Attaching package: ‘arrow’\n",
      "\n",
      "\n",
      "The following object is masked from ‘package:utils’:\n",
      "\n",
      "    timestamp\n",
      "\n",
      "\n"
     ]
    }
   ],
   "source": [
    "if (!require(\"arrow\")) {\n",
    "    install.packages(\"arrow\");\n",
    "    library(arrow);\n",
    "}"
   ]
  },
  {
   "cell_type": "code",
   "execution_count": 2,
   "id": "71431aef-9e19-4d7c-b4da-41c61713dcba",
   "metadata": {},
   "outputs": [],
   "source": [
    "first_year = 2008; last_year = 2020;\n",
    "\n",
    "# read the equity_indices\n",
    "df = read_parquet('./data/equity_indices.parquet')"
   ]
  },
  {
   "cell_type": "code",
   "execution_count": 3,
   "id": "7123d54a-f9a0-4bc0-8d13-2e33a4b6ffe0",
   "metadata": {},
   "outputs": [
    {
     "name": "stderr",
     "output_type": "stream",
     "text": [
      "Loading required package: quantmod\n",
      "\n",
      "Loading required package: xts\n",
      "\n",
      "Loading required package: zoo\n",
      "\n",
      "\n",
      "Attaching package: ‘zoo’\n",
      "\n",
      "\n",
      "The following objects are masked from ‘package:base’:\n",
      "\n",
      "    as.Date, as.Date.numeric\n",
      "\n",
      "\n",
      "Loading required package: TTR\n",
      "\n",
      "Registered S3 method overwritten by 'quantmod':\n",
      "  method            from\n",
      "  as.zoo.data.frame zoo \n",
      "\n",
      "‘getSymbols’ currently uses auto.assign=TRUE by default, but will\n",
      "use auto.assign=FALSE in 0.5-0. You will still be able to use\n",
      "‘loadSymbols’ to automatically load data. getOption(\"getSymbols.env\")\n",
      "and getOption(\"getSymbols.auto.assign\") will still be checked for\n",
      "alternate defaults.\n",
      "\n",
      "This message is shown once per session and may be disabled by setting \n",
      "options(\"getSymbols.warning4.0\"=FALSE). See ?getSymbols for details.\n",
      "\n",
      "\n",
      "pausing 1 second between requests for more than 5 symbols\n",
      "\n",
      "pausing 1 second between requests for more than 5 symbols\n",
      "\n",
      "pausing 1 second between requests for more than 5 symbols\n",
      "\n",
      "pausing 1 second between requests for more than 5 symbols\n",
      "\n",
      "pausing 1 second between requests for more than 5 symbols\n",
      "\n"
     ]
    },
    {
     "data": {
      "text/html": [
       "<style>\n",
       ".list-inline {list-style: none; margin:0; padding: 0}\n",
       ".list-inline>li {display: inline-block}\n",
       ".list-inline>li:not(:last-child)::after {content: \"\\00b7\"; padding: 0 .5ex}\n",
       "</style>\n",
       "<ol class=list-inline><li>'AAPL'</li><li>'MSFT'</li><li>'ADBE'</li><li>'GOOGL'</li><li>'NVDA'</li><li>'NFLX'</li><li>'AMZN'</li><li>'GOOG'</li><li>'HPQ'</li></ol>\n"
      ],
      "text/latex": [
       "\\begin{enumerate*}\n",
       "\\item 'AAPL'\n",
       "\\item 'MSFT'\n",
       "\\item 'ADBE'\n",
       "\\item 'GOOGL'\n",
       "\\item 'NVDA'\n",
       "\\item 'NFLX'\n",
       "\\item 'AMZN'\n",
       "\\item 'GOOG'\n",
       "\\item 'HPQ'\n",
       "\\end{enumerate*}\n"
      ],
      "text/markdown": [
       "1. 'AAPL'\n",
       "2. 'MSFT'\n",
       "3. 'ADBE'\n",
       "4. 'GOOGL'\n",
       "5. 'NVDA'\n",
       "6. 'NFLX'\n",
       "7. 'AMZN'\n",
       "8. 'GOOG'\n",
       "9. 'HPQ'\n",
       "\n",
       "\n"
      ],
      "text/plain": [
       "[1] \"AAPL\"  \"MSFT\"  \"ADBE\"  \"GOOGL\" \"NVDA\"  \"NFLX\"  \"AMZN\"  \"GOOG\"  \"HPQ\"  "
      ]
     },
     "metadata": {},
     "output_type": "display_data"
    }
   ],
   "source": [
    "df = df[df$Datetime >= \"2008-01-01\" & df$Datetime <= \"2020-12-31 23:59:59\",];"
   ]
  },
  {
   "cell_type": "code",
   "execution_count": 4,
   "id": "d008734f-21fb-4725-9626-697c88e82203",
   "metadata": {},
   "outputs": [
    {
     "data": {
      "text/html": [
       "<table class=\"dataframe\">\n",
       "<caption>A matrix: 6 × 9 of type dbl</caption>\n",
       "<tbody>\n",
       "\t<tr><td>6.958571</td><td>35.22</td><td>41.71</td><td>342.9379</td><td>8.2525</td><td>3.764286</td><td>96.25</td><td>341.3157</td><td>22.54768</td></tr>\n",
       "\t<tr><td>6.961786</td><td>35.37</td><td>41.79</td><td>343.0080</td><td>8.1875</td><td>3.724286</td><td>95.21</td><td>341.3854</td><td>22.54768</td></tr>\n",
       "\t<tr><td>6.430357</td><td>34.38</td><td>40.36</td><td>328.8288</td><td>7.5000</td><td>3.515714</td><td>88.79</td><td>327.2733</td><td>21.28519</td></tr>\n",
       "\t<tr><td>6.344286</td><td>34.61</td><td>40.24</td><td>324.9500</td><td>6.7250</td><td>3.554286</td><td>88.82</td><td>323.4128</td><td>20.59491</td></tr>\n",
       "\t<tr><td>6.116071</td><td>33.45</td><td>39.22</td><td>316.1562</td><td>6.8675</td><td>3.328571</td><td>87.88</td><td>314.6606</td><td>19.61399</td></tr>\n",
       "\t<tr><td>6.407143</td><td>34.44</td><td>39.46</td><td>326.9269</td><td>7.2225</td><td>3.285714</td><td>85.22</td><td>325.3804</td><td>20.18165</td></tr>\n",
       "</tbody>\n",
       "</table>\n"
      ],
      "text/latex": [
       "A matrix: 6 × 9 of type dbl\n",
       "\\begin{tabular}{lllllllll}\n",
       "\t 6.958571 & 35.22 & 41.71 & 342.9379 & 8.2525 & 3.764286 & 96.25 & 341.3157 & 22.54768\\\\\n",
       "\t 6.961786 & 35.37 & 41.79 & 343.0080 & 8.1875 & 3.724286 & 95.21 & 341.3854 & 22.54768\\\\\n",
       "\t 6.430357 & 34.38 & 40.36 & 328.8288 & 7.5000 & 3.515714 & 88.79 & 327.2733 & 21.28519\\\\\n",
       "\t 6.344286 & 34.61 & 40.24 & 324.9500 & 6.7250 & 3.554286 & 88.82 & 323.4128 & 20.59491\\\\\n",
       "\t 6.116071 & 33.45 & 39.22 & 316.1562 & 6.8675 & 3.328571 & 87.88 & 314.6606 & 19.61399\\\\\n",
       "\t 6.407143 & 34.44 & 39.46 & 326.9269 & 7.2225 & 3.285714 & 85.22 & 325.3804 & 20.18165\\\\\n",
       "\\end{tabular}\n"
      ],
      "text/markdown": [
       "\n",
       "A matrix: 6 × 9 of type dbl\n",
       "\n",
       "| 6.958571 | 35.22 | 41.71 | 342.9379 | 8.2525 | 3.764286 | 96.25 | 341.3157 | 22.54768 |\n",
       "| 6.961786 | 35.37 | 41.79 | 343.0080 | 8.1875 | 3.724286 | 95.21 | 341.3854 | 22.54768 |\n",
       "| 6.430357 | 34.38 | 40.36 | 328.8288 | 7.5000 | 3.515714 | 88.79 | 327.2733 | 21.28519 |\n",
       "| 6.344286 | 34.61 | 40.24 | 324.9500 | 6.7250 | 3.554286 | 88.82 | 323.4128 | 20.59491 |\n",
       "| 6.116071 | 33.45 | 39.22 | 316.1562 | 6.8675 | 3.328571 | 87.88 | 314.6606 | 19.61399 |\n",
       "| 6.407143 | 34.44 | 39.46 | 326.9269 | 7.2225 | 3.285714 | 85.22 | 325.3804 | 20.18165 |\n",
       "\n"
      ],
      "text/plain": [
       "     [,1]     [,2]  [,3]  [,4]     [,5]   [,6]     [,7]  [,8]     [,9]    \n",
       "[1,] 6.958571 35.22 41.71 342.9379 8.2525 3.764286 96.25 341.3157 22.54768\n",
       "[2,] 6.961786 35.37 41.79 343.0080 8.1875 3.724286 95.21 341.3854 22.54768\n",
       "[3,] 6.430357 34.38 40.36 328.8288 7.5000 3.515714 88.79 327.2733 21.28519\n",
       "[4,] 6.344286 34.61 40.24 324.9500 6.7250 3.554286 88.82 323.4128 20.59491\n",
       "[5,] 6.116071 33.45 39.22 316.1562 6.8675 3.328571 87.88 314.6606 19.61399\n",
       "[6,] 6.407143 34.44 39.46 326.9269 7.2225 3.285714 85.22 325.3804 20.18165"
      ]
     },
     "metadata": {},
     "output_type": "display_data"
    }
   ],
   "source": [
    "head(df)"
   ]
  },
  {
   "cell_type": "code",
   "execution_count": 5,
   "id": "43cf822f-cb4d-45c3-b0cf-ba0d9c9835bc",
   "metadata": {},
   "outputs": [
    {
     "data": {
      "text/html": [
       "<style>\n",
       ".list-inline {list-style: none; margin:0; padding: 0}\n",
       ".list-inline>li {display: inline-block}\n",
       ".list-inline>li:not(:last-child)::after {content: \"\\00b7\"; padding: 0 .5ex}\n",
       "</style>\n",
       "<ol class=list-inline><li>3441</li><li>9</li></ol>\n"
      ],
      "text/latex": [
       "\\begin{enumerate*}\n",
       "\\item 3441\n",
       "\\item 9\n",
       "\\end{enumerate*}\n"
      ],
      "text/markdown": [
       "1. 3441\n",
       "2. 9\n",
       "\n",
       "\n"
      ],
      "text/plain": [
       "[1] 3441    9"
      ]
     },
     "metadata": {},
     "output_type": "display_data"
    }
   ],
   "source": [
    "dim(df)"
   ]
  },
  {
   "cell_type": "code",
   "execution_count": 6,
   "id": "68893cf9-6291-438b-8060-1582a36291a2",
   "metadata": {},
   "outputs": [],
   "source": [
    "Z = prcomp(df[,1:9], retx = TRUE)\n",
    "# Z = princomp(df[,1:9])"
   ]
  },
  {
   "cell_type": "code",
   "execution_count": 7,
   "id": "a13dce87-8174-4115-b5f8-f36bd25d0eb8",
   "metadata": {},
   "outputs": [
    {
     "data": {
      "text/html": [
       "<table class=\"dataframe\">\n",
       "<caption>A data.frame: 9 × 9</caption>\n",
       "<thead>\n",
       "\t<tr><th scope=col>PC1</th><th scope=col>PC2</th><th scope=col>PC3</th><th scope=col>PC4</th><th scope=col>PC5</th><th scope=col>PC6</th><th scope=col>PC7</th><th scope=col>PC8</th><th scope=col>PC9</th></tr>\n",
       "\t<tr><th scope=col>&lt;dbl&gt;</th><th scope=col>&lt;dbl&gt;</th><th scope=col>&lt;dbl&gt;</th><th scope=col>&lt;dbl&gt;</th><th scope=col>&lt;dbl&gt;</th><th scope=col>&lt;dbl&gt;</th><th scope=col>&lt;dbl&gt;</th><th scope=col>&lt;dbl&gt;</th><th scope=col>&lt;dbl&gt;</th></tr>\n",
       "</thead>\n",
       "<tbody>\n",
       "\t<tr><td>0.026020158</td><td>-0.001073236</td><td> 0.180539148</td><td> 0.04637891</td><td>-0.043115497</td><td> 0.71314172</td><td>-0.43930551</td><td> 0.308988236</td><td>-0.407042123</td></tr>\n",
       "\t<tr><td>0.051257758</td><td> 0.010151115</td><td> 0.227249674</td><td> 0.32432380</td><td> 0.250906341</td><td> 0.07667232</td><td>-0.52046368</td><td>-0.621166227</td><td> 0.338937589</td></tr>\n",
       "\t<tr><td>0.117152511</td><td> 0.048738095</td><td> 0.252870219</td><td> 0.79530025</td><td> 0.268024186</td><td>-0.04068591</td><td> 0.37296822</td><td> 0.255360516</td><td>-0.098221440</td></tr>\n",
       "\t<tr><td>0.427319539</td><td>-0.561686039</td><td>-0.155638141</td><td>-0.12444466</td><td> 0.210126669</td><td> 0.43807643</td><td> 0.39751121</td><td>-0.251088211</td><td> 0.071221262</td></tr>\n",
       "\t<tr><td>0.032980698</td><td>-0.002096441</td><td> 0.259156108</td><td> 0.19161901</td><td>-0.845184344</td><td> 0.21109136</td><td> 0.20186492</td><td>-0.135496946</td><td> 0.277530440</td></tr>\n",
       "\t<tr><td>0.131230246</td><td> 0.111052749</td><td>-0.858907405</td><td> 0.39719698</td><td>-0.181419451</td><td> 0.07931704</td><td>-0.18317843</td><td> 0.019155956</td><td> 0.042814082</td></tr>\n",
       "\t<tr><td>0.771849295</td><td> 0.597090283</td><td> 0.097486275</td><td>-0.19181737</td><td> 0.009800495</td><td>-0.03022210</td><td> 0.01602331</td><td>-0.009214872</td><td>-0.009126772</td></tr>\n",
       "\t<tr><td>0.431628006</td><td>-0.559618291</td><td> 0.114634340</td><td> 0.07314370</td><td>-0.204802132</td><td>-0.46002018</td><td>-0.39536875</td><td> 0.258478122</td><td>-0.073100841</td></tr>\n",
       "\t<tr><td>0.002391864</td><td>-0.001627331</td><td>-0.008258245</td><td> 0.08970462</td><td>-0.172937345</td><td>-0.16911903</td><td> 0.09017087</td><td>-0.552089014</td><td>-0.787676888</td></tr>\n",
       "</tbody>\n",
       "</table>\n"
      ],
      "text/latex": [
       "A data.frame: 9 × 9\n",
       "\\begin{tabular}{lllllllll}\n",
       " PC1 & PC2 & PC3 & PC4 & PC5 & PC6 & PC7 & PC8 & PC9\\\\\n",
       " <dbl> & <dbl> & <dbl> & <dbl> & <dbl> & <dbl> & <dbl> & <dbl> & <dbl>\\\\\n",
       "\\hline\n",
       "\t 0.026020158 & -0.001073236 &  0.180539148 &  0.04637891 & -0.043115497 &  0.71314172 & -0.43930551 &  0.308988236 & -0.407042123\\\\\n",
       "\t 0.051257758 &  0.010151115 &  0.227249674 &  0.32432380 &  0.250906341 &  0.07667232 & -0.52046368 & -0.621166227 &  0.338937589\\\\\n",
       "\t 0.117152511 &  0.048738095 &  0.252870219 &  0.79530025 &  0.268024186 & -0.04068591 &  0.37296822 &  0.255360516 & -0.098221440\\\\\n",
       "\t 0.427319539 & -0.561686039 & -0.155638141 & -0.12444466 &  0.210126669 &  0.43807643 &  0.39751121 & -0.251088211 &  0.071221262\\\\\n",
       "\t 0.032980698 & -0.002096441 &  0.259156108 &  0.19161901 & -0.845184344 &  0.21109136 &  0.20186492 & -0.135496946 &  0.277530440\\\\\n",
       "\t 0.131230246 &  0.111052749 & -0.858907405 &  0.39719698 & -0.181419451 &  0.07931704 & -0.18317843 &  0.019155956 &  0.042814082\\\\\n",
       "\t 0.771849295 &  0.597090283 &  0.097486275 & -0.19181737 &  0.009800495 & -0.03022210 &  0.01602331 & -0.009214872 & -0.009126772\\\\\n",
       "\t 0.431628006 & -0.559618291 &  0.114634340 &  0.07314370 & -0.204802132 & -0.46002018 & -0.39536875 &  0.258478122 & -0.073100841\\\\\n",
       "\t 0.002391864 & -0.001627331 & -0.008258245 &  0.08970462 & -0.172937345 & -0.16911903 &  0.09017087 & -0.552089014 & -0.787676888\\\\\n",
       "\\end{tabular}\n"
      ],
      "text/markdown": [
       "\n",
       "A data.frame: 9 × 9\n",
       "\n",
       "| PC1 &lt;dbl&gt; | PC2 &lt;dbl&gt; | PC3 &lt;dbl&gt; | PC4 &lt;dbl&gt; | PC5 &lt;dbl&gt; | PC6 &lt;dbl&gt; | PC7 &lt;dbl&gt; | PC8 &lt;dbl&gt; | PC9 &lt;dbl&gt; |\n",
       "|---|---|---|---|---|---|---|---|---|\n",
       "| 0.026020158 | -0.001073236 |  0.180539148 |  0.04637891 | -0.043115497 |  0.71314172 | -0.43930551 |  0.308988236 | -0.407042123 |\n",
       "| 0.051257758 |  0.010151115 |  0.227249674 |  0.32432380 |  0.250906341 |  0.07667232 | -0.52046368 | -0.621166227 |  0.338937589 |\n",
       "| 0.117152511 |  0.048738095 |  0.252870219 |  0.79530025 |  0.268024186 | -0.04068591 |  0.37296822 |  0.255360516 | -0.098221440 |\n",
       "| 0.427319539 | -0.561686039 | -0.155638141 | -0.12444466 |  0.210126669 |  0.43807643 |  0.39751121 | -0.251088211 |  0.071221262 |\n",
       "| 0.032980698 | -0.002096441 |  0.259156108 |  0.19161901 | -0.845184344 |  0.21109136 |  0.20186492 | -0.135496946 |  0.277530440 |\n",
       "| 0.131230246 |  0.111052749 | -0.858907405 |  0.39719698 | -0.181419451 |  0.07931704 | -0.18317843 |  0.019155956 |  0.042814082 |\n",
       "| 0.771849295 |  0.597090283 |  0.097486275 | -0.19181737 |  0.009800495 | -0.03022210 |  0.01602331 | -0.009214872 | -0.009126772 |\n",
       "| 0.431628006 | -0.559618291 |  0.114634340 |  0.07314370 | -0.204802132 | -0.46002018 | -0.39536875 |  0.258478122 | -0.073100841 |\n",
       "| 0.002391864 | -0.001627331 | -0.008258245 |  0.08970462 | -0.172937345 | -0.16911903 |  0.09017087 | -0.552089014 | -0.787676888 |\n",
       "\n"
      ],
      "text/plain": [
       "  PC1         PC2          PC3          PC4         PC5          PC6        \n",
       "1 0.026020158 -0.001073236  0.180539148  0.04637891 -0.043115497  0.71314172\n",
       "2 0.051257758  0.010151115  0.227249674  0.32432380  0.250906341  0.07667232\n",
       "3 0.117152511  0.048738095  0.252870219  0.79530025  0.268024186 -0.04068591\n",
       "4 0.427319539 -0.561686039 -0.155638141 -0.12444466  0.210126669  0.43807643\n",
       "5 0.032980698 -0.002096441  0.259156108  0.19161901 -0.845184344  0.21109136\n",
       "6 0.131230246  0.111052749 -0.858907405  0.39719698 -0.181419451  0.07931704\n",
       "7 0.771849295  0.597090283  0.097486275 -0.19181737  0.009800495 -0.03022210\n",
       "8 0.431628006 -0.559618291  0.114634340  0.07314370 -0.204802132 -0.46002018\n",
       "9 0.002391864 -0.001627331 -0.008258245  0.08970462 -0.172937345 -0.16911903\n",
       "  PC7         PC8          PC9         \n",
       "1 -0.43930551  0.308988236 -0.407042123\n",
       "2 -0.52046368 -0.621166227  0.338937589\n",
       "3  0.37296822  0.255360516 -0.098221440\n",
       "4  0.39751121 -0.251088211  0.071221262\n",
       "5  0.20186492 -0.135496946  0.277530440\n",
       "6 -0.18317843  0.019155956  0.042814082\n",
       "7  0.01602331 -0.009214872 -0.009126772\n",
       "8 -0.39536875  0.258478122 -0.073100841\n",
       "9  0.09017087 -0.552089014 -0.787676888"
      ]
     },
     "metadata": {},
     "output_type": "display_data"
    }
   ],
   "source": [
    "data.frame(Z$rotation)\n",
    "# Z$loadings"
   ]
  },
  {
   "cell_type": "code",
   "execution_count": 8,
   "id": "53bbbaf4-85ea-4186-94ab-a801686496a8",
   "metadata": {},
   "outputs": [
    {
     "data": {
      "text/html": [
       "<style>\n",
       ".list-inline {list-style: none; margin:0; padding: 0}\n",
       ".list-inline>li {display: inline-block}\n",
       ".list-inline>li:not(:last-child)::after {content: \"\\00b7\"; padding: 0 .5ex}\n",
       "</style>\n",
       "<ol class=list-inline><li>3441</li><li>9</li></ol>\n"
      ],
      "text/latex": [
       "\\begin{enumerate*}\n",
       "\\item 3441\n",
       "\\item 9\n",
       "\\end{enumerate*}\n"
      ],
      "text/markdown": [
       "1. 3441\n",
       "2. 9\n",
       "\n",
       "\n"
      ],
      "text/plain": [
       "[1] 3441    9"
      ]
     },
     "metadata": {},
     "output_type": "display_data"
    }
   ],
   "source": [
    "dim(Z$x)"
   ]
  },
  {
   "cell_type": "markdown",
   "id": "41ae967c-425d-44d6-9d79-c0c4e4b7996c",
   "metadata": {},
   "source": [
    "## Classicial PCA"
   ]
  },
  {
   "cell_type": "code",
   "execution_count": 9,
   "id": "c40e7588-c3ba-491b-a69f-8fa73cedaf6c",
   "metadata": {},
   "outputs": [
    {
     "data": {
      "image/png": "[encoded data removed]",
      "text/plain": [
       "plot without title"
      ]
     },
     "metadata": {
      "image/png": {
       "height": 420,
       "width": 420
      }
     },
     "output_type": "display_data"
    }
   ],
   "source": [
    "plot(Z$x[,1], type=\"l\")"
   ]
  },
  {
   "cell_type": "code",
   "execution_count": 10,
   "id": "49590a87-c8d0-4444-b100-7a2b8a5b11a9",
   "metadata": {},
   "outputs": [
    {
     "data": {
      "text/html": [
       "<table class=\"dataframe\">\n",
       "<caption>A matrix: 6 × 9 of type dbl</caption>\n",
       "<thead>\n",
       "\t<tr><th></th><th scope=col>PC1</th><th scope=col>PC2</th><th scope=col>PC3</th><th scope=col>PC4</th><th scope=col>PC5</th><th scope=col>PC6</th><th scope=col>PC7</th><th scope=col>PC8</th><th scope=col>PC9</th></tr>\n",
       "</thead>\n",
       "<tbody>\n",
       "\t<tr><th scope=row>[3436,]</th><td>3832.440</td><td>-833.6214</td><td>57.07322</td><td>120.02389</td><td>-14.37805</td><td>17.00325</td><td>20.09900</td><td> 0.56336694</td><td>13.20434</td></tr>\n",
       "\t<tr><th scope=row>[3437,]</th><td>3838.353</td><td>-853.6018</td><td>60.76397</td><td>117.98891</td><td>-16.05962</td><td>18.70515</td><td>24.79849</td><td>-1.70418031</td><td>14.50216</td></tr>\n",
       "\t<tr><th scope=row>[3438,]</th><td>3838.337</td><td>-827.0880</td><td>58.01338</td><td>111.35459</td><td>-16.25506</td><td>19.52650</td><td>25.98228</td><td>-2.08847063</td><td>14.36022</td></tr>\n",
       "\t<tr><th scope=row>[3439,]</th><td>3909.278</td><td>-861.7054</td><td>54.67753</td><td>111.77090</td><td>-19.70608</td><td>21.11859</td><td>28.71751</td><td>-1.72265818</td><td>15.43064</td></tr>\n",
       "\t<tr><th scope=row>[3440,]</th><td>3979.913</td><td>-834.4226</td><td>59.44878</td><td>108.31865</td><td>-19.42065</td><td>19.39105</td><td>24.90144</td><td>-0.06389099</td><td>12.81330</td></tr>\n",
       "\t<tr><th scope=row>[3441,]</th><td>4018.659</td><td>-805.9388</td><td>59.32570</td><td> 96.77947</td><td>-17.43028</td><td>17.55116</td><td>26.03959</td><td>-0.54645379</td><td>11.98582</td></tr>\n",
       "</tbody>\n",
       "</table>\n"
      ],
      "text/latex": [
       "A matrix: 6 × 9 of type dbl\n",
       "\\begin{tabular}{r|lllllllll}\n",
       "  & PC1 & PC2 & PC3 & PC4 & PC5 & PC6 & PC7 & PC8 & PC9\\\\\n",
       "\\hline\n",
       "\t{[}3436,{]} & 3832.440 & -833.6214 & 57.07322 & 120.02389 & -14.37805 & 17.00325 & 20.09900 &  0.56336694 & 13.20434\\\\\n",
       "\t{[}3437,{]} & 3838.353 & -853.6018 & 60.76397 & 117.98891 & -16.05962 & 18.70515 & 24.79849 & -1.70418031 & 14.50216\\\\\n",
       "\t{[}3438,{]} & 3838.337 & -827.0880 & 58.01338 & 111.35459 & -16.25506 & 19.52650 & 25.98228 & -2.08847063 & 14.36022\\\\\n",
       "\t{[}3439,{]} & 3909.278 & -861.7054 & 54.67753 & 111.77090 & -19.70608 & 21.11859 & 28.71751 & -1.72265818 & 15.43064\\\\\n",
       "\t{[}3440,{]} & 3979.913 & -834.4226 & 59.44878 & 108.31865 & -19.42065 & 19.39105 & 24.90144 & -0.06389099 & 12.81330\\\\\n",
       "\t{[}3441,{]} & 4018.659 & -805.9388 & 59.32570 &  96.77947 & -17.43028 & 17.55116 & 26.03959 & -0.54645379 & 11.98582\\\\\n",
       "\\end{tabular}\n"
      ],
      "text/markdown": [
       "\n",
       "A matrix: 6 × 9 of type dbl\n",
       "\n",
       "| <!--/--> | PC1 | PC2 | PC3 | PC4 | PC5 | PC6 | PC7 | PC8 | PC9 |\n",
       "|---|---|---|---|---|---|---|---|---|---|\n",
       "| [3436,] | 3832.440 | -833.6214 | 57.07322 | 120.02389 | -14.37805 | 17.00325 | 20.09900 |  0.56336694 | 13.20434 |\n",
       "| [3437,] | 3838.353 | -853.6018 | 60.76397 | 117.98891 | -16.05962 | 18.70515 | 24.79849 | -1.70418031 | 14.50216 |\n",
       "| [3438,] | 3838.337 | -827.0880 | 58.01338 | 111.35459 | -16.25506 | 19.52650 | 25.98228 | -2.08847063 | 14.36022 |\n",
       "| [3439,] | 3909.278 | -861.7054 | 54.67753 | 111.77090 | -19.70608 | 21.11859 | 28.71751 | -1.72265818 | 15.43064 |\n",
       "| [3440,] | 3979.913 | -834.4226 | 59.44878 | 108.31865 | -19.42065 | 19.39105 | 24.90144 | -0.06389099 | 12.81330 |\n",
       "| [3441,] | 4018.659 | -805.9388 | 59.32570 |  96.77947 | -17.43028 | 17.55116 | 26.03959 | -0.54645379 | 11.98582 |\n",
       "\n"
      ],
      "text/plain": [
       "        PC1      PC2       PC3      PC4       PC5       PC6      PC7     \n",
       "[3436,] 3832.440 -833.6214 57.07322 120.02389 -14.37805 17.00325 20.09900\n",
       "[3437,] 3838.353 -853.6018 60.76397 117.98891 -16.05962 18.70515 24.79849\n",
       "[3438,] 3838.337 -827.0880 58.01338 111.35459 -16.25506 19.52650 25.98228\n",
       "[3439,] 3909.278 -861.7054 54.67753 111.77090 -19.70608 21.11859 28.71751\n",
       "[3440,] 3979.913 -834.4226 59.44878 108.31865 -19.42065 19.39105 24.90144\n",
       "[3441,] 4018.659 -805.9388 59.32570  96.77947 -17.43028 17.55116 26.03959\n",
       "        PC8         PC9     \n",
       "[3436,]  0.56336694 13.20434\n",
       "[3437,] -1.70418031 14.50216\n",
       "[3438,] -2.08847063 14.36022\n",
       "[3439,] -1.72265818 15.43064\n",
       "[3440,] -0.06389099 12.81330\n",
       "[3441,] -0.54645379 11.98582"
      ]
     },
     "metadata": {},
     "output_type": "display_data"
    }
   ],
   "source": [
    "tail(Z$x[,])"
   ]
  },
  {
   "cell_type": "code",
   "execution_count": 11,
   "id": "110c1dc4-f3b9-45cb-876e-2b2ee1589244",
   "metadata": {},
   "outputs": [
    {
     "data": {
      "text/html": [
       "<table class=\"dataframe\">\n",
       "<caption>A matrix: 9 × 9 of type dbl</caption>\n",
       "<thead>\n",
       "\t<tr><th scope=col>PC1</th><th scope=col>PC2</th><th scope=col>PC3</th><th scope=col>PC4</th><th scope=col>PC5</th><th scope=col>PC6</th><th scope=col>PC7</th><th scope=col>PC8</th><th scope=col>PC9</th></tr>\n",
       "</thead>\n",
       "<tbody>\n",
       "\t<tr><td>0.026020158</td><td>-0.001073236</td><td> 0.180539148</td><td> 0.04637891</td><td>-0.043115497</td><td> 0.71314172</td><td>-0.43930551</td><td> 0.308988236</td><td>-0.407042123</td></tr>\n",
       "\t<tr><td>0.051257758</td><td> 0.010151115</td><td> 0.227249674</td><td> 0.32432380</td><td> 0.250906341</td><td> 0.07667232</td><td>-0.52046368</td><td>-0.621166227</td><td> 0.338937589</td></tr>\n",
       "\t<tr><td>0.117152511</td><td> 0.048738095</td><td> 0.252870219</td><td> 0.79530025</td><td> 0.268024186</td><td>-0.04068591</td><td> 0.37296822</td><td> 0.255360516</td><td>-0.098221440</td></tr>\n",
       "\t<tr><td>0.427319539</td><td>-0.561686039</td><td>-0.155638141</td><td>-0.12444466</td><td> 0.210126669</td><td> 0.43807643</td><td> 0.39751121</td><td>-0.251088211</td><td> 0.071221262</td></tr>\n",
       "\t<tr><td>0.032980698</td><td>-0.002096441</td><td> 0.259156108</td><td> 0.19161901</td><td>-0.845184344</td><td> 0.21109136</td><td> 0.20186492</td><td>-0.135496946</td><td> 0.277530440</td></tr>\n",
       "\t<tr><td>0.131230246</td><td> 0.111052749</td><td>-0.858907405</td><td> 0.39719698</td><td>-0.181419451</td><td> 0.07931704</td><td>-0.18317843</td><td> 0.019155956</td><td> 0.042814082</td></tr>\n",
       "\t<tr><td>0.771849295</td><td> 0.597090283</td><td> 0.097486275</td><td>-0.19181737</td><td> 0.009800495</td><td>-0.03022210</td><td> 0.01602331</td><td>-0.009214872</td><td>-0.009126772</td></tr>\n",
       "\t<tr><td>0.431628006</td><td>-0.559618291</td><td> 0.114634340</td><td> 0.07314370</td><td>-0.204802132</td><td>-0.46002018</td><td>-0.39536875</td><td> 0.258478122</td><td>-0.073100841</td></tr>\n",
       "\t<tr><td>0.002391864</td><td>-0.001627331</td><td>-0.008258245</td><td> 0.08970462</td><td>-0.172937345</td><td>-0.16911903</td><td> 0.09017087</td><td>-0.552089014</td><td>-0.787676888</td></tr>\n",
       "</tbody>\n",
       "</table>\n"
      ],
      "text/latex": [
       "A matrix: 9 × 9 of type dbl\n",
       "\\begin{tabular}{lllllllll}\n",
       " PC1 & PC2 & PC3 & PC4 & PC5 & PC6 & PC7 & PC8 & PC9\\\\\n",
       "\\hline\n",
       "\t 0.026020158 & -0.001073236 &  0.180539148 &  0.04637891 & -0.043115497 &  0.71314172 & -0.43930551 &  0.308988236 & -0.407042123\\\\\n",
       "\t 0.051257758 &  0.010151115 &  0.227249674 &  0.32432380 &  0.250906341 &  0.07667232 & -0.52046368 & -0.621166227 &  0.338937589\\\\\n",
       "\t 0.117152511 &  0.048738095 &  0.252870219 &  0.79530025 &  0.268024186 & -0.04068591 &  0.37296822 &  0.255360516 & -0.098221440\\\\\n",
       "\t 0.427319539 & -0.561686039 & -0.155638141 & -0.12444466 &  0.210126669 &  0.43807643 &  0.39751121 & -0.251088211 &  0.071221262\\\\\n",
       "\t 0.032980698 & -0.002096441 &  0.259156108 &  0.19161901 & -0.845184344 &  0.21109136 &  0.20186492 & -0.135496946 &  0.277530440\\\\\n",
       "\t 0.131230246 &  0.111052749 & -0.858907405 &  0.39719698 & -0.181419451 &  0.07931704 & -0.18317843 &  0.019155956 &  0.042814082\\\\\n",
       "\t 0.771849295 &  0.597090283 &  0.097486275 & -0.19181737 &  0.009800495 & -0.03022210 &  0.01602331 & -0.009214872 & -0.009126772\\\\\n",
       "\t 0.431628006 & -0.559618291 &  0.114634340 &  0.07314370 & -0.204802132 & -0.46002018 & -0.39536875 &  0.258478122 & -0.073100841\\\\\n",
       "\t 0.002391864 & -0.001627331 & -0.008258245 &  0.08970462 & -0.172937345 & -0.16911903 &  0.09017087 & -0.552089014 & -0.787676888\\\\\n",
       "\\end{tabular}\n"
      ],
      "text/markdown": [
       "\n",
       "A matrix: 9 × 9 of type dbl\n",
       "\n",
       "| PC1 | PC2 | PC3 | PC4 | PC5 | PC6 | PC7 | PC8 | PC9 |\n",
       "|---|---|---|---|---|---|---|---|---|\n",
       "| 0.026020158 | -0.001073236 |  0.180539148 |  0.04637891 | -0.043115497 |  0.71314172 | -0.43930551 |  0.308988236 | -0.407042123 |\n",
       "| 0.051257758 |  0.010151115 |  0.227249674 |  0.32432380 |  0.250906341 |  0.07667232 | -0.52046368 | -0.621166227 |  0.338937589 |\n",
       "| 0.117152511 |  0.048738095 |  0.252870219 |  0.79530025 |  0.268024186 | -0.04068591 |  0.37296822 |  0.255360516 | -0.098221440 |\n",
       "| 0.427319539 | -0.561686039 | -0.155638141 | -0.12444466 |  0.210126669 |  0.43807643 |  0.39751121 | -0.251088211 |  0.071221262 |\n",
       "| 0.032980698 | -0.002096441 |  0.259156108 |  0.19161901 | -0.845184344 |  0.21109136 |  0.20186492 | -0.135496946 |  0.277530440 |\n",
       "| 0.131230246 |  0.111052749 | -0.858907405 |  0.39719698 | -0.181419451 |  0.07931704 | -0.18317843 |  0.019155956 |  0.042814082 |\n",
       "| 0.771849295 |  0.597090283 |  0.097486275 | -0.19181737 |  0.009800495 | -0.03022210 |  0.01602331 | -0.009214872 | -0.009126772 |\n",
       "| 0.431628006 | -0.559618291 |  0.114634340 |  0.07314370 | -0.204802132 | -0.46002018 | -0.39536875 |  0.258478122 | -0.073100841 |\n",
       "| 0.002391864 | -0.001627331 | -0.008258245 |  0.08970462 | -0.172937345 | -0.16911903 |  0.09017087 | -0.552089014 | -0.787676888 |\n",
       "\n"
      ],
      "text/plain": [
       "      PC1         PC2          PC3          PC4         PC5         \n",
       " [1,] 0.026020158 -0.001073236  0.180539148  0.04637891 -0.043115497\n",
       " [2,] 0.051257758  0.010151115  0.227249674  0.32432380  0.250906341\n",
       " [3,] 0.117152511  0.048738095  0.252870219  0.79530025  0.268024186\n",
       " [4,] 0.427319539 -0.561686039 -0.155638141 -0.12444466  0.210126669\n",
       " [5,] 0.032980698 -0.002096441  0.259156108  0.19161901 -0.845184344\n",
       " [6,] 0.131230246  0.111052749 -0.858907405  0.39719698 -0.181419451\n",
       " [7,] 0.771849295  0.597090283  0.097486275 -0.19181737  0.009800495\n",
       " [8,] 0.431628006 -0.559618291  0.114634340  0.07314370 -0.204802132\n",
       " [9,] 0.002391864 -0.001627331 -0.008258245  0.08970462 -0.172937345\n",
       "      PC6         PC7         PC8          PC9         \n",
       " [1,]  0.71314172 -0.43930551  0.308988236 -0.407042123\n",
       " [2,]  0.07667232 -0.52046368 -0.621166227  0.338937589\n",
       " [3,] -0.04068591  0.37296822  0.255360516 -0.098221440\n",
       " [4,]  0.43807643  0.39751121 -0.251088211  0.071221262\n",
       " [5,]  0.21109136  0.20186492 -0.135496946  0.277530440\n",
       " [6,]  0.07931704 -0.18317843  0.019155956  0.042814082\n",
       " [7,] -0.03022210  0.01602331 -0.009214872 -0.009126772\n",
       " [8,] -0.46002018 -0.39536875  0.258478122 -0.073100841\n",
       " [9,] -0.16911903  0.09017087 -0.552089014 -0.787676888"
      ]
     },
     "metadata": {},
     "output_type": "display_data"
    }
   ],
   "source": [
    "Z$rotation"
   ]
  },
  {
   "cell_type": "code",
   "execution_count": 12,
   "id": "c8cc449b-4792-4939-8b87-4bb003bc94e5",
   "metadata": {},
   "outputs": [
    {
     "ename": "ERROR",
     "evalue": "Error: $ operator is invalid for atomic vectors\n",
     "output_type": "error",
     "traceback": [
      "Error: $ operator is invalid for atomic vectors\nTraceback:\n"
     ]
    }
   ],
   "source": [
    "Z_periods_classical = c();\n",
    "for (year in first_year:last_year) {\n",
    "    startTime = sprintf(\"%s-01-01\", year);\n",
    "    endTime = sprintf(\"%s-12-31 23:59:59\", year);\n",
    "    subdf = df[df$Datetime >= startTime & df$Datetime <= endTime,];\n",
    "    Z_period = prcomp(subdf[,1:9], retx = TRUE);\n",
    "    Z_periods_classical = rbind(Z_periods_classical, as.matrix(Z_period$x));\n",
    "}"
   ]
  },
  {
   "cell_type": "code",
   "execution_count": null,
   "id": "45579dbe-1297-4bf4-8d8e-6057dedbac93",
   "metadata": {},
   "outputs": [],
   "source": [
    "options(repr.plot.width=18, repr.plot.height=18)\n",
    "par(mfrow=c(3,3))\n",
    "for (i in 1:9) {\n",
    "    plot(Z$x[, i], Z_periods_classical[, i])\n",
    "}"
   ]
  },
  {
   "cell_type": "markdown",
   "id": "5724ae39-d392-4dd7-a6aa-c7315217ad8d",
   "metadata": {},
   "source": [
    "## IPCA"
   ]
  },
  {
   "cell_type": "code",
   "execution_count": null,
   "id": "841a1367-48d1-42fb-99a3-370159ec7fcf",
   "metadata": {},
   "outputs": [],
   "source": [
    "source(\"xpca.R\")"
   ]
  },
  {
   "cell_type": "code",
   "execution_count": null,
   "id": "e66bbabc-69b6-4ae0-a2cd-d7abab7f5ba0",
   "metadata": {},
   "outputs": [],
   "source": [
    "Z_periods_ipca = c();\n",
    "W = NA;\n",
    "for (year in first_year:last_year) {\n",
    "    startTime = sprintf(\"%s-01-01\", year);\n",
    "    endTime = sprintf(\"%s-12-31 23:59:59\", year);\n",
    "    subdf = df[df$Datetime >= startTime & df$Datetime <= endTime,];\n",
    "    result = ipca(as.matrix(subdf[,1:9]), W);\n",
    "    Z_period = result$P;\n",
    "    Z_periods_ipca = rbind(Z_periods_ipca, Z_period);\n",
    "    W = result$W;\n",
    "}"
   ]
  },
  {
   "cell_type": "code",
   "execution_count": null,
   "id": "a76d7d0e-e64a-463f-8cfd-da6fa9ee2840",
   "metadata": {},
   "outputs": [],
   "source": [
    "tail(Z_periods_classical)"
   ]
  },
  {
   "cell_type": "code",
   "execution_count": null,
   "id": "56510556-1394-45dd-8336-142505df321e",
   "metadata": {},
   "outputs": [],
   "source": [
    "options(repr.plot.width=18, repr.plot.height=18)\n",
    "par(mfrow=c(3,3))\n",
    "for (i in 1:9) {\n",
    "    plot(Z$x[, i], Z_periods_ipca[, i])\n",
    "}"
   ]
  },
  {
   "cell_type": "code",
   "execution_count": null,
   "id": "59bcd452-0a4e-4e8f-92f4-d4a5f54a7e89",
   "metadata": {},
   "outputs": [],
   "source": [
    "tail(Z$x[, 1])"
   ]
  },
  {
   "cell_type": "code",
   "execution_count": null,
   "id": "5633590a-ee95-400c-a8b7-8b72a4b7b322",
   "metadata": {},
   "outputs": [],
   "source": [
    "tail(Z_periods_ipca[, 1])"
   ]
  }
 ],
 "metadata": {
  "kernelspec": {
   "display_name": "R",
   "language": "R",
   "name": "ir"
  },
  "language_info": {
   "codemirror_mode": "r",
   "file_extension": ".r",
   "mimetype": "text/x-r-source",
   "name": "R",
   "pygments_lexer": "r",
   "version": "4.1.2"
  }
 },
 "nbformat": 4,
 "nbformat_minor": 5
}
