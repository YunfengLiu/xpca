{
 "cells": [
  {
   "cell_type": "markdown",
   "id": "46de0aab-1978-4d90-9c62-bd81baa12815",
   "metadata": {},
   "source": [
    "# EWMPCA new data alpha seeking"
   ]
  },
  {
   "cell_type": "code",
   "execution_count": 1,
   "id": "0ffd5541-c943-4c5f-9710-ff679587ee9d",
   "metadata": {},
   "outputs": [],
   "source": [
    "first_year = 2016; last_year = 2020;"
   ]
  },
  {
   "cell_type": "code",
   "execution_count": 2,
   "id": "a70682c8-4aeb-4999-ae82-6d7db3900444",
   "metadata": {},
   "outputs": [
    {
     "name": "stderr",
     "output_type": "stream",
     "text": [
      "Loading required package: quantmod\n",
      "\n",
      "Loading required package: xts\n",
      "\n",
      "Loading required package: zoo\n",
      "\n",
      "\n",
      "Attaching package: ‘zoo’\n",
      "\n",
      "\n",
      "The following objects are masked from ‘package:base’:\n",
      "\n",
      "    as.Date, as.Date.numeric\n",
      "\n",
      "\n",
      "Loading required package: TTR\n",
      "\n",
      "Registered S3 method overwritten by 'quantmod':\n",
      "  method            from\n",
      "  as.zoo.data.frame zoo \n",
      "\n",
      "‘getSymbols’ currently uses auto.assign=TRUE by default, but will\n",
      "use auto.assign=FALSE in 0.5-0. You will still be able to use\n",
      "‘loadSymbols’ to automatically load data. getOption(\"getSymbols.env\")\n",
      "and getOption(\"getSymbols.auto.assign\") will still be checked for\n",
      "alternate defaults.\n",
      "\n",
      "This message is shown once per session and may be disabled by setting \n",
      "options(\"getSymbols.warning4.0\"=FALSE). See ?getSymbols for details.\n",
      "\n",
      "\n",
      "Warning message:\n",
      "“^HSI contains missing values. Some functions will not work if objects contain missing values in the middle of the series. Consider using na.omit(), na.approx(), na.fill(), etc to remove or replace them.”\n",
      "Warning message:\n",
      "“^MERV contains missing values. Some functions will not work if objects contain missing values in the middle of the series. Consider using na.omit(), na.approx(), na.fill(), etc to remove or replace them.”\n"
     ]
    },
    {
     "data": {
      "text/html": [
       "<style>\n",
       ".list-inline {list-style: none; margin:0; padding: 0}\n",
       ".list-inline>li {display: inline-block}\n",
       ".list-inline>li:not(:last-child)::after {content: \"\\00b7\"; padding: 0 .5ex}\n",
       "</style>\n",
       "<ol class=list-inline><li>'^GSPC'</li><li>'^HSI'</li><li>'^MERV'</li><li>'ISIG'</li><li>'AAPL'</li></ol>\n"
      ],
      "text/latex": [
       "\\begin{enumerate*}\n",
       "\\item '\\textasciicircum{}GSPC'\n",
       "\\item '\\textasciicircum{}HSI'\n",
       "\\item '\\textasciicircum{}MERV'\n",
       "\\item 'ISIG'\n",
       "\\item 'AAPL'\n",
       "\\end{enumerate*}\n"
      ],
      "text/markdown": [
       "1. '^GSPC'\n",
       "2. '^HSI'\n",
       "3. '^MERV'\n",
       "4. 'ISIG'\n",
       "5. 'AAPL'\n",
       "\n",
       "\n"
      ],
      "text/plain": [
       "[1] \"^GSPC\" \"^HSI\"  \"^MERV\" \"ISIG\"  \"AAPL\" "
      ]
     },
     "metadata": {},
     "output_type": "display_data"
    },
    {
     "name": "stderr",
     "output_type": "stream",
     "text": [
      "Warning message in cbind(coredata(GSPC[\"2008-01/2021-08\"])[, 4], coredata(HSI[\"2008-01/2021-08\"])[, :\n",
      "“number of rows of result is not a multiple of vector length (arg 2)”\n"
     ]
    }
   ],
   "source": [
    "\n",
    "if (!require(\"quantmod\")) {\n",
    "    install.packages(\"quantmod\");\n",
    "    library(\"quantmod\");\n",
    "}\n",
    "\n",
    "getSymbols(c(\"^GSPC\", \"^HSI\", \"^MERV\", \"ISIG\", \"AAPL\"),src=\"yahoo\");\n",
    "\n",
    "df = cbind(\n",
    "  coredata(GSPC[\"2008-01/2021-08\"])[,4],\n",
    "  coredata(HSI[\"2008-01/2021-08\"])[,4],\n",
    "  coredata(MERV[\"2008-01/2021-08\"])[,4],\n",
    "  coredata(ISIG[\"2008-01/2021-08\"])[,4],\n",
    "  coredata(AAPL[\"2008-01/2021-08\"])[,4]\n",
    ");\n",
    "\n",
    "df = na.omit(df);\n",
    "tmp = c();\n",
    "for(i in 1:5) {\n",
    "    tmp = cbind(tmp, diff(log(df[,i])));\n",
    "}\n",
    "\n",
    "df = as.data.frame(tmp);\n"
   ]
  },
  {
   "cell_type": "code",
   "execution_count": 3,
   "id": "173abc1e-da34-4f06-9e27-85c720dbd157",
   "metadata": {},
   "outputs": [
    {
     "data": {
      "text/html": [
       "<table class=\"dataframe\">\n",
       "<caption>A data.frame: 6 × 5</caption>\n",
       "<thead>\n",
       "\t<tr><th></th><th scope=col>V1</th><th scope=col>V2</th><th scope=col>V3</th><th scope=col>V4</th><th scope=col>V5</th></tr>\n",
       "\t<tr><th></th><th scope=col>&lt;dbl&gt;</th><th scope=col>&lt;dbl&gt;</th><th scope=col>&lt;dbl&gt;</th><th scope=col>&lt;dbl&gt;</th><th scope=col>&lt;dbl&gt;</th></tr>\n",
       "</thead>\n",
       "<tbody>\n",
       "\t<tr><th scope=row>3398</th><td> 0.001494619</td><td>-0.01893407</td><td> 0.003746624</td><td>-0.044154329</td><td>-0.0006014232</td></tr>\n",
       "\t<tr><th scope=row>3399</th><td> 0.002217657</td><td> 0.01253692</td><td> 0.005972018</td><td>-0.005486982</td><td>-0.0084569537</td></tr>\n",
       "\t<tr><th scope=row>3400</th><td>-0.005841950</td><td> 0.03127123</td><td> 0.005151276</td><td> 0.028476500</td><td>-0.0055424814</td></tr>\n",
       "\t<tr><th scope=row>3401</th><td> 0.008769071</td><td> 0.01629555</td><td>-0.008823283</td><td> 0.078395939</td><td> 0.0071588946</td></tr>\n",
       "\t<tr><th scope=row>3402</th><td> 0.004297324</td><td> 0.01286288</td><td>-0.008537790</td><td> 0.043537710</td><td> 0.0299637224</td></tr>\n",
       "\t<tr><th scope=row>3403</th><td>-0.001350027</td><td>-0.01092536</td><td> 0.015835467</td><td>-0.053475680</td><td>-0.0084604080</td></tr>\n",
       "</tbody>\n",
       "</table>\n"
      ],
      "text/latex": [
       "A data.frame: 6 × 5\n",
       "\\begin{tabular}{r|lllll}\n",
       "  & V1 & V2 & V3 & V4 & V5\\\\\n",
       "  & <dbl> & <dbl> & <dbl> & <dbl> & <dbl>\\\\\n",
       "\\hline\n",
       "\t3398 &  0.001494619 & -0.01893407 &  0.003746624 & -0.044154329 & -0.0006014232\\\\\n",
       "\t3399 &  0.002217657 &  0.01253692 &  0.005972018 & -0.005486982 & -0.0084569537\\\\\n",
       "\t3400 & -0.005841950 &  0.03127123 &  0.005151276 &  0.028476500 & -0.0055424814\\\\\n",
       "\t3401 &  0.008769071 &  0.01629555 & -0.008823283 &  0.078395939 &  0.0071588946\\\\\n",
       "\t3402 &  0.004297324 &  0.01286288 & -0.008537790 &  0.043537710 &  0.0299637224\\\\\n",
       "\t3403 & -0.001350027 & -0.01092536 &  0.015835467 & -0.053475680 & -0.0084604080\\\\\n",
       "\\end{tabular}\n"
      ],
      "text/markdown": [
       "\n",
       "A data.frame: 6 × 5\n",
       "\n",
       "| <!--/--> | V1 &lt;dbl&gt; | V2 &lt;dbl&gt; | V3 &lt;dbl&gt; | V4 &lt;dbl&gt; | V5 &lt;dbl&gt; |\n",
       "|---|---|---|---|---|---|\n",
       "| 3398 |  0.001494619 | -0.01893407 |  0.003746624 | -0.044154329 | -0.0006014232 |\n",
       "| 3399 |  0.002217657 |  0.01253692 |  0.005972018 | -0.005486982 | -0.0084569537 |\n",
       "| 3400 | -0.005841950 |  0.03127123 |  0.005151276 |  0.028476500 | -0.0055424814 |\n",
       "| 3401 |  0.008769071 |  0.01629555 | -0.008823283 |  0.078395939 |  0.0071588946 |\n",
       "| 3402 |  0.004297324 |  0.01286288 | -0.008537790 |  0.043537710 |  0.0299637224 |\n",
       "| 3403 | -0.001350027 | -0.01092536 |  0.015835467 | -0.053475680 | -0.0084604080 |\n",
       "\n"
      ],
      "text/plain": [
       "     V1           V2          V3           V4           V5           \n",
       "3398  0.001494619 -0.01893407  0.003746624 -0.044154329 -0.0006014232\n",
       "3399  0.002217657  0.01253692  0.005972018 -0.005486982 -0.0084569537\n",
       "3400 -0.005841950  0.03127123  0.005151276  0.028476500 -0.0055424814\n",
       "3401  0.008769071  0.01629555 -0.008823283  0.078395939  0.0071588946\n",
       "3402  0.004297324  0.01286288 -0.008537790  0.043537710  0.0299637224\n",
       "3403 -0.001350027 -0.01092536  0.015835467 -0.053475680 -0.0084604080"
      ]
     },
     "metadata": {},
     "output_type": "display_data"
    }
   ],
   "source": [
    "tail(df)"
   ]
  },
  {
   "cell_type": "code",
   "execution_count": 4,
   "id": "7aa0fee1-c2d2-4dfd-9ce0-084c0779ffa8",
   "metadata": {},
   "outputs": [],
   "source": [
    "Z = prcomp(df[,1:3], retx = TRUE)"
   ]
  },
  {
   "cell_type": "code",
   "execution_count": 5,
   "id": "be7474f3-2203-4bed-bd95-2d480a5f8f21",
   "metadata": {},
   "outputs": [],
   "source": [
    "classical_pca = Z$x;"
   ]
  },
  {
   "cell_type": "code",
   "execution_count": 6,
   "id": "5ed149d8-113c-47f6-9517-b61bdd5f1321",
   "metadata": {},
   "outputs": [
    {
     "data": {
      "text/html": [
       "<table class=\"dataframe\">\n",
       "<caption>A matrix: 6 × 3 of type dbl</caption>\n",
       "<thead>\n",
       "\t<tr><th scope=col>PC1</th><th scope=col>PC2</th><th scope=col>PC3</th></tr>\n",
       "</thead>\n",
       "<tbody>\n",
       "\t<tr><td>-0.0006884565</td><td> 0.02467172</td><td> 0.001018349</td></tr>\n",
       "\t<tr><td>-0.0100004411</td><td>-0.02193206</td><td>-0.026419017</td></tr>\n",
       "\t<tr><td>-0.0119830351</td><td> 0.01215323</td><td> 0.003570904</td></tr>\n",
       "\t<tr><td> 0.0175049716</td><td> 0.00355139</td><td>-0.018716062</td></tr>\n",
       "\t<tr><td>-0.0241527462</td><td>-0.01925903</td><td> 0.012195396</td></tr>\n",
       "\t<tr><td>-0.0024792786</td><td> 0.01355120</td><td> 0.008339772</td></tr>\n",
       "</tbody>\n",
       "</table>\n"
      ],
      "text/latex": [
       "A matrix: 6 × 3 of type dbl\n",
       "\\begin{tabular}{lll}\n",
       " PC1 & PC2 & PC3\\\\\n",
       "\\hline\n",
       "\t -0.0006884565 &  0.02467172 &  0.001018349\\\\\n",
       "\t -0.0100004411 & -0.02193206 & -0.026419017\\\\\n",
       "\t -0.0119830351 &  0.01215323 &  0.003570904\\\\\n",
       "\t  0.0175049716 &  0.00355139 & -0.018716062\\\\\n",
       "\t -0.0241527462 & -0.01925903 &  0.012195396\\\\\n",
       "\t -0.0024792786 &  0.01355120 &  0.008339772\\\\\n",
       "\\end{tabular}\n"
      ],
      "text/markdown": [
       "\n",
       "A matrix: 6 × 3 of type dbl\n",
       "\n",
       "| PC1 | PC2 | PC3 |\n",
       "|---|---|---|\n",
       "| -0.0006884565 |  0.02467172 |  0.001018349 |\n",
       "| -0.0100004411 | -0.02193206 | -0.026419017 |\n",
       "| -0.0119830351 |  0.01215323 |  0.003570904 |\n",
       "|  0.0175049716 |  0.00355139 | -0.018716062 |\n",
       "| -0.0241527462 | -0.01925903 |  0.012195396 |\n",
       "| -0.0024792786 |  0.01355120 |  0.008339772 |\n",
       "\n"
      ],
      "text/plain": [
       "     PC1           PC2         PC3         \n",
       "[1,] -0.0006884565  0.02467172  0.001018349\n",
       "[2,] -0.0100004411 -0.02193206 -0.026419017\n",
       "[3,] -0.0119830351  0.01215323  0.003570904\n",
       "[4,]  0.0175049716  0.00355139 -0.018716062\n",
       "[5,] -0.0241527462 -0.01925903  0.012195396\n",
       "[6,] -0.0024792786  0.01355120  0.008339772"
      ]
     },
     "metadata": {},
     "output_type": "display_data"
    }
   ],
   "source": [
    "head(classical_pca)"
   ]
  },
  {
   "cell_type": "code",
   "execution_count": 7,
   "id": "4a56086c-2c11-4428-8d30-1fb78c750cfc",
   "metadata": {},
   "outputs": [],
   "source": [
    "source(\"xpca.R\")"
   ]
  },
  {
   "cell_type": "code",
   "execution_count": 8,
   "id": "7a9ae8fc-9dfa-4742-8799-241efe7ab234",
   "metadata": {},
   "outputs": [
    {
     "name": "stdout",
     "output_type": "stream",
     "text": [
      "[1] \"eigen values:\"\n",
      "[1] 0.0001846042 0.0002320676 0.0007295633\n",
      "[1] \"eigen vectors:\"\n",
      "             [,1]      [,2]        [,3]\n",
      "[1,] -0.006171559 0.2605906  0.96542968\n",
      "[2,]  0.988016080 0.1504906 -0.03430475\n",
      "[3,] -0.154227549 0.9536483 -0.25839642\n"
     ]
    }
   ],
   "source": [
    "minLimit = min(dim(df)[1], 100);\n",
    "cov_init = cov(df[1:minLimit,1:3]);\n",
    "W_init = sorted_eig(cov_init);"
   ]
  },
  {
   "cell_type": "code",
   "execution_count": 9,
   "id": "79b95888-7638-4b44-a4f0-e7acdb78b1b0",
   "metadata": {},
   "outputs": [
    {
     "data": {
      "text/html": [
       "<table class=\"dataframe\">\n",
       "<caption>A matrix: 3 × 3 of type dbl</caption>\n",
       "<tbody>\n",
       "\t<tr><td>-0.006171559</td><td>0.2605906</td><td> 0.96542968</td></tr>\n",
       "\t<tr><td> 0.988016080</td><td>0.1504906</td><td>-0.03430475</td></tr>\n",
       "\t<tr><td>-0.154227549</td><td>0.9536483</td><td>-0.25839642</td></tr>\n",
       "</tbody>\n",
       "</table>\n"
      ],
      "text/latex": [
       "A matrix: 3 × 3 of type dbl\n",
       "\\begin{tabular}{lll}\n",
       "\t -0.006171559 & 0.2605906 &  0.96542968\\\\\n",
       "\t  0.988016080 & 0.1504906 & -0.03430475\\\\\n",
       "\t -0.154227549 & 0.9536483 & -0.25839642\\\\\n",
       "\\end{tabular}\n"
      ],
      "text/markdown": [
       "\n",
       "A matrix: 3 × 3 of type dbl\n",
       "\n",
       "| -0.006171559 | 0.2605906 |  0.96542968 |\n",
       "|  0.988016080 | 0.1504906 | -0.03430475 |\n",
       "| -0.154227549 | 0.9536483 | -0.25839642 |\n",
       "\n"
      ],
      "text/plain": [
       "     [,1]         [,2]      [,3]       \n",
       "[1,] -0.006171559 0.2605906  0.96542968\n",
       "[2,]  0.988016080 0.1504906 -0.03430475\n",
       "[3,] -0.154227549 0.9536483 -0.25839642"
      ]
     },
     "metadata": {},
     "output_type": "display_data"
    }
   ],
   "source": [
    "W_init"
   ]
  },
  {
   "cell_type": "code",
   "execution_count": 10,
   "id": "98587401-6a6d-46e6-8350-70cf685a8178",
   "metadata": {},
   "outputs": [],
   "source": [
    "Z2 = ewmpca(df[,1:3], 0.9305, W_init, return_extra = TRUE);\n",
    "ewm_pca = Z2$pca;"
   ]
  },
  {
   "cell_type": "code",
   "execution_count": 11,
   "id": "545b74a2-6f56-4ca8-8d68-bd041c7165cb",
   "metadata": {},
   "outputs": [
    {
     "data": {
      "text/html": [
       "<style>\n",
       ".list-inline {list-style: none; margin:0; padding: 0}\n",
       ".list-inline>li {display: inline-block}\n",
       ".list-inline>li:not(:last-child)::after {content: \"\\00b7\"; padding: 0 .5ex}\n",
       "</style>\n",
       "<ol class=list-inline><li>3403</li><li>3</li></ol>\n"
      ],
      "text/latex": [
       "\\begin{enumerate*}\n",
       "\\item 3403\n",
       "\\item 3\n",
       "\\end{enumerate*}\n"
      ],
      "text/markdown": [
       "1. 3403\n",
       "2. 3\n",
       "\n",
       "\n"
      ],
      "text/plain": [
       "[1] 3403    3"
      ]
     },
     "metadata": {},
     "output_type": "display_data"
    }
   ],
   "source": [
    "dim(ewm_pca)"
   ]
  },
  {
   "cell_type": "code",
   "execution_count": 12,
   "id": "6130d767-b34d-4150-a25d-1edca469baac",
   "metadata": {},
   "outputs": [
    {
     "data": {
      "text/html": [
       "<table class=\"dataframe\">\n",
       "<caption>A matrix: 6 × 3 of type dbl</caption>\n",
       "<tbody>\n",
       "\t<tr><td>0.000000000</td><td> 0.000000000</td><td> 0.000000000</td></tr>\n",
       "\t<tr><td>0.045625261</td><td>-0.021562480</td><td>-0.007796538</td></tr>\n",
       "\t<tr><td>0.009743285</td><td> 0.006731658</td><td>-0.007048733</td></tr>\n",
       "\t<tr><td>0.014143971</td><td>-0.020668607</td><td> 0.015709213</td></tr>\n",
       "\t<tr><td>0.037839713</td><td> 0.022248925</td><td>-0.005105067</td></tr>\n",
       "\t<tr><td>0.001401748</td><td> 0.008539702</td><td> 0.002848872</td></tr>\n",
       "</tbody>\n",
       "</table>\n"
      ],
      "text/latex": [
       "A matrix: 6 × 3 of type dbl\n",
       "\\begin{tabular}{lll}\n",
       "\t 0.000000000 &  0.000000000 &  0.000000000\\\\\n",
       "\t 0.045625261 & -0.021562480 & -0.007796538\\\\\n",
       "\t 0.009743285 &  0.006731658 & -0.007048733\\\\\n",
       "\t 0.014143971 & -0.020668607 &  0.015709213\\\\\n",
       "\t 0.037839713 &  0.022248925 & -0.005105067\\\\\n",
       "\t 0.001401748 &  0.008539702 &  0.002848872\\\\\n",
       "\\end{tabular}\n"
      ],
      "text/markdown": [
       "\n",
       "A matrix: 6 × 3 of type dbl\n",
       "\n",
       "| 0.000000000 |  0.000000000 |  0.000000000 |\n",
       "| 0.045625261 | -0.021562480 | -0.007796538 |\n",
       "| 0.009743285 |  0.006731658 | -0.007048733 |\n",
       "| 0.014143971 | -0.020668607 |  0.015709213 |\n",
       "| 0.037839713 |  0.022248925 | -0.005105067 |\n",
       "| 0.001401748 |  0.008539702 |  0.002848872 |\n",
       "\n"
      ],
      "text/plain": [
       "     [,1]        [,2]         [,3]        \n",
       "[1,] 0.000000000  0.000000000  0.000000000\n",
       "[2,] 0.045625261 -0.021562480 -0.007796538\n",
       "[3,] 0.009743285  0.006731658 -0.007048733\n",
       "[4,] 0.014143971 -0.020668607  0.015709213\n",
       "[5,] 0.037839713  0.022248925 -0.005105067\n",
       "[6,] 0.001401748  0.008539702  0.002848872"
      ]
     },
     "metadata": {},
     "output_type": "display_data"
    }
   ],
   "source": [
    "head(ewm_pca)"
   ]
  },
  {
   "cell_type": "code",
   "execution_count": 13,
   "id": "00aeb133-3af9-4197-896c-691860c3263c",
   "metadata": {},
   "outputs": [],
   "source": [
    "cross_cov = cov(cbind(classical_pca, ewm_pca));"
   ]
  },
  {
   "cell_type": "code",
   "execution_count": 14,
   "id": "8e77ebae-a87a-4484-bf42-f7e9bcf60048",
   "metadata": {},
   "outputs": [
    {
     "data": {
      "text/html": [
       "<table class=\"dataframe\">\n",
       "<caption>A matrix: 6 × 6 of type dbl</caption>\n",
       "<thead>\n",
       "\t<tr><th></th><th scope=col>PC1</th><th scope=col>PC2</th><th scope=col>PC3</th><th scope=col></th><th scope=col></th><th scope=col></th></tr>\n",
       "</thead>\n",
       "<tbody>\n",
       "\t<tr><th scope=row>PC1</th><td> 4.336307e-03</td><td>-1.030730e-19</td><td>-8.905745e-21</td><td>-2.582393e-03</td><td> 2.358386e-03</td><td> 6.458261e-05</td></tr>\n",
       "\t<tr><th scope=row>PC2</th><td>-1.030730e-19</td><td> 2.430722e-04</td><td> 1.148316e-21</td><td>-3.789591e-05</td><td>-4.886520e-06</td><td> 9.726226e-07</td></tr>\n",
       "\t<tr><th scope=row>PC3</th><td>-8.905745e-21</td><td> 1.148316e-21</td><td> 1.750080e-04</td><td> 4.854957e-05</td><td> 2.616404e-05</td><td> 7.251599e-06</td></tr>\n",
       "\t<tr><th scope=row></th><td>-2.582393e-03</td><td>-3.789591e-05</td><td> 4.854957e-05</td><td> 2.482075e-03</td><td>-1.656342e-03</td><td>-4.348415e-05</td></tr>\n",
       "\t<tr><th scope=row></th><td> 2.358386e-03</td><td>-4.886520e-06</td><td> 2.616404e-05</td><td>-1.656342e-03</td><td> 1.687639e-03</td><td> 2.489407e-05</td></tr>\n",
       "\t<tr><th scope=row></th><td> 6.458261e-05</td><td> 9.726226e-07</td><td> 7.251599e-06</td><td>-4.348415e-05</td><td> 2.489407e-05</td><td> 1.009463e-04</td></tr>\n",
       "</tbody>\n",
       "</table>\n"
      ],
      "text/latex": [
       "A matrix: 6 × 6 of type dbl\n",
       "\\begin{tabular}{r|llllll}\n",
       "  & PC1 & PC2 & PC3 &  &  & \\\\\n",
       "\\hline\n",
       "\tPC1 &  4.336307e-03 & -1.030730e-19 & -8.905745e-21 & -2.582393e-03 &  2.358386e-03 &  6.458261e-05\\\\\n",
       "\tPC2 & -1.030730e-19 &  2.430722e-04 &  1.148316e-21 & -3.789591e-05 & -4.886520e-06 &  9.726226e-07\\\\\n",
       "\tPC3 & -8.905745e-21 &  1.148316e-21 &  1.750080e-04 &  4.854957e-05 &  2.616404e-05 &  7.251599e-06\\\\\n",
       "\t & -2.582393e-03 & -3.789591e-05 &  4.854957e-05 &  2.482075e-03 & -1.656342e-03 & -4.348415e-05\\\\\n",
       "\t &  2.358386e-03 & -4.886520e-06 &  2.616404e-05 & -1.656342e-03 &  1.687639e-03 &  2.489407e-05\\\\\n",
       "\t &  6.458261e-05 &  9.726226e-07 &  7.251599e-06 & -4.348415e-05 &  2.489407e-05 &  1.009463e-04\\\\\n",
       "\\end{tabular}\n"
      ],
      "text/markdown": [
       "\n",
       "A matrix: 6 × 6 of type dbl\n",
       "\n",
       "| <!--/--> | PC1 | PC2 | PC3 | <!----> | <!----> | <!----> |\n",
       "|---|---|---|---|---|---|---|\n",
       "| PC1 |  4.336307e-03 | -1.030730e-19 | -8.905745e-21 | -2.582393e-03 |  2.358386e-03 |  6.458261e-05 |\n",
       "| PC2 | -1.030730e-19 |  2.430722e-04 |  1.148316e-21 | -3.789591e-05 | -4.886520e-06 |  9.726226e-07 |\n",
       "| PC3 | -8.905745e-21 |  1.148316e-21 |  1.750080e-04 |  4.854957e-05 |  2.616404e-05 |  7.251599e-06 |\n",
       "| <!----> | -2.582393e-03 | -3.789591e-05 |  4.854957e-05 |  2.482075e-03 | -1.656342e-03 | -4.348415e-05 |\n",
       "| <!----> |  2.358386e-03 | -4.886520e-06 |  2.616404e-05 | -1.656342e-03 |  1.687639e-03 |  2.489407e-05 |\n",
       "| <!----> |  6.458261e-05 |  9.726226e-07 |  7.251599e-06 | -4.348415e-05 |  2.489407e-05 |  1.009463e-04 |\n",
       "\n"
      ],
      "text/plain": [
       "    PC1           PC2           PC3                                      \n",
       "PC1  4.336307e-03 -1.030730e-19 -8.905745e-21 -2.582393e-03  2.358386e-03\n",
       "PC2 -1.030730e-19  2.430722e-04  1.148316e-21 -3.789591e-05 -4.886520e-06\n",
       "PC3 -8.905745e-21  1.148316e-21  1.750080e-04  4.854957e-05  2.616404e-05\n",
       "    -2.582393e-03 -3.789591e-05  4.854957e-05  2.482075e-03 -1.656342e-03\n",
       "     2.358386e-03 -4.886520e-06  2.616404e-05 -1.656342e-03  1.687639e-03\n",
       "     6.458261e-05  9.726226e-07  7.251599e-06 -4.348415e-05  2.489407e-05\n",
       "                 \n",
       "PC1  6.458261e-05\n",
       "PC2  9.726226e-07\n",
       "PC3  7.251599e-06\n",
       "    -4.348415e-05\n",
       "     2.489407e-05\n",
       "     1.009463e-04"
      ]
     },
     "metadata": {},
     "output_type": "display_data"
    }
   ],
   "source": [
    "cross_cov"
   ]
  },
  {
   "cell_type": "code",
   "execution_count": 15,
   "id": "09cb7096-6275-4d75-8dfa-552f7f16de26",
   "metadata": {},
   "outputs": [
    {
     "data": {
      "image/png": "[encoded data removed]",
      "text/plain": [
       "plot without title"
      ]
     },
     "metadata": {
      "image/png": {
       "height": 420,
       "width": 420
      }
     },
     "output_type": "display_data"
    }
   ],
   "source": [
    "heatmap(cross_cov, Colv = NA, Rowv = NA, symm = TRUE)"
   ]
  },
  {
   "cell_type": "code",
   "execution_count": 16,
   "id": "369b6fb6-d273-4652-848b-4ada309f40d7",
   "metadata": {},
   "outputs": [
    {
     "data": {
      "text/html": [
       "<table class=\"dataframe\">\n",
       "<caption>A matrix: 6 × 6 of type dbl</caption>\n",
       "<thead>\n",
       "\t<tr><th></th><th scope=col>PC1</th><th scope=col>PC2</th><th scope=col>PC3</th><th scope=col></th><th scope=col></th><th scope=col></th></tr>\n",
       "</thead>\n",
       "<tbody>\n",
       "\t<tr><th scope=row>PC1</th><td> 4.336307e-03</td><td>-1.030730e-19</td><td>-8.905745e-21</td><td>-2.582393e-03</td><td> 2.358386e-03</td><td> 6.458261e-05</td></tr>\n",
       "\t<tr><th scope=row>PC2</th><td>-1.030730e-19</td><td> 2.430722e-04</td><td> 1.148316e-21</td><td>-3.789591e-05</td><td>-4.886520e-06</td><td> 9.726226e-07</td></tr>\n",
       "\t<tr><th scope=row>PC3</th><td>-8.905745e-21</td><td> 1.148316e-21</td><td> 1.750080e-04</td><td> 4.854957e-05</td><td> 2.616404e-05</td><td> 7.251599e-06</td></tr>\n",
       "\t<tr><th scope=row></th><td>-2.582393e-03</td><td>-3.789591e-05</td><td> 4.854957e-05</td><td> 2.482075e-03</td><td>-1.656342e-03</td><td>-4.348415e-05</td></tr>\n",
       "\t<tr><th scope=row></th><td> 2.358386e-03</td><td>-4.886520e-06</td><td> 2.616404e-05</td><td>-1.656342e-03</td><td> 1.687639e-03</td><td> 2.489407e-05</td></tr>\n",
       "\t<tr><th scope=row></th><td> 6.458261e-05</td><td> 9.726226e-07</td><td> 7.251599e-06</td><td>-4.348415e-05</td><td> 2.489407e-05</td><td> 1.009463e-04</td></tr>\n",
       "</tbody>\n",
       "</table>\n"
      ],
      "text/latex": [
       "A matrix: 6 × 6 of type dbl\n",
       "\\begin{tabular}{r|llllll}\n",
       "  & PC1 & PC2 & PC3 &  &  & \\\\\n",
       "\\hline\n",
       "\tPC1 &  4.336307e-03 & -1.030730e-19 & -8.905745e-21 & -2.582393e-03 &  2.358386e-03 &  6.458261e-05\\\\\n",
       "\tPC2 & -1.030730e-19 &  2.430722e-04 &  1.148316e-21 & -3.789591e-05 & -4.886520e-06 &  9.726226e-07\\\\\n",
       "\tPC3 & -8.905745e-21 &  1.148316e-21 &  1.750080e-04 &  4.854957e-05 &  2.616404e-05 &  7.251599e-06\\\\\n",
       "\t & -2.582393e-03 & -3.789591e-05 &  4.854957e-05 &  2.482075e-03 & -1.656342e-03 & -4.348415e-05\\\\\n",
       "\t &  2.358386e-03 & -4.886520e-06 &  2.616404e-05 & -1.656342e-03 &  1.687639e-03 &  2.489407e-05\\\\\n",
       "\t &  6.458261e-05 &  9.726226e-07 &  7.251599e-06 & -4.348415e-05 &  2.489407e-05 &  1.009463e-04\\\\\n",
       "\\end{tabular}\n"
      ],
      "text/markdown": [
       "\n",
       "A matrix: 6 × 6 of type dbl\n",
       "\n",
       "| <!--/--> | PC1 | PC2 | PC3 | <!----> | <!----> | <!----> |\n",
       "|---|---|---|---|---|---|---|\n",
       "| PC1 |  4.336307e-03 | -1.030730e-19 | -8.905745e-21 | -2.582393e-03 |  2.358386e-03 |  6.458261e-05 |\n",
       "| PC2 | -1.030730e-19 |  2.430722e-04 |  1.148316e-21 | -3.789591e-05 | -4.886520e-06 |  9.726226e-07 |\n",
       "| PC3 | -8.905745e-21 |  1.148316e-21 |  1.750080e-04 |  4.854957e-05 |  2.616404e-05 |  7.251599e-06 |\n",
       "| <!----> | -2.582393e-03 | -3.789591e-05 |  4.854957e-05 |  2.482075e-03 | -1.656342e-03 | -4.348415e-05 |\n",
       "| <!----> |  2.358386e-03 | -4.886520e-06 |  2.616404e-05 | -1.656342e-03 |  1.687639e-03 |  2.489407e-05 |\n",
       "| <!----> |  6.458261e-05 |  9.726226e-07 |  7.251599e-06 | -4.348415e-05 |  2.489407e-05 |  1.009463e-04 |\n",
       "\n"
      ],
      "text/plain": [
       "    PC1           PC2           PC3                                      \n",
       "PC1  4.336307e-03 -1.030730e-19 -8.905745e-21 -2.582393e-03  2.358386e-03\n",
       "PC2 -1.030730e-19  2.430722e-04  1.148316e-21 -3.789591e-05 -4.886520e-06\n",
       "PC3 -8.905745e-21  1.148316e-21  1.750080e-04  4.854957e-05  2.616404e-05\n",
       "    -2.582393e-03 -3.789591e-05  4.854957e-05  2.482075e-03 -1.656342e-03\n",
       "     2.358386e-03 -4.886520e-06  2.616404e-05 -1.656342e-03  1.687639e-03\n",
       "     6.458261e-05  9.726226e-07  7.251599e-06 -4.348415e-05  2.489407e-05\n",
       "                 \n",
       "PC1  6.458261e-05\n",
       "PC2  9.726226e-07\n",
       "PC3  7.251599e-06\n",
       "    -4.348415e-05\n",
       "     2.489407e-05\n",
       "     1.009463e-04"
      ]
     },
     "metadata": {},
     "output_type": "display_data"
    }
   ],
   "source": [
    "cross_cov"
   ]
  },
  {
   "cell_type": "code",
   "execution_count": 17,
   "id": "018f87a6-3180-41ae-9933-8ea8ee9baafd",
   "metadata": {},
   "outputs": [],
   "source": [
    "cross_corr = cov_to_cor(cross_cov);"
   ]
  },
  {
   "cell_type": "code",
   "execution_count": 18,
   "id": "63d0aad3-9b34-4c45-9379-6feafdff93f0",
   "metadata": {},
   "outputs": [
    {
     "data": {
      "text/html": [
       "<table class=\"dataframe\">\n",
       "<caption>A matrix: 6 × 6 of type dbl</caption>\n",
       "<thead>\n",
       "\t<tr><th></th><th scope=col>PC1</th><th scope=col>PC2</th><th scope=col>PC3</th><th scope=col></th><th scope=col></th><th scope=col></th></tr>\n",
       "</thead>\n",
       "<tbody>\n",
       "\t<tr><th scope=row>PC1</th><td> 1.000000e+00</td><td>-1.003962e-16</td><td>-1.022307e-17</td><td>-0.78714539</td><td> 0.871796528</td><td> 0.09761361</td></tr>\n",
       "\t<tr><th scope=row>PC2</th><td>-1.003962e-16</td><td> 1.000000e+00</td><td> 5.567557e-18</td><td>-0.04878847</td><td>-0.007629431</td><td> 0.00620914</td></tr>\n",
       "\t<tr><th scope=row>PC3</th><td>-1.022307e-17</td><td> 5.567557e-18</td><td> 1.000000e+00</td><td> 0.07366292</td><td> 0.048143326</td><td> 0.05455814</td></tr>\n",
       "\t<tr><th scope=row></th><td>-7.871454e-01</td><td>-4.878847e-02</td><td> 7.366292e-02</td><td> 1.00000000</td><td>-0.809287458</td><td>-0.08687170</td></tr>\n",
       "\t<tr><th scope=row></th><td> 8.717965e-01</td><td>-7.629431e-03</td><td> 4.814333e-02</td><td>-0.80928746</td><td> 1.000000000</td><td> 0.06031298</td></tr>\n",
       "\t<tr><th scope=row></th><td> 9.761361e-02</td><td> 6.209140e-03</td><td> 5.455814e-02</td><td>-0.08687170</td><td> 0.060312985</td><td> 1.00000000</td></tr>\n",
       "</tbody>\n",
       "</table>\n"
      ],
      "text/latex": [
       "A matrix: 6 × 6 of type dbl\n",
       "\\begin{tabular}{r|llllll}\n",
       "  & PC1 & PC2 & PC3 &  &  & \\\\\n",
       "\\hline\n",
       "\tPC1 &  1.000000e+00 & -1.003962e-16 & -1.022307e-17 & -0.78714539 &  0.871796528 &  0.09761361\\\\\n",
       "\tPC2 & -1.003962e-16 &  1.000000e+00 &  5.567557e-18 & -0.04878847 & -0.007629431 &  0.00620914\\\\\n",
       "\tPC3 & -1.022307e-17 &  5.567557e-18 &  1.000000e+00 &  0.07366292 &  0.048143326 &  0.05455814\\\\\n",
       "\t & -7.871454e-01 & -4.878847e-02 &  7.366292e-02 &  1.00000000 & -0.809287458 & -0.08687170\\\\\n",
       "\t &  8.717965e-01 & -7.629431e-03 &  4.814333e-02 & -0.80928746 &  1.000000000 &  0.06031298\\\\\n",
       "\t &  9.761361e-02 &  6.209140e-03 &  5.455814e-02 & -0.08687170 &  0.060312985 &  1.00000000\\\\\n",
       "\\end{tabular}\n"
      ],
      "text/markdown": [
       "\n",
       "A matrix: 6 × 6 of type dbl\n",
       "\n",
       "| <!--/--> | PC1 | PC2 | PC3 | <!----> | <!----> | <!----> |\n",
       "|---|---|---|---|---|---|---|\n",
       "| PC1 |  1.000000e+00 | -1.003962e-16 | -1.022307e-17 | -0.78714539 |  0.871796528 |  0.09761361 |\n",
       "| PC2 | -1.003962e-16 |  1.000000e+00 |  5.567557e-18 | -0.04878847 | -0.007629431 |  0.00620914 |\n",
       "| PC3 | -1.022307e-17 |  5.567557e-18 |  1.000000e+00 |  0.07366292 |  0.048143326 |  0.05455814 |\n",
       "| <!----> | -7.871454e-01 | -4.878847e-02 |  7.366292e-02 |  1.00000000 | -0.809287458 | -0.08687170 |\n",
       "| <!----> |  8.717965e-01 | -7.629431e-03 |  4.814333e-02 | -0.80928746 |  1.000000000 |  0.06031298 |\n",
       "| <!----> |  9.761361e-02 |  6.209140e-03 |  5.455814e-02 | -0.08687170 |  0.060312985 |  1.00000000 |\n",
       "\n"
      ],
      "text/plain": [
       "    PC1           PC2           PC3                                   \n",
       "PC1  1.000000e+00 -1.003962e-16 -1.022307e-17 -0.78714539  0.871796528\n",
       "PC2 -1.003962e-16  1.000000e+00  5.567557e-18 -0.04878847 -0.007629431\n",
       "PC3 -1.022307e-17  5.567557e-18  1.000000e+00  0.07366292  0.048143326\n",
       "    -7.871454e-01 -4.878847e-02  7.366292e-02  1.00000000 -0.809287458\n",
       "     8.717965e-01 -7.629431e-03  4.814333e-02 -0.80928746  1.000000000\n",
       "     9.761361e-02  6.209140e-03  5.455814e-02 -0.08687170  0.060312985\n",
       "               \n",
       "PC1  0.09761361\n",
       "PC2  0.00620914\n",
       "PC3  0.05455814\n",
       "    -0.08687170\n",
       "     0.06031298\n",
       "     1.00000000"
      ]
     },
     "metadata": {},
     "output_type": "display_data"
    }
   ],
   "source": [
    "cross_corr"
   ]
  },
  {
   "cell_type": "code",
   "execution_count": 19,
   "id": "5e0e4ee0-d1dd-4b0a-8e5e-b97f1af0d80f",
   "metadata": {},
   "outputs": [
    {
     "data": {
      "text/html": [
       "<style>\n",
       ".list-inline {list-style: none; margin:0; padding: 0}\n",
       ".list-inline>li {display: inline-block}\n",
       ".list-inline>li:not(:last-child)::after {content: \"\\00b7\"; padding: 0 .5ex}\n",
       "</style>\n",
       "<ol class=list-inline><li>6</li><li>6</li></ol>\n"
      ],
      "text/latex": [
       "\\begin{enumerate*}\n",
       "\\item 6\n",
       "\\item 6\n",
       "\\end{enumerate*}\n"
      ],
      "text/markdown": [
       "1. 6\n",
       "2. 6\n",
       "\n",
       "\n"
      ],
      "text/plain": [
       "[1] 6 6"
      ]
     },
     "metadata": {},
     "output_type": "display_data"
    }
   ],
   "source": [
    "dim(cross_cov)"
   ]
  },
  {
   "cell_type": "code",
   "execution_count": 20,
   "id": "9ff5cde6-4c9c-4a77-a3d2-790e8628b346",
   "metadata": {
    "tags": []
   },
   "outputs": [
    {
     "data": {
      "image/png": "[encoded data removed]",
      "text/plain": [
       "plot without title"
      ]
     },
     "metadata": {
      "image/png": {
       "height": 420,
       "width": 420
      }
     },
     "output_type": "display_data"
    }
   ],
   "source": [
    "heatmap(cross_corr, Colv = NA, Rowv = NA, symm = TRUE)"
   ]
  },
  {
   "cell_type": "code",
   "execution_count": 21,
   "id": "8e791b3c-3270-4161-af90-72af40341538",
   "metadata": {},
   "outputs": [],
   "source": [
    "ewm_pca_df = data.frame(ewm_pca)"
   ]
  },
  {
   "cell_type": "code",
   "execution_count": 22,
   "id": "aa271e17-7071-4955-8fd8-b69d0af9ac0b",
   "metadata": {},
   "outputs": [],
   "source": [
    "names(ewm_pca_df) = c(\"pc1\", \"pc2\", \"pc3\")"
   ]
  },
  {
   "cell_type": "code",
   "execution_count": 23,
   "id": "62c1f14f-9e66-469d-b209-c419d5bb4c88",
   "metadata": {},
   "outputs": [],
   "source": [
    "ewm_pca_df$ISIG = df[,4];\n",
    "ewm_pca_df$AAPL = df[,5];"
   ]
  },
  {
   "cell_type": "code",
   "execution_count": 24,
   "id": "db5b8d5a-9676-4149-916e-0dd346bf811d",
   "metadata": {},
   "outputs": [
    {
     "data": {
      "text/plain": [
       "\n",
       "Call:  glm(formula = ISIG ~ pc1, data = ewm_pca_df)\n",
       "\n",
       "Coefficients:\n",
       "(Intercept)          pc1  \n",
       " -0.0002588    0.0205016  \n",
       "\n",
       "Degrees of Freedom: 3402 Total (i.e. Null);  3401 Residual\n",
       "Null Deviance:\t    6.879 \n",
       "Residual Deviance: 6.876 \tAIC: -11450"
      ]
     },
     "metadata": {},
     "output_type": "display_data"
    }
   ],
   "source": [
    "T = dim(ewm_pca_df)[1];\n",
    "glm(ISIG ~ pc1, data = ewm_pca_df)"
   ]
  },
  {
   "cell_type": "code",
   "execution_count": 25,
   "id": "385b962d-9a78-4734-9298-eaed159557d6",
   "metadata": {},
   "outputs": [
    {
     "data": {
      "text/plain": [
       "\n",
       "Call:  glm(formula = ISIG ~ pc2, data = ewm_pca_df)\n",
       "\n",
       "Coefficients:\n",
       "(Intercept)          pc2  \n",
       " -0.0002555    0.0088406  \n",
       "\n",
       "Degrees of Freedom: 3402 Total (i.e. Null);  3401 Residual\n",
       "Null Deviance:\t    6.879 \n",
       "Residual Deviance: 6.879 \tAIC: -11450"
      ]
     },
     "metadata": {},
     "output_type": "display_data"
    }
   ],
   "source": [
    "glm(ISIG ~ pc2, data = ewm_pca_df)"
   ]
  },
  {
   "cell_type": "code",
   "execution_count": 26,
   "id": "a3b8bf6b-3261-4ac2-8b5b-8e7859044ec0",
   "metadata": {},
   "outputs": [
    {
     "data": {
      "text/plain": [
       "\n",
       "Call:  glm(formula = ISIG ~ pc3, data = ewm_pca_df)\n",
       "\n",
       "Coefficients:\n",
       "(Intercept)          pc3  \n",
       " -0.0002353    0.0828071  \n",
       "\n",
       "Degrees of Freedom: 3402 Total (i.e. Null);  3401 Residual\n",
       "Null Deviance:\t    6.879 \n",
       "Residual Deviance: 6.877 \tAIC: -11450"
      ]
     },
     "metadata": {},
     "output_type": "display_data"
    }
   ],
   "source": [
    "glm(ISIG ~ pc3, data = ewm_pca_df)"
   ]
  },
  {
   "cell_type": "code",
   "execution_count": 27,
   "id": "8ca2f667-d615-4009-a12e-cd021683bb81",
   "metadata": {},
   "outputs": [
    {
     "data": {
      "text/plain": [
       "\n",
       "Call:  glm(formula = ISIG ~ pc1 + pc2 + pc3, data = ewm_pca_df)\n",
       "\n",
       "Coefficients:\n",
       "(Intercept)          pc1          pc2          pc3  \n",
       " -0.0002592    0.0786447    0.0846135    0.0958182  \n",
       "\n",
       "Degrees of Freedom: 3402 Total (i.e. Null);  3399 Residual\n",
       "Null Deviance:\t    6.879 \n",
       "Residual Deviance: 6.859 \tAIC: -11450"
      ]
     },
     "metadata": {},
     "output_type": "display_data"
    }
   ],
   "source": [
    "glm(ISIG ~ pc1 + pc2 + pc3, data = ewm_pca_df)"
   ]
  },
  {
   "cell_type": "code",
   "execution_count": 28,
   "id": "69c71f4a-15ad-4d53-9ffb-a4ba24288871",
   "metadata": {},
   "outputs": [
    {
     "data": {
      "text/html": [
       "<table class=\"dataframe\">\n",
       "<caption>A matrix: 3 × 3 of type dbl</caption>\n",
       "<tbody>\n",
       "\t<tr><td> 1.0000000</td><td>-0.80928746</td><td>-0.08687170</td></tr>\n",
       "\t<tr><td>-0.8092875</td><td> 1.00000000</td><td> 0.06031298</td></tr>\n",
       "\t<tr><td>-0.0868717</td><td> 0.06031298</td><td> 1.00000000</td></tr>\n",
       "</tbody>\n",
       "</table>\n"
      ],
      "text/latex": [
       "A matrix: 3 × 3 of type dbl\n",
       "\\begin{tabular}{lll}\n",
       "\t  1.0000000 & -0.80928746 & -0.08687170\\\\\n",
       "\t -0.8092875 &  1.00000000 &  0.06031298\\\\\n",
       "\t -0.0868717 &  0.06031298 &  1.00000000\\\\\n",
       "\\end{tabular}\n"
      ],
      "text/markdown": [
       "\n",
       "A matrix: 3 × 3 of type dbl\n",
       "\n",
       "|  1.0000000 | -0.80928746 | -0.08687170 |\n",
       "| -0.8092875 |  1.00000000 |  0.06031298 |\n",
       "| -0.0868717 |  0.06031298 |  1.00000000 |\n",
       "\n"
      ],
      "text/plain": [
       "     [,1]       [,2]        [,3]       \n",
       "[1,]  1.0000000 -0.80928746 -0.08687170\n",
       "[2,] -0.8092875  1.00000000  0.06031298\n",
       "[3,] -0.0868717  0.06031298  1.00000000"
      ]
     },
     "metadata": {},
     "output_type": "display_data"
    }
   ],
   "source": [
    "cor(ewm_pca)"
   ]
  },
  {
   "cell_type": "code",
   "execution_count": 29,
   "id": "c2ed0124-09e6-4e20-b5f9-0dae02084ee1",
   "metadata": {},
   "outputs": [
    {
     "data": {
      "text/plain": [
       "\n",
       "Call:  glm(formula = AAPL ~ pc1, data = ewm_pca_df)\n",
       "\n",
       "Coefficients:\n",
       "(Intercept)          pc1  \n",
       "  0.0009022    0.0172204  \n",
       "\n",
       "Degrees of Freedom: 3402 Total (i.e. Null);  3401 Residual\n",
       "Null Deviance:\t    1.419 \n",
       "Residual Deviance: 1.416 \tAIC: -16830"
      ]
     },
     "metadata": {},
     "output_type": "display_data"
    }
   ],
   "source": [
    "glm(AAPL ~ pc1, data = ewm_pca_df)"
   ]
  },
  {
   "cell_type": "code",
   "execution_count": 30,
   "id": "c40397ca-99d7-4a7c-8f59-37b69b2bcdaf",
   "metadata": {},
   "outputs": [
    {
     "data": {
      "text/plain": [
       "\n",
       "Call:  glm(formula = AAPL ~ pc2, data = ewm_pca_df)\n",
       "\n",
       "Coefficients:\n",
       "(Intercept)          pc2  \n",
       "  0.0009034    0.0208989  \n",
       "\n",
       "Degrees of Freedom: 3402 Total (i.e. Null);  3401 Residual\n",
       "Null Deviance:\t    1.419 \n",
       "Residual Deviance: 1.416 \tAIC: -16830"
      ]
     },
     "metadata": {},
     "output_type": "display_data"
    }
   ],
   "source": [
    "glm(AAPL ~ pc2, data = ewm_pca_df)"
   ]
  },
  {
   "cell_type": "code",
   "execution_count": 31,
   "id": "b8c55166-1565-4da9-90f1-ec304485b984",
   "metadata": {},
   "outputs": [
    {
     "data": {
      "text/plain": [
       "\n",
       "Call:  glm(formula = AAPL ~ pc3, data = ewm_pca_df)\n",
       "\n",
       "Coefficients:\n",
       "(Intercept)          pc3  \n",
       "  0.0009242    0.0794165  \n",
       "\n",
       "Degrees of Freedom: 3402 Total (i.e. Null);  3401 Residual\n",
       "Null Deviance:\t    1.419 \n",
       "Residual Deviance: 1.417 \tAIC: -16830"
      ]
     },
     "metadata": {},
     "output_type": "display_data"
    }
   ],
   "source": [
    "glm(AAPL ~ pc3, data = ewm_pca_df)"
   ]
  },
  {
   "cell_type": "code",
   "execution_count": 32,
   "id": "0e7dfcff-d20f-457e-a732-501a6c864c9b",
   "metadata": {},
   "outputs": [
    {
     "data": {
      "text/plain": [
       "\n",
       "Call:  glm(formula = AAPL ~ pc1 + pc2 + pc3, data = ewm_pca_df)\n",
       "\n",
       "Coefficients:\n",
       "(Intercept)          pc1          pc2          pc3  \n",
       "  0.0008943    0.0923712    0.1101995    0.0920308  \n",
       "\n",
       "Degrees of Freedom: 3402 Total (i.e. Null);  3399 Residual\n",
       "Null Deviance:\t    1.419 \n",
       "Residual Deviance: 1.39 \tAIC: -16890"
      ]
     },
     "metadata": {},
     "output_type": "display_data"
    }
   ],
   "source": [
    "glm(AAPL ~ pc1 + pc2 + pc3, data = ewm_pca_df)"
   ]
  },
  {
   "cell_type": "code",
   "execution_count": 33,
   "id": "98975b86-e336-4069-999d-77cdde629825",
   "metadata": {},
   "outputs": [],
   "source": [
    "class_pca_df = data.frame(classical_pca)"
   ]
  },
  {
   "cell_type": "code",
   "execution_count": 34,
   "id": "bea89607-3e79-4715-8b8c-6e4a85fa6c8c",
   "metadata": {},
   "outputs": [],
   "source": [
    "names(class_pca_df) = c(\"pc1\", \"pc2\", \"pc3\")"
   ]
  },
  {
   "cell_type": "code",
   "execution_count": 35,
   "id": "d698cd7c-c7ba-445a-9679-5abb22bd8b3e",
   "metadata": {
    "tags": []
   },
   "outputs": [],
   "source": [
    "class_pca_df$ISIG = df[,4];\n",
    "class_pca_df$AAPL = df[,5];"
   ]
  },
  {
   "cell_type": "code",
   "execution_count": 36,
   "id": "13d0aaf6-3426-4178-9530-9b8df44d7941",
   "metadata": {
    "tags": []
   },
   "outputs": [
    {
     "data": {
      "text/plain": [
       "\n",
       "Call:  glm(formula = ISIG ~ pc1, data = class_pca_df)\n",
       "\n",
       "Coefficients:\n",
       "(Intercept)          pc1  \n",
       " -0.0002544   -0.0054956  \n",
       "\n",
       "Degrees of Freedom: 3402 Total (i.e. Null);  3401 Residual\n",
       "Null Deviance:\t    6.879 \n",
       "Residual Deviance: 6.879 \tAIC: -11450"
      ]
     },
     "metadata": {},
     "output_type": "display_data"
    }
   ],
   "source": [
    "glm(ISIG ~ pc1, data = class_pca_df)"
   ]
  },
  {
   "cell_type": "code",
   "execution_count": 37,
   "id": "83370068-a5f7-4461-bbd1-94c797a8bf15",
   "metadata": {},
   "outputs": [
    {
     "data": {
      "text/plain": [
       "\n",
       "Call:  glm(formula = ISIG ~ pc2, data = class_pca_df)\n",
       "\n",
       "Coefficients:\n",
       "(Intercept)          pc2  \n",
       " -0.0002544   -0.0068000  \n",
       "\n",
       "Degrees of Freedom: 3402 Total (i.e. Null);  3401 Residual\n",
       "Null Deviance:\t    6.879 \n",
       "Residual Deviance: 6.879 \tAIC: -11450"
      ]
     },
     "metadata": {},
     "output_type": "display_data"
    }
   ],
   "source": [
    "glm(ISIG ~ pc2, data = class_pca_df)"
   ]
  },
  {
   "cell_type": "code",
   "execution_count": 38,
   "id": "d6fe7c40-44b4-49d3-b311-3331d9f91bf6",
   "metadata": {},
   "outputs": [
    {
     "data": {
      "text/plain": [
       "\n",
       "Call:  glm(formula = ISIG ~ pc3, data = class_pca_df)\n",
       "\n",
       "Coefficients:\n",
       "(Intercept)          pc3  \n",
       " -0.0002544    0.3604310  \n",
       "\n",
       "Degrees of Freedom: 3402 Total (i.e. Null);  3401 Residual\n",
       "Null Deviance:\t    6.879 \n",
       "Residual Deviance: 6.802 \tAIC: -11490"
      ]
     },
     "metadata": {},
     "output_type": "display_data"
    }
   ],
   "source": [
    "glm(ISIG ~ pc3, data = class_pca_df)"
   ]
  },
  {
   "cell_type": "code",
   "execution_count": 39,
   "id": "d6b92409-486a-499b-bb4d-7bcfd8ad1c46",
   "metadata": {},
   "outputs": [
    {
     "data": {
      "text/plain": [
       "\n",
       "Call:  glm(formula = ISIG ~ pc1 + pc2 + pc3, data = class_pca_df)\n",
       "\n",
       "Coefficients:\n",
       "(Intercept)          pc1          pc2          pc3  \n",
       " -0.0002544   -0.0054956   -0.0068000    0.3604310  \n",
       "\n",
       "Degrees of Freedom: 3402 Total (i.e. Null);  3399 Residual\n",
       "Null Deviance:\t    6.879 \n",
       "Residual Deviance: 6.801 \tAIC: -11480"
      ]
     },
     "metadata": {},
     "output_type": "display_data"
    }
   ],
   "source": [
    "glm(ISIG ~ pc1 + pc2 + pc3, data = class_pca_df)"
   ]
  },
  {
   "cell_type": "code",
   "execution_count": 40,
   "id": "d64340c4-e36c-4d6c-ac2e-31d72d7afab4",
   "metadata": {},
   "outputs": [
    {
     "data": {
      "text/plain": [
       "\n",
       "Call:  glm(formula = AAPL ~ pc1, data = class_pca_df)\n",
       "\n",
       "Coefficients:\n",
       "(Intercept)          pc1  \n",
       "  0.0009059    0.0058188  \n",
       "\n",
       "Degrees of Freedom: 3402 Total (i.e. Null);  3401 Residual\n",
       "Null Deviance:\t    1.419 \n",
       "Residual Deviance: 1.418 \tAIC: -16820"
      ]
     },
     "metadata": {},
     "output_type": "display_data"
    }
   ],
   "source": [
    "glm(AAPL ~ pc1, data = class_pca_df)"
   ]
  },
  {
   "cell_type": "code",
   "execution_count": 41,
   "id": "827999b2-fa79-451e-99a6-22fef6daf84a",
   "metadata": {},
   "outputs": [
    {
     "data": {
      "text/html": [
       "6.7439601452676"
      ],
      "text/latex": [
       "6.7439601452676"
      ],
      "text/markdown": [
       "6.7439601452676"
      ],
      "text/plain": [
       "[1] 6.74396"
      ]
     },
     "metadata": {},
     "output_type": "display_data"
    }
   ],
   "source": [
    "norm(classical_pca - ewm_pca, type = \"2\")"
   ]
  },
  {
   "cell_type": "code",
   "execution_count": 42,
   "id": "aaed0898-e421-4039-9675-10c2d20967f1",
   "metadata": {},
   "outputs": [
    {
     "data": {
      "text/html": [
       "2.20602823844561"
      ],
      "text/latex": [
       "2.20602823844561"
      ],
      "text/markdown": [
       "2.20602823844561"
      ],
      "text/plain": [
       "[1] 2.206028"
      ]
     },
     "metadata": {},
     "output_type": "display_data"
    }
   ],
   "source": [
    "max(classical_pca - ewm_pca)"
   ]
  },
  {
   "cell_type": "code",
   "execution_count": 43,
   "id": "ab534e52-6399-46c6-aa4b-50a3ff2f3fdc",
   "metadata": {},
   "outputs": [
    {
     "data": {
      "text/html": [
       "2.48659917062694"
      ],
      "text/latex": [
       "2.48659917062694"
      ],
      "text/markdown": [
       "2.48659917062694"
      ],
      "text/plain": [
       "[1] 2.486599"
      ]
     },
     "metadata": {},
     "output_type": "display_data"
    }
   ],
   "source": [
    "max(ewm_pca)"
   ]
  },
  {
   "cell_type": "code",
   "execution_count": 44,
   "id": "c0a2ff83-40ce-4b5b-a011-8642e051cff4",
   "metadata": {},
   "outputs": [
    {
     "data": {
      "text/html": [
       "<style>\n",
       ".list-inline {list-style: none; margin:0; padding: 0}\n",
       ".list-inline>li {display: inline-block}\n",
       ".list-inline>li:not(:last-child)::after {content: \"\\00b7\"; padding: 0 .5ex}\n",
       "</style>\n",
       "<ol class=list-inline><li>3403</li><li>3</li></ol>\n"
      ],
      "text/latex": [
       "\\begin{enumerate*}\n",
       "\\item 3403\n",
       "\\item 3\n",
       "\\end{enumerate*}\n"
      ],
      "text/markdown": [
       "1. 3403\n",
       "2. 3\n",
       "\n",
       "\n"
      ],
      "text/plain": [
       "[1] 3403    3"
      ]
     },
     "metadata": {},
     "output_type": "display_data"
    }
   ],
   "source": [
    "dim(ewm_pca %*% t(Z$rotation))"
   ]
  },
  {
   "cell_type": "code",
   "execution_count": 45,
   "id": "0c2f2535-e8b1-412a-8799-e79f561c2d46",
   "metadata": {},
   "outputs": [
    {
     "data": {
      "text/html": [
       "<table class=\"dataframe\">\n",
       "<caption>A matrix: 3 × 3 of type dbl</caption>\n",
       "<thead>\n",
       "\t<tr><th></th><th scope=col>PC1</th><th scope=col>PC2</th><th scope=col>PC3</th></tr>\n",
       "</thead>\n",
       "<tbody>\n",
       "\t<tr><th scope=row>V1</th><td>0.001416263</td><td>-0.054746807</td><td> 0.998499265</td></tr>\n",
       "\t<tr><th scope=row>V2</th><td>0.006001752</td><td>-0.998481817</td><td>-0.054754363</td></tr>\n",
       "\t<tr><th scope=row>V3</th><td>0.999980986</td><td> 0.006070291</td><td>-0.001085536</td></tr>\n",
       "</tbody>\n",
       "</table>\n"
      ],
      "text/latex": [
       "A matrix: 3 × 3 of type dbl\n",
       "\\begin{tabular}{r|lll}\n",
       "  & PC1 & PC2 & PC3\\\\\n",
       "\\hline\n",
       "\tV1 & 0.001416263 & -0.054746807 &  0.998499265\\\\\n",
       "\tV2 & 0.006001752 & -0.998481817 & -0.054754363\\\\\n",
       "\tV3 & 0.999980986 &  0.006070291 & -0.001085536\\\\\n",
       "\\end{tabular}\n"
      ],
      "text/markdown": [
       "\n",
       "A matrix: 3 × 3 of type dbl\n",
       "\n",
       "| <!--/--> | PC1 | PC2 | PC3 |\n",
       "|---|---|---|---|\n",
       "| V1 | 0.001416263 | -0.054746807 |  0.998499265 |\n",
       "| V2 | 0.006001752 | -0.998481817 | -0.054754363 |\n",
       "| V3 | 0.999980986 |  0.006070291 | -0.001085536 |\n",
       "\n"
      ],
      "text/plain": [
       "   PC1         PC2          PC3         \n",
       "V1 0.001416263 -0.054746807  0.998499265\n",
       "V2 0.006001752 -0.998481817 -0.054754363\n",
       "V3 0.999980986  0.006070291 -0.001085536"
      ]
     },
     "metadata": {},
     "output_type": "display_data"
    }
   ],
   "source": [
    "Z$rotation"
   ]
  },
  {
   "cell_type": "code",
   "execution_count": 46,
   "id": "937a1a6d-618c-4fb2-88f2-4c8ee300effe",
   "metadata": {},
   "outputs": [
    {
     "data": {
      "text/html": [
       "<style>\n",
       ".list-inline {list-style: none; margin:0; padding: 0}\n",
       ".list-inline>li {display: inline-block}\n",
       ".list-inline>li:not(:last-child)::after {content: \"\\00b7\"; padding: 0 .5ex}\n",
       "</style>\n",
       "<ol class=list-inline><li>3403</li><li>5</li></ol>\n"
      ],
      "text/latex": [
       "\\begin{enumerate*}\n",
       "\\item 3403\n",
       "\\item 5\n",
       "\\end{enumerate*}\n"
      ],
      "text/markdown": [
       "1. 3403\n",
       "2. 5\n",
       "\n",
       "\n"
      ],
      "text/plain": [
       "[1] 3403    5"
      ]
     },
     "metadata": {},
     "output_type": "display_data"
    }
   ],
   "source": [
    "dim(df)"
   ]
  },
  {
   "cell_type": "code",
   "execution_count": 47,
   "id": "ec06fb02-10d8-4745-a3ba-004d290a4ed6",
   "metadata": {},
   "outputs": [
    {
     "data": {
      "text/html": [
       "2.01941048333442"
      ],
      "text/latex": [
       "2.01941048333442"
      ],
      "text/markdown": [
       "2.01941048333442"
      ],
      "text/plain": [
       "[1] 2.01941"
      ]
     },
     "metadata": {},
     "output_type": "display_data"
    }
   ],
   "source": [
    "norm(as.matrix(df[,1:3]) - ewm_pca %*% t(Z2$W), type=\"2\")"
   ]
  },
  {
   "cell_type": "code",
   "execution_count": 48,
   "id": "6b3ba372-f093-410d-9566-46b1b7c04d34",
   "metadata": {},
   "outputs": [
    {
     "data": {
      "text/html": [
       "0.216728691797618"
      ],
      "text/latex": [
       "0.216728691797618"
      ],
      "text/markdown": [
       "0.216728691797618"
      ],
      "text/plain": [
       "[1] 0.2167287"
      ]
     },
     "metadata": {},
     "output_type": "display_data"
    }
   ],
   "source": [
    "norm(as.matrix(df[1:100,1:3]) - (ewm_pca %*% t(Z2$W))[1:100,], type=\"2\")"
   ]
  },
  {
   "cell_type": "code",
   "execution_count": 49,
   "id": "f303996e-72bc-4861-aef1-ea0e617f1db7",
   "metadata": {},
   "outputs": [
    {
     "data": {
      "text/html": [
       "1.22107997302117"
      ],
      "text/latex": [
       "1.22107997302117"
      ],
      "text/markdown": [
       "1.22107997302117"
      ],
      "text/plain": [
       "[1] 1.22108"
      ]
     },
     "metadata": {},
     "output_type": "display_data"
    }
   ],
   "source": [
    "norm(as.matrix(df[1:1000,1:3]) - (ewm_pca %*% t(Z2$W))[1:1000,], type=\"2\")"
   ]
  },
  {
   "cell_type": "code",
   "execution_count": 50,
   "id": "c990e55f-6187-4b37-a9c7-b393e1083b49",
   "metadata": {},
   "outputs": [
    {
     "data": {
      "text/html": [
       "1.88563043691751"
      ],
      "text/latex": [
       "1.88563043691751"
      ],
      "text/markdown": [
       "1.88563043691751"
      ],
      "text/plain": [
       "[1] 1.88563"
      ]
     },
     "metadata": {},
     "output_type": "display_data"
    }
   ],
   "source": [
    "norm(as.matrix(df[1:3000,1:3]) - (ewm_pca %*% t(Z2$W))[1:3000,], type=\"2\")"
   ]
  },
  {
   "cell_type": "code",
   "execution_count": 51,
   "id": "efaf99ce-5270-4fc3-b154-204e40ecbad0",
   "metadata": {},
   "outputs": [
    {
     "data": {
      "text/html": [
       "0.0196530909762489"
      ],
      "text/latex": [
       "0.0196530909762489"
      ],
      "text/markdown": [
       "0.0196530909762489"
      ],
      "text/plain": [
       "[1] 0.01965309"
      ]
     },
     "metadata": {},
     "output_type": "display_data"
    }
   ],
   "source": [
    "norm(as.matrix(df[,1:3]) - classical_pca %*% t(Z$rotation), type=\"2\")"
   ]
  },
  {
   "cell_type": "code",
   "execution_count": 52,
   "id": "482f9429-f82b-4ddd-b506-875677c9850f",
   "metadata": {},
   "outputs": [],
   "source": [
    "comb_pca = data.frame(cbind(as.matrix(classical_pca), as.matrix(ewm_pca), df[,4], df[,5]));"
   ]
  },
  {
   "cell_type": "code",
   "execution_count": 53,
   "id": "4f134603-79d9-4d6e-b85e-693be5e19b03",
   "metadata": {},
   "outputs": [],
   "source": [
    "names(comb_pca) = c(\"pc1\", \"pc2\", \"pc3\", \"epc1\", \"epc2\", \"epc3\", \"ISIG\", \"AAPL\");"
   ]
  },
  {
   "cell_type": "code",
   "execution_count": 54,
   "id": "dbdd1aea-951c-405b-9db1-0f3b2ad36c61",
   "metadata": {},
   "outputs": [
    {
     "data": {
      "text/plain": [
       "\n",
       "Call:  glm(formula = AAPL ~ pc1 + epc1, data = comb_pca)\n",
       "\n",
       "Coefficients:\n",
       "(Intercept)          pc1         epc1  \n",
       "  0.0008928    0.0422554    0.0611836  \n",
       "\n",
       "Degrees of Freedom: 3402 Total (i.e. Null);  3400 Residual\n",
       "Null Deviance:\t    1.419 \n",
       "Residual Deviance: 1.406 \tAIC: -16850"
      ]
     },
     "metadata": {},
     "output_type": "display_data"
    }
   ],
   "source": [
    "glm(AAPL ~ pc1 + epc1, data = comb_pca)"
   ]
  },
  {
   "cell_type": "code",
   "execution_count": 55,
   "id": "03d34168-deea-4516-9bb0-e1d7cd43ae5f",
   "metadata": {},
   "outputs": [],
   "source": [
    "ewm_pca__ = ewmpca(df[,1:3], 0.9305, W_init);"
   ]
  },
  {
   "cell_type": "code",
   "execution_count": 56,
   "id": "8571eafa-58a2-4835-be9b-6a1d7380a60e",
   "metadata": {},
   "outputs": [
    {
     "data": {
      "text/html": [
       "0"
      ],
      "text/latex": [
       "0"
      ],
      "text/markdown": [
       "0"
      ],
      "text/plain": [
       "[1] 0"
      ]
     },
     "metadata": {},
     "output_type": "display_data"
    }
   ],
   "source": [
    "norm(ewm_pca__ - ewm_pca, type=\"2\")"
   ]
  },
  {
   "cell_type": "code",
   "execution_count": 57,
   "id": "5c5f45f3-38fa-44d5-8d43-db3561bee14f",
   "metadata": {},
   "outputs": [
    {
     "data": {
      "image/png": "[encoded data removed]",
      "text/plain": [
       "plot without title"
      ]
     },
     "metadata": {
      "image/png": {
       "height": 420,
       "width": 420
      }
     },
     "output_type": "display_data"
    }
   ],
   "source": [
    "cross_cov = cov(cbind(classical_pca, ewm_pca__));\n",
    "heatmap(cross_cov, Colv = NA, Rowv = NA, symm = TRUE)"
   ]
  },
  {
   "cell_type": "code",
   "execution_count": 58,
   "id": "03046fd9-6846-4f00-b4df-b7ba1b5e2ad3",
   "metadata": {},
   "outputs": [
    {
     "data": {
      "image/png": "[encoded data removed]",
      "text/plain": [
       "plot without title"
      ]
     },
     "metadata": {
      "image/png": {
       "height": 420,
       "width": 420
      }
     },
     "output_type": "display_data"
    }
   ],
   "source": [
    "cross_corr = cov_to_cor(cross_cov);\n",
    "heatmap(cross_corr, Colv = NA, Rowv = NA, symm = TRUE)"
   ]
  },
  {
   "cell_type": "code",
   "execution_count": null,
   "id": "bbb130fe-1cb3-4246-a019-3ef713b05777",
   "metadata": {},
   "outputs": [],
   "source": []
  }
 ],
 "metadata": {
  "kernelspec": {
   "display_name": "R",
   "language": "R",
   "name": "ir"
  },
  "language_info": {
   "codemirror_mode": "r",
   "file_extension": ".r",
   "mimetype": "text/x-r-source",
   "name": "R",
   "pygments_lexer": "r",
   "version": "4.1.2"
  }
 },
 "nbformat": 4,
 "nbformat_minor": 5
}
