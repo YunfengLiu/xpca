{
 "cells": [
  {
   "cell_type": "markdown",
   "id": "e3e6ea1d",
   "metadata": {},
   "source": [
    "# Exponentially weighted moving covariance"
   ]
  },
  {
   "cell_type": "code",
   "execution_count": 1,
   "id": "4acda990",
   "metadata": {},
   "outputs": [],
   "source": [
    "import os, sys"
   ]
  },
  {
   "cell_type": "code",
   "execution_count": 2,
   "id": "dfce6241",
   "metadata": {},
   "outputs": [],
   "source": [
    "import matplotlib.pyplot as plt\n",
    "import numpy as np\n",
    "import pandas as pd\n",
    "import seaborn as sns"
   ]
  },
  {
   "cell_type": "code",
   "execution_count": 3,
   "id": "695b9d8d",
   "metadata": {},
   "outputs": [],
   "source": [
    "import xpca"
   ]
  },
  {
   "cell_type": "code",
   "execution_count": 4,
   "id": "15c461ca",
   "metadata": {},
   "outputs": [],
   "source": [
    "first_year = 2008; last_year = 2020"
   ]
  },
  {
   "cell_type": "code",
   "execution_count": 5,
   "id": "ec605ad5",
   "metadata": {},
   "outputs": [],
   "source": [
    "df = pd.read_parquet('./data/equity_indices.parquet')"
   ]
  },
  {
   "cell_type": "code",
   "execution_count": 6,
   "id": "62c3487e",
   "metadata": {},
   "outputs": [],
   "source": [
    "df = df[str(first_year):str(last_year)]"
   ]
  },
  {
   "cell_type": "code",
   "execution_count": 7,
   "id": "35a99bb0",
   "metadata": {},
   "outputs": [
    {
     "data": {
      "text/html": [
       "<div>\n",
       "<style scoped>\n",
       "    .dataframe tbody tr th:only-of-type {\n",
       "        vertical-align: middle;\n",
       "    }\n",
       "\n",
       "    .dataframe tbody tr th {\n",
       "        vertical-align: top;\n",
       "    }\n",
       "\n",
       "    .dataframe thead th {\n",
       "        text-align: right;\n",
       "    }\n",
       "</style>\n",
       "<table border=\"1\" class=\"dataframe\">\n",
       "  <thead>\n",
       "    <tr style=\"text-align: right;\">\n",
       "      <th></th>\n",
       "      <th>DY</th>\n",
       "      <th>ES</th>\n",
       "      <th>EW</th>\n",
       "      <th>FX</th>\n",
       "      <th>MX</th>\n",
       "      <th>NQ</th>\n",
       "      <th>RTY</th>\n",
       "      <th>X</th>\n",
       "      <th>YM</th>\n",
       "    </tr>\n",
       "    <tr>\n",
       "      <th>Datetime</th>\n",
       "      <th></th>\n",
       "      <th></th>\n",
       "      <th></th>\n",
       "      <th></th>\n",
       "      <th></th>\n",
       "      <th></th>\n",
       "      <th></th>\n",
       "      <th></th>\n",
       "      <th></th>\n",
       "    </tr>\n",
       "  </thead>\n",
       "  <tbody>\n",
       "    <tr>\n",
       "      <th>2008-01-01 19:00:00</th>\n",
       "      <td>0.0</td>\n",
       "      <td>0.0</td>\n",
       "      <td>0.0</td>\n",
       "      <td>0.0</td>\n",
       "      <td>0.0</td>\n",
       "      <td>0.0</td>\n",
       "      <td>0.0</td>\n",
       "      <td>0.0</td>\n",
       "      <td>0.001823</td>\n",
       "    </tr>\n",
       "    <tr>\n",
       "      <th>2008-01-01 20:00:00</th>\n",
       "      <td>0.0</td>\n",
       "      <td>0.0</td>\n",
       "      <td>0.0</td>\n",
       "      <td>0.0</td>\n",
       "      <td>0.0</td>\n",
       "      <td>0.0</td>\n",
       "      <td>0.0</td>\n",
       "      <td>0.0</td>\n",
       "      <td>-0.000383</td>\n",
       "    </tr>\n",
       "    <tr>\n",
       "      <th>2008-01-01 21:00:00</th>\n",
       "      <td>0.0</td>\n",
       "      <td>0.0</td>\n",
       "      <td>0.0</td>\n",
       "      <td>0.0</td>\n",
       "      <td>0.0</td>\n",
       "      <td>0.0</td>\n",
       "      <td>0.0</td>\n",
       "      <td>0.0</td>\n",
       "      <td>0.000671</td>\n",
       "    </tr>\n",
       "    <tr>\n",
       "      <th>2008-01-01 22:00:00</th>\n",
       "      <td>0.0</td>\n",
       "      <td>0.0</td>\n",
       "      <td>0.0</td>\n",
       "      <td>0.0</td>\n",
       "      <td>0.0</td>\n",
       "      <td>0.0</td>\n",
       "      <td>0.0</td>\n",
       "      <td>0.0</td>\n",
       "      <td>-0.000862</td>\n",
       "    </tr>\n",
       "    <tr>\n",
       "      <th>2008-01-01 23:00:00</th>\n",
       "      <td>0.0</td>\n",
       "      <td>0.0</td>\n",
       "      <td>0.0</td>\n",
       "      <td>0.0</td>\n",
       "      <td>0.0</td>\n",
       "      <td>0.0</td>\n",
       "      <td>0.0</td>\n",
       "      <td>0.0</td>\n",
       "      <td>-0.001821</td>\n",
       "    </tr>\n",
       "  </tbody>\n",
       "</table>\n",
       "</div>"
      ],
      "text/plain": [
       "                      DY   ES   EW   FX   MX   NQ  RTY    X        YM\n",
       "Datetime                                                             \n",
       "2008-01-01 19:00:00  0.0  0.0  0.0  0.0  0.0  0.0  0.0  0.0  0.001823\n",
       "2008-01-01 20:00:00  0.0  0.0  0.0  0.0  0.0  0.0  0.0  0.0 -0.000383\n",
       "2008-01-01 21:00:00  0.0  0.0  0.0  0.0  0.0  0.0  0.0  0.0  0.000671\n",
       "2008-01-01 22:00:00  0.0  0.0  0.0  0.0  0.0  0.0  0.0  0.0 -0.000862\n",
       "2008-01-01 23:00:00  0.0  0.0  0.0  0.0  0.0  0.0  0.0  0.0 -0.001821"
      ]
     },
     "execution_count": 7,
     "metadata": {},
     "output_type": "execute_result"
    }
   ],
   "source": [
    "df.head()"
   ]
  },
  {
   "cell_type": "code",
   "execution_count": 8,
   "id": "7354a966",
   "metadata": {},
   "outputs": [
    {
     "data": {
      "text/html": [
       "<div>\n",
       "<style scoped>\n",
       "    .dataframe tbody tr th:only-of-type {\n",
       "        vertical-align: middle;\n",
       "    }\n",
       "\n",
       "    .dataframe tbody tr th {\n",
       "        vertical-align: top;\n",
       "    }\n",
       "\n",
       "    .dataframe thead th {\n",
       "        text-align: right;\n",
       "    }\n",
       "</style>\n",
       "<table border=\"1\" class=\"dataframe\">\n",
       "  <thead>\n",
       "    <tr style=\"text-align: right;\">\n",
       "      <th></th>\n",
       "      <th>DY</th>\n",
       "      <th>ES</th>\n",
       "      <th>EW</th>\n",
       "      <th>FX</th>\n",
       "      <th>MX</th>\n",
       "      <th>NQ</th>\n",
       "      <th>RTY</th>\n",
       "      <th>X</th>\n",
       "      <th>YM</th>\n",
       "    </tr>\n",
       "    <tr>\n",
       "      <th>Datetime</th>\n",
       "      <th></th>\n",
       "      <th></th>\n",
       "      <th></th>\n",
       "      <th></th>\n",
       "      <th></th>\n",
       "      <th></th>\n",
       "      <th></th>\n",
       "      <th></th>\n",
       "      <th></th>\n",
       "    </tr>\n",
       "  </thead>\n",
       "  <tbody>\n",
       "    <tr>\n",
       "      <th>2020-12-31 12:00:00</th>\n",
       "      <td>0.0</td>\n",
       "      <td>0.001415</td>\n",
       "      <td>0.001830</td>\n",
       "      <td>0.0</td>\n",
       "      <td>0.0</td>\n",
       "      <td>0.001778</td>\n",
       "      <td>0.000304</td>\n",
       "      <td>0.0</td>\n",
       "      <td>0.001128</td>\n",
       "    </tr>\n",
       "    <tr>\n",
       "      <th>2020-12-31 13:00:00</th>\n",
       "      <td>0.0</td>\n",
       "      <td>-0.000336</td>\n",
       "      <td>-0.000652</td>\n",
       "      <td>0.0</td>\n",
       "      <td>0.0</td>\n",
       "      <td>-0.000702</td>\n",
       "      <td>-0.000609</td>\n",
       "      <td>0.0</td>\n",
       "      <td>-0.000398</td>\n",
       "    </tr>\n",
       "    <tr>\n",
       "      <th>2020-12-31 14:00:00</th>\n",
       "      <td>0.0</td>\n",
       "      <td>0.002895</td>\n",
       "      <td>0.002132</td>\n",
       "      <td>0.0</td>\n",
       "      <td>0.0</td>\n",
       "      <td>0.002030</td>\n",
       "      <td>0.001827</td>\n",
       "      <td>0.0</td>\n",
       "      <td>0.003115</td>\n",
       "    </tr>\n",
       "    <tr>\n",
       "      <th>2020-12-31 15:00:00</th>\n",
       "      <td>0.0</td>\n",
       "      <td>0.002819</td>\n",
       "      <td>-0.002171</td>\n",
       "      <td>0.0</td>\n",
       "      <td>0.0</td>\n",
       "      <td>0.002182</td>\n",
       "      <td>-0.001216</td>\n",
       "      <td>0.0</td>\n",
       "      <td>0.002941</td>\n",
       "    </tr>\n",
       "    <tr>\n",
       "      <th>2020-12-31 16:00:00</th>\n",
       "      <td>0.0</td>\n",
       "      <td>0.001138</td>\n",
       "      <td>0.002785</td>\n",
       "      <td>0.0</td>\n",
       "      <td>0.0</td>\n",
       "      <td>0.001030</td>\n",
       "      <td>0.002080</td>\n",
       "      <td>0.0</td>\n",
       "      <td>0.000461</td>\n",
       "    </tr>\n",
       "  </tbody>\n",
       "</table>\n",
       "</div>"
      ],
      "text/plain": [
       "                      DY        ES        EW   FX   MX        NQ       RTY  \\\n",
       "Datetime                                                                     \n",
       "2020-12-31 12:00:00  0.0  0.001415  0.001830  0.0  0.0  0.001778  0.000304   \n",
       "2020-12-31 13:00:00  0.0 -0.000336 -0.000652  0.0  0.0 -0.000702 -0.000609   \n",
       "2020-12-31 14:00:00  0.0  0.002895  0.002132  0.0  0.0  0.002030  0.001827   \n",
       "2020-12-31 15:00:00  0.0  0.002819 -0.002171  0.0  0.0  0.002182 -0.001216   \n",
       "2020-12-31 16:00:00  0.0  0.001138  0.002785  0.0  0.0  0.001030  0.002080   \n",
       "\n",
       "                       X        YM  \n",
       "Datetime                            \n",
       "2020-12-31 12:00:00  0.0  0.001128  \n",
       "2020-12-31 13:00:00  0.0 -0.000398  \n",
       "2020-12-31 14:00:00  0.0  0.003115  \n",
       "2020-12-31 15:00:00  0.0  0.002941  \n",
       "2020-12-31 16:00:00  0.0  0.000461  "
      ]
     },
     "execution_count": 8,
     "metadata": {},
     "output_type": "execute_result"
    }
   ],
   "source": [
    "df.tail()"
   ]
  },
  {
   "cell_type": "code",
   "execution_count": 9,
   "id": "88e5d13e",
   "metadata": {},
   "outputs": [],
   "source": [
    "ewmcov = xpca.EWMCov(alpha=.9305)"
   ]
  },
  {
   "cell_type": "code",
   "execution_count": 10,
   "id": "0d439804",
   "metadata": {},
   "outputs": [],
   "source": [
    "xs = df.values"
   ]
  },
  {
   "cell_type": "code",
   "execution_count": 16,
   "id": "73e4649d",
   "metadata": {},
   "outputs": [],
   "source": [
    "n = np.shape(xs)[0]"
   ]
  },
  {
   "cell_type": "code",
   "execution_count": 18,
   "id": "362306aa-da72-431b-8ba4-e6cfdb4640f9",
   "metadata": {},
   "outputs": [
    {
     "data": {
      "text/plain": [
       "79541"
      ]
     },
     "execution_count": 18,
     "metadata": {},
     "output_type": "execute_result"
    }
   ],
   "source": [
    "n"
   ]
  },
  {
   "cell_type": "code",
   "execution_count": 12,
   "id": "b48d74c4",
   "metadata": {},
   "outputs": [],
   "source": [
    "means = []\n",
    "covs = []\n",
    "for i in range(n):\n",
    "    ewmcov.add(xs[i,:])\n",
    "    means.append(ewmcov.mean)\n",
    "    covs.append(ewmcov.cov)"
   ]
  },
  {
   "cell_type": "code",
   "execution_count": 24,
   "id": "555a5d3d-1ea5-46f9-b6ff-3f0c88df7ea7",
   "metadata": {},
   "outputs": [
    {
     "data": {
      "text/html": [
       "<div>\n",
       "<style scoped>\n",
       "    .dataframe tbody tr th:only-of-type {\n",
       "        vertical-align: middle;\n",
       "    }\n",
       "\n",
       "    .dataframe tbody tr th {\n",
       "        vertical-align: top;\n",
       "    }\n",
       "\n",
       "    .dataframe thead th {\n",
       "        text-align: right;\n",
       "    }\n",
       "</style>\n",
       "<table border=\"1\" class=\"dataframe\">\n",
       "  <thead>\n",
       "    <tr style=\"text-align: right;\">\n",
       "      <th></th>\n",
       "      <th>0</th>\n",
       "      <th>1</th>\n",
       "      <th>2</th>\n",
       "      <th>3</th>\n",
       "      <th>4</th>\n",
       "      <th>5</th>\n",
       "      <th>6</th>\n",
       "      <th>7</th>\n",
       "      <th>8</th>\n",
       "    </tr>\n",
       "  </thead>\n",
       "  <tbody>\n",
       "    <tr>\n",
       "      <th>0</th>\n",
       "      <td>3.398465e-07</td>\n",
       "      <td>1.786185e-07</td>\n",
       "      <td>4.137540e-07</td>\n",
       "      <td>2.680921e-07</td>\n",
       "      <td>1.738534e-07</td>\n",
       "      <td>2.234197e-08</td>\n",
       "      <td>4.598730e-07</td>\n",
       "      <td>1.777065e-07</td>\n",
       "      <td>2.027165e-07</td>\n",
       "    </tr>\n",
       "    <tr>\n",
       "      <th>1</th>\n",
       "      <td>1.786185e-07</td>\n",
       "      <td>1.327126e-06</td>\n",
       "      <td>5.232913e-07</td>\n",
       "      <td>1.574462e-07</td>\n",
       "      <td>4.458096e-07</td>\n",
       "      <td>1.147890e-06</td>\n",
       "      <td>8.849842e-07</td>\n",
       "      <td>8.199537e-07</td>\n",
       "      <td>1.230983e-06</td>\n",
       "    </tr>\n",
       "    <tr>\n",
       "      <th>2</th>\n",
       "      <td>4.137540e-07</td>\n",
       "      <td>5.232913e-07</td>\n",
       "      <td>4.680776e-06</td>\n",
       "      <td>3.633307e-07</td>\n",
       "      <td>-2.977985e-07</td>\n",
       "      <td>5.406052e-07</td>\n",
       "      <td>4.803346e-06</td>\n",
       "      <td>2.333393e-07</td>\n",
       "      <td>5.544413e-07</td>\n",
       "    </tr>\n",
       "    <tr>\n",
       "      <th>3</th>\n",
       "      <td>2.680921e-07</td>\n",
       "      <td>1.574462e-07</td>\n",
       "      <td>3.633307e-07</td>\n",
       "      <td>2.881826e-07</td>\n",
       "      <td>2.104064e-07</td>\n",
       "      <td>4.161843e-08</td>\n",
       "      <td>3.825550e-07</td>\n",
       "      <td>2.210555e-07</td>\n",
       "      <td>1.897774e-07</td>\n",
       "    </tr>\n",
       "    <tr>\n",
       "      <th>4</th>\n",
       "      <td>1.738534e-07</td>\n",
       "      <td>4.458096e-07</td>\n",
       "      <td>-2.977985e-07</td>\n",
       "      <td>2.104064e-07</td>\n",
       "      <td>1.996204e-06</td>\n",
       "      <td>1.743750e-07</td>\n",
       "      <td>6.398446e-07</td>\n",
       "      <td>1.457051e-06</td>\n",
       "      <td>3.846789e-07</td>\n",
       "    </tr>\n",
       "    <tr>\n",
       "      <th>5</th>\n",
       "      <td>2.234197e-08</td>\n",
       "      <td>1.147890e-06</td>\n",
       "      <td>5.406052e-07</td>\n",
       "      <td>4.161843e-08</td>\n",
       "      <td>1.743750e-07</td>\n",
       "      <td>1.646111e-06</td>\n",
       "      <td>8.276487e-07</td>\n",
       "      <td>3.254155e-07</td>\n",
       "      <td>8.785211e-07</td>\n",
       "    </tr>\n",
       "    <tr>\n",
       "      <th>6</th>\n",
       "      <td>4.598730e-07</td>\n",
       "      <td>8.849842e-07</td>\n",
       "      <td>4.803346e-06</td>\n",
       "      <td>3.825550e-07</td>\n",
       "      <td>6.398446e-07</td>\n",
       "      <td>8.276487e-07</td>\n",
       "      <td>6.294577e-06</td>\n",
       "      <td>1.187305e-06</td>\n",
       "      <td>8.855686e-07</td>\n",
       "    </tr>\n",
       "    <tr>\n",
       "      <th>7</th>\n",
       "      <td>1.777065e-07</td>\n",
       "      <td>8.199537e-07</td>\n",
       "      <td>2.333393e-07</td>\n",
       "      <td>2.210555e-07</td>\n",
       "      <td>1.457051e-06</td>\n",
       "      <td>3.254155e-07</td>\n",
       "      <td>1.187305e-06</td>\n",
       "      <td>3.277732e-06</td>\n",
       "      <td>6.640397e-07</td>\n",
       "    </tr>\n",
       "    <tr>\n",
       "      <th>8</th>\n",
       "      <td>2.027165e-07</td>\n",
       "      <td>1.230983e-06</td>\n",
       "      <td>5.544413e-07</td>\n",
       "      <td>1.897774e-07</td>\n",
       "      <td>3.846789e-07</td>\n",
       "      <td>8.785211e-07</td>\n",
       "      <td>8.855686e-07</td>\n",
       "      <td>6.640397e-07</td>\n",
       "      <td>1.352310e-06</td>\n",
       "    </tr>\n",
       "  </tbody>\n",
       "</table>\n",
       "</div>"
      ],
      "text/plain": [
       "              0             1             2             3             4  \\\n",
       "0  3.398465e-07  1.786185e-07  4.137540e-07  2.680921e-07  1.738534e-07   \n",
       "1  1.786185e-07  1.327126e-06  5.232913e-07  1.574462e-07  4.458096e-07   \n",
       "2  4.137540e-07  5.232913e-07  4.680776e-06  3.633307e-07 -2.977985e-07   \n",
       "3  2.680921e-07  1.574462e-07  3.633307e-07  2.881826e-07  2.104064e-07   \n",
       "4  1.738534e-07  4.458096e-07 -2.977985e-07  2.104064e-07  1.996204e-06   \n",
       "5  2.234197e-08  1.147890e-06  5.406052e-07  4.161843e-08  1.743750e-07   \n",
       "6  4.598730e-07  8.849842e-07  4.803346e-06  3.825550e-07  6.398446e-07   \n",
       "7  1.777065e-07  8.199537e-07  2.333393e-07  2.210555e-07  1.457051e-06   \n",
       "8  2.027165e-07  1.230983e-06  5.544413e-07  1.897774e-07  3.846789e-07   \n",
       "\n",
       "              5             6             7             8  \n",
       "0  2.234197e-08  4.598730e-07  1.777065e-07  2.027165e-07  \n",
       "1  1.147890e-06  8.849842e-07  8.199537e-07  1.230983e-06  \n",
       "2  5.406052e-07  4.803346e-06  2.333393e-07  5.544413e-07  \n",
       "3  4.161843e-08  3.825550e-07  2.210555e-07  1.897774e-07  \n",
       "4  1.743750e-07  6.398446e-07  1.457051e-06  3.846789e-07  \n",
       "5  1.646111e-06  8.276487e-07  3.254155e-07  8.785211e-07  \n",
       "6  8.276487e-07  6.294577e-06  1.187305e-06  8.855686e-07  \n",
       "7  3.254155e-07  1.187305e-06  3.277732e-06  6.640397e-07  \n",
       "8  8.785211e-07  8.855686e-07  6.640397e-07  1.352310e-06  "
      ]
     },
     "execution_count": 24,
     "metadata": {},
     "output_type": "execute_result"
    }
   ],
   "source": [
    "pd.DataFrame(data = covs[79540])"
   ]
  },
  {
   "cell_type": "code",
   "execution_count": 13,
   "id": "b692298e",
   "metadata": {},
   "outputs": [
    {
     "name": "stderr",
     "output_type": "stream",
     "text": [
      "<ipython-input-13-4cde05187d65>:10: RuntimeWarning: invalid value encountered in double_scalars\n",
      "  ax.plot(df.index, [c[idx_1,idx_2] / np.sqrt(c[idx_1,idx_1] * c[idx_2,idx_2]) for c in covs], linewidth=.5)\n"
     ]
    },
    {
     "data": {
      "image/png": "[encoded data removed]",
      "text/plain": [
       "<Figure size 864x216 with 3 Axes>"
      ]
     },
     "metadata": {
      "needs_background": "light"
     },
     "output_type": "display_data"
    }
   ],
   "source": [
    "idx_1 = 0; idx_2 = 1\n",
    "fig = plt.figure(figsize=(12, 3))\n",
    "ax = fig.add_subplot(131)\n",
    "ax.plot(df.index, [c[idx_1,idx_1] for c in covs], linewidth=.5)\n",
    "ax.set_title(f'Variance of {df.columns[idx_1]}')\n",
    "ax = fig.add_subplot(132)\n",
    "ax.plot(df.index, [c[idx_2,idx_2] for c in covs], linewidth=.5)\n",
    "ax.set_title(f'Variance of {df.columns[idx_2]}')\n",
    "ax = fig.add_subplot(133)\n",
    "ax.plot(df.index, [c[idx_1,idx_2] / np.sqrt(c[idx_1,idx_1] * c[idx_2,idx_2]) for c in covs], linewidth=.5)\n",
    "ax.set_title(f'Correlation of {df.columns[idx_1]} and {df.columns[idx_2]}')\n",
    "fig.tight_layout();"
   ]
  },
  {
   "cell_type": "code",
   "execution_count": 14,
   "id": "3f3a7a60",
   "metadata": {},
   "outputs": [],
   "source": [
    "sample_cov = np.cov(xs, rowvar=False)"
   ]
  },
  {
   "cell_type": "code",
   "execution_count": 15,
   "id": "d6f4e275",
   "metadata": {},
   "outputs": [
    {
     "data": {
      "image/png": "[encoded data removed]",
      "text/plain": [
       "<Figure size 864x216 with 6 Axes>"
      ]
     },
     "metadata": {
      "needs_background": "light"
     },
     "output_type": "display_data"
    }
   ],
   "source": [
    "fig = plt.figure(figsize=(12, 3))\n",
    "ax = fig.add_subplot(131)\n",
    "sns.heatmap(sample_cov, center=0., cmap='RdBu')\n",
    "ax.set_xticklabels(df.columns)\n",
    "ax.set_yticklabels(df.columns)\n",
    "ax.set_title('Sample covariance matrix')\n",
    "ax = fig.add_subplot(132)\n",
    "sns.heatmap(np.mean(np.stack(covs), axis=0), center=0., cmap='RdBu')\n",
    "ax.set_xticklabels(df.columns)\n",
    "ax.set_yticklabels(df.columns)\n",
    "ax.set_title('Mean EWM covariance matrix')\n",
    "ax = fig.add_subplot(133)\n",
    "sns.heatmap(covs[-1], center=0., cmap='RdBu')\n",
    "ax.set_xticklabels(df.columns)\n",
    "ax.set_yticklabels(df.columns)\n",
    "ax.set_title('Last EWM covariance matrix')\n",
    "fig.tight_layout();"
   ]
  }
 ],
 "metadata": {
  "kernelspec": {
   "display_name": "Python 3",
   "language": "python",
   "name": "python3"
  },
  "language_info": {
   "codemirror_mode": {
    "name": "ipython",
    "version": 3
   },
   "file_extension": ".py",
   "mimetype": "text/x-python",
   "name": "python",
   "nbconvert_exporter": "python",
   "pygments_lexer": "ipython3",
   "version": "3.9.5"
  }
 },
 "nbformat": 4,
 "nbformat_minor": 5
}
